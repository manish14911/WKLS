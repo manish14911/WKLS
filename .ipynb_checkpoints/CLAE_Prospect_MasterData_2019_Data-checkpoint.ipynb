{
 "cells": [
  {
   "cell_type": "code",
   "execution_count": 1,
   "metadata": {
    "ExecuteTime": {
     "end_time": "2020-07-08T11:24:17.994800Z",
     "start_time": "2020-07-08T11:24:12.073342Z"
    },
    "scrolled": false
   },
   "outputs": [],
   "source": [
    "import time\n",
    "import pandas as pd\n",
    "import logging\n",
    "import numpy as np\n",
    "import pandas as pd\n",
    "from pyxlsb import open_workbook as open_xlsb\n",
    "from os import listdir\n",
    "from os.path import isfile, join\n",
    "pd.set_option('display.max_rows', 40)\n",
    "pd.set_option('display.max_columns', 32)\n",
    "import shutil\n",
    "import os\n",
    "import datetime\n",
    "import sys\n",
    "sys.path.append('../src/')\n",
    "from final_script_risk_management import transform_entity_stat, transform_others, create_sum_by_sf, final_calculation, get_examples\n",
    "import warnings\n",
    "warnings.filterwarnings(\"ignore\")\n",
    "#logging.basicConfig(level=logging.DEBUG, filename=\"prospecting_tool.log\", filemode='a', format='%(asctime)s - %(message)s')"
   ]
  },
  {
   "cell_type": "code",
   "execution_count": 2,
   "metadata": {
    "ExecuteTime": {
     "end_time": "2020-07-08T11:25:24.945558Z",
     "start_time": "2020-07-08T11:24:17.996802Z"
    },
    "scrolled": false
   },
   "outputs": [],
   "source": [
    "#df_base= pd.read_excel(r\"../input/Prospect Analytics business case Model.xlsx\" , sheet_name = 'Template')\n",
    "map_match= pd.read_excel('../input/mapping_of_matching_category.xlsx')\n",
    "rep_assignment= pd.read_excel('../input/activity_status.xlsx', sheet_name='Rep Assignment')\n",
    "entity_status= pd.read_excel('../input/entity_status.xlsx')\n",
    "df_role= pd.read_excel(r\"../input/UserswithRoles.xlsx\" , sheet_name = 'Role_Mapping')\n",
    "df_prospects= pd.read_excel('../input/Prospects.xlsx')\n",
    "path_match=''\n",
    "book= pd.read_excel('../input/columns_required.xlsx')\n",
    "cols = list(book['columns'])"
   ]
  },
  {
   "cell_type": "code",
   "execution_count": 3,
   "metadata": {
    "ExecuteTime": {
     "end_time": "2020-07-08T11:25:38.394657Z",
     "start_time": "2020-07-08T11:25:24.946518Z"
    },
    "scrolled": false
   },
   "outputs": [],
   "source": [
    "df= pd.read_excel(r\"../input/Prospect Tracking 2019.xlsx\" , sheet_name = 'Template for Sumit')"
   ]
  },
  {
   "cell_type": "code",
   "execution_count": 4,
   "metadata": {
    "ExecuteTime": {
     "end_time": "2020-07-06T09:33:50.390124Z",
     "start_time": "2020-07-06T09:33:50.380123Z"
    },
    "scrolled": true
   },
   "outputs": [
    {
     "ename": "NameError",
     "evalue": "name 'df_base' is not defined",
     "output_type": "error",
     "traceback": [
      "\u001b[1;31m---------------------------------------------------------------------------\u001b[0m",
      "\u001b[1;31mNameError\u001b[0m                                 Traceback (most recent call last)",
      "\u001b[1;32m<ipython-input-4-93d0ddec6924>\u001b[0m in \u001b[0;36m<module>\u001b[1;34m\u001b[0m\n\u001b[1;32m----> 1\u001b[1;33m \u001b[0mset\u001b[0m\u001b[1;33m(\u001b[0m\u001b[0mlist\u001b[0m\u001b[1;33m(\u001b[0m\u001b[0mdf\u001b[0m\u001b[1;33m.\u001b[0m\u001b[0mcolumns\u001b[0m\u001b[1;33m)\u001b[0m\u001b[1;33m)\u001b[0m\u001b[1;33m-\u001b[0m \u001b[0mset\u001b[0m\u001b[1;33m(\u001b[0m\u001b[0mlist\u001b[0m\u001b[1;33m(\u001b[0m\u001b[0mdf_base\u001b[0m\u001b[1;33m.\u001b[0m\u001b[0mcolumns\u001b[0m\u001b[1;33m)\u001b[0m\u001b[1;33m)\u001b[0m\u001b[1;33m\u001b[0m\u001b[1;33m\u001b[0m\u001b[0m\n\u001b[0m",
      "\u001b[1;31mNameError\u001b[0m: name 'df_base' is not defined"
     ]
    }
   ],
   "source": [
    "#set(list(df.columns))- set(list(df_base.columns))"
   ]
  },
  {
   "cell_type": "code",
   "execution_count": 136,
   "metadata": {
    "ExecuteTime": {
     "end_time": "2020-07-06T09:33:50.399128Z",
     "start_time": "2020-07-06T09:33:50.393130Z"
    },
    "scrolled": false
   },
   "outputs": [],
   "source": [
    "# df = df.rename(columns= {'Public Record 2019 ': 'Public Record 2016', '% change 2019 vs. 2018': '% change 2017 vs. 2016', \n",
    "#                         'Public Record 2018': 'Public Rdcord 2018', 'Public Record 2019 ':'Public Record 2016'})"
   ]
  },
  {
   "cell_type": "code",
   "execution_count": 5,
   "metadata": {
    "ExecuteTime": {
     "end_time": "2020-07-06T09:33:50.410126Z",
     "start_time": "2020-07-06T09:33:50.402126Z"
    },
    "scrolled": false
   },
   "outputs": [],
   "source": [
    "df_base= df"
   ]
  },
  {
   "cell_type": "code",
   "execution_count": 6,
   "metadata": {
    "ExecuteTime": {
     "end_time": "2020-07-06T09:33:50.428123Z",
     "start_time": "2020-07-06T09:33:50.413127Z"
    },
    "scrolled": false
   },
   "outputs": [
    {
     "name": "stdout",
     "output_type": "stream",
     "text": [
      "1536\n"
     ]
    },
    {
     "data": {
      "text/plain": [
       "1458"
      ]
     },
     "execution_count": 6,
     "metadata": {},
     "output_type": "execute_result"
    }
   ],
   "source": [
    "df.shape\n",
    "print(len(df[df['Parent name (per 2018 PR)'].notnull()]))\n",
    "len(df[df['Parent name (per 2019 PR)'].notnull()])"
   ]
  },
  {
   "cell_type": "code",
   "execution_count": 7,
   "metadata": {
    "ExecuteTime": {
     "end_time": "2020-07-06T09:33:50.439156Z",
     "start_time": "2020-07-06T09:33:50.435122Z"
    },
    "scrolled": false
   },
   "outputs": [
    {
     "name": "stdout",
     "output_type": "stream",
     "text": [
      "Jul-13-2020\n"
     ]
    }
   ],
   "source": [
    "from datetime import date\n",
    "\n",
    "Date = date.today()\n",
    "Date = Date.strftime(\"%b-%d-%Y\")\n",
    "print(Date)"
   ]
  },
  {
   "cell_type": "code",
   "execution_count": 8,
   "metadata": {
    "ExecuteTime": {
     "end_time": "2020-07-06T09:33:50.477123Z",
     "start_time": "2020-07-06T09:33:50.441124Z"
    },
    "scrolled": false
   },
   "outputs": [],
   "source": [
    "df_base = df_base[df_base['Parent name (per 2018 PR)'].notnull()] \n",
    "\n",
    "df_base.rename(columns = {'Self Filing share %': 'SF share of public filing',\n",
    "                             'Auto (new & used) loan %': 'Auto (New & used) loan %', \n",
    "                             'WKLS share %': 'WKLS share of public filing',\n",
    "                             '# of filing zips / Name Variations': '# of filing offices (/ # of filing zips)',\n",
    "                             '# of filing states w/ filing > 100': '# of jurisdictions w/ filing > 100',\n",
    "                             '# of filing states': '# of filing jurisdictions'}, inplace = True)\n",
    "\n",
    "df_base['Sales assignemnt'] = df_base['Sales assignemnt'].str.replace('?','Unknown')\n",
    "duplicate = (df_base[df_base.duplicated()])\n",
    "# print(duplicate.shape)\n",
    "# print(\"There are  %s number of duplicate values are there in our dataset out of %s\"  %(duplicate, len(df_base)))"
   ]
  },
  {
   "cell_type": "code",
   "execution_count": 9,
   "metadata": {
    "ExecuteTime": {
     "end_time": "2020-07-06T09:33:50.502125Z",
     "start_time": "2020-07-06T09:33:50.480129Z"
    },
    "scrolled": false
   },
   "outputs": [
    {
     "data": {
      "text/plain": [
       "(1536, 36)"
      ]
     },
     "execution_count": 9,
     "metadata": {},
     "output_type": "execute_result"
    }
   ],
   "source": [
    "df_base = df_base.drop_duplicates(keep='first', inplace=False)\n",
    "df_base.shape"
   ]
  },
  {
   "cell_type": "code",
   "execution_count": 10,
   "metadata": {
    "ExecuteTime": {
     "end_time": "2020-07-06T09:33:50.512130Z",
     "start_time": "2020-07-06T09:33:50.504123Z"
    },
    "scrolled": false
   },
   "outputs": [
    {
     "name": "stdout",
     "output_type": "stream",
     "text": [
      "1410\n",
      "126\n",
      "0\n"
     ]
    }
   ],
   "source": [
    "print(df_base['Index'].nunique())\n",
    "print(df_base['Index'].isna().sum())\n",
    "df_base['Index'].fillna('Index-unknown' , inplace = True)\n",
    "print(df_base['Index'].isna().sum())"
   ]
  },
  {
   "cell_type": "code",
   "execution_count": 11,
   "metadata": {
    "ExecuteTime": {
     "end_time": "2020-07-06T09:33:50.525121Z",
     "start_time": "2020-07-06T09:33:50.515123Z"
    },
    "scrolled": false
   },
   "outputs": [
    {
     "data": {
      "text/plain": [
       "Index                                                  0\n",
       "Client (PAG)                                        1536\n",
       "Parent name (per 2018 PR)                              0\n",
       "Parent name (per 2019 PR)                             78\n",
       "Public Record 2019                                   126\n",
       "Public Record 2018                                    18\n",
       "% change 2019 vs. 2018                               160\n",
       "SF share of public filing                            140\n",
       "WKLS share of public filing                          140\n",
       "% of filing using non WKLS vendors                   140\n",
       "# of filing offices (/ # of filing zips)             126\n",
       "UCC 3 % over total filing                            126\n",
       "# of filing jurisdictions                             79\n",
       "# of jurisdictions w/ filing > 100                    79\n",
       "Top vol state                                        126\n",
       "2nd vol state                                        143\n",
       "3rd vol state                                        309\n",
       "Top UCC vol State Srch rating                       1536\n",
       "2nd UCC vol State Srch rating                       1536\n",
       "3rd UCC vol State Srch rating                       1536\n",
       "% of filing vol in top 6 states (how disbursed?)     126\n",
       "Self Filer Segments                                  133\n",
       "Updated User type                                    126\n",
       "Asset size (M)                                      1536\n",
       "Commercial loan value (M)                           1536\n",
       "Commercial loans %                                  1536\n",
       "Consumer loans %                                    1536\n",
       "Real estate loan %                                  1536\n",
       "Auto (New & used) loan %                            1536\n",
       "Delinquency rate                                    1536\n",
       "Personal Lien %                                       61\n",
       "Business Lien%                                        86\n",
       "% Filing Date Order > 1                              835\n",
       "Sales assignemnt                                      13\n",
       "Add'l Non CSC Competitor Info                       1397\n",
       "Other Notes                                           23\n",
       "dtype: int64"
      ]
     },
     "execution_count": 11,
     "metadata": {},
     "output_type": "execute_result"
    }
   ],
   "source": [
    "df_base.isna().sum()"
   ]
  },
  {
   "cell_type": "code",
   "execution_count": 12,
   "metadata": {
    "ExecuteTime": {
     "end_time": "2020-07-06T09:33:50.539122Z",
     "start_time": "2020-07-06T09:33:50.527121Z"
    },
    "scrolled": false
   },
   "outputs": [
    {
     "name": "stdout",
     "output_type": "stream",
     "text": [
      "126\n",
      "0\n",
      "18\n"
     ]
    },
    {
     "data": {
      "text/plain": [
       "0"
      ]
     },
     "execution_count": 12,
     "metadata": {},
     "output_type": "execute_result"
    }
   ],
   "source": [
    "print(df_base['Public Record 2019 '].isna().sum())\n",
    "df_base['Public Record 2019 '] =  df_base['Public Record 2019 '].fillna(0).astype(int)\n",
    "print(df_base['Public Record 2019 '].isna().sum())\n",
    "\n",
    "print(df_base['Public Record 2018'].isna().sum())\n",
    "df_base['Public Record 2018'] = df_base['Public Record 2018'].fillna(0).astype(int)\n",
    "df_base['Public Record 2018'].isna().sum()"
   ]
  },
  {
   "cell_type": "code",
   "execution_count": 13,
   "metadata": {
    "ExecuteTime": {
     "end_time": "2020-07-06T09:33:50.547124Z",
     "start_time": "2020-07-06T09:33:50.541122Z"
    },
    "scrolled": false
   },
   "outputs": [],
   "source": [
    "#df.info()\n",
    "df_base['% change 2019 vs. 2018']=df_base['% change 2019 vs. 2018'].fillna(0)\n",
    "df_base['% change 2019 vs. 2018'] = df_base['% change 2019 vs. 2018'].apply(lambda x: round(x,2)*100).astype(int)"
   ]
  },
  {
   "cell_type": "code",
   "execution_count": 14,
   "metadata": {
    "ExecuteTime": {
     "end_time": "2020-07-06T09:33:50.566120Z",
     "start_time": "2020-07-06T09:33:50.549123Z"
    },
    "scrolled": false
   },
   "outputs": [],
   "source": [
    "#df.info()\n",
    "df_base['SF share of public filing']=df_base['SF share of public filing'].fillna(0)\n",
    "df_base['WKLS share of public filing']=df_base['WKLS share of public filing'].fillna(0)\n",
    "df_base['% of filing using non WKLS vendors']=df_base['% of filing using non WKLS vendors'].fillna(0)\n",
    "\n",
    "df_base['SF share of public filing'] = df_base['SF share of public filing'].apply(lambda x: round(x,2)*100).astype(int)\n",
    "df_base['WKLS share of public filing'] = df_base['WKLS share of public filing'].apply(lambda x: round(x,2)*100).astype(int)\n",
    "df_base['% of filing using non WKLS vendors'] = df_base['% of filing using non WKLS vendors'].apply(lambda x: round(x,2)*100).astype(int)"
   ]
  },
  {
   "cell_type": "code",
   "execution_count": 15,
   "metadata": {
    "ExecuteTime": {
     "end_time": "2020-07-06T09:33:50.588120Z",
     "start_time": "2020-07-06T09:33:50.568125Z"
    },
    "scrolled": false
   },
   "outputs": [],
   "source": [
    "df_base['# of filing offices (/ # of filing zips)']=df_base['# of filing offices (/ # of filing zips)'].fillna(0)\n",
    "df_base['UCC 3 % over total filing']=df_base['UCC 3 % over total filing'].fillna(0)\n",
    "df_base['# of filing jurisdictions']=df_base['# of filing jurisdictions'].fillna(0)\n",
    "df_base['# of jurisdictions w/ filing > 100']=df_base['# of jurisdictions w/ filing > 100'].fillna(0)\n",
    "\n",
    "df_base['# of filing offices (/ # of filing zips)'] = df_base['# of filing offices (/ # of filing zips)'].apply(lambda x: round(x,2)).astype(int)\n",
    "df_base['UCC 3 % over total filing'] = df_base['UCC 3 % over total filing'].apply(lambda x: round(x,2)*100).astype(int)\n",
    "df_base['# of filing jurisdictions'] = df_base['# of filing jurisdictions'].apply(lambda x: round(x,2)).astype(int)\n",
    "df_base['# of jurisdictions w/ filing > 100'] = df_base['# of jurisdictions w/ filing > 100'].apply(lambda x: round(x,2)).astype(int)"
   ]
  },
  {
   "cell_type": "code",
   "execution_count": 16,
   "metadata": {
    "ExecuteTime": {
     "end_time": "2020-07-06T09:33:50.599123Z",
     "start_time": "2020-07-06T09:33:50.589120Z"
    },
    "scrolled": false
   },
   "outputs": [
    {
     "data": {
      "text/plain": [
       "array(['MA', 'CO', nan, 'WI', 'NY', 'IL', 'CA', 'KY', 'KS', 'NE', 'NV',\n",
       "       'MT', 'FL', 'AK', 'AR', 'MO', 'IA', 'OK', 'DE', 'AL', 'OH', 'TX',\n",
       "       'TN', 'DC', 'AZ', 'NC', 'NJ', 'MD', 'MS', 'ID', 'OR', 'GA', 'SC',\n",
       "       'MI', 'WV', 'CT', 'MN', 'WY', 'ME', 'PA', 'UT', 'WA', 'SD', 'NM',\n",
       "       'VT', 'IN', 'LA', 'RI', 'VA', 'ND', 'HI', 'NH'], dtype=object)"
      ]
     },
     "execution_count": 16,
     "metadata": {},
     "output_type": "execute_result"
    }
   ],
   "source": [
    "df_base['Top vol state'].unique()\n",
    "df_base['2nd vol state'].unique()\n",
    "df_base['3rd vol state'].unique()"
   ]
  },
  {
   "cell_type": "code",
   "execution_count": 17,
   "metadata": {
    "ExecuteTime": {
     "end_time": "2020-07-06T09:33:50.609125Z",
     "start_time": "2020-07-06T09:33:50.601123Z"
    },
    "scrolled": false
   },
   "outputs": [],
   "source": [
    "df_base['Top vol state'] = df_base['Top vol state'].fillna('XX')\n",
    "df_base['2nd vol state'] = df_base['2nd vol state'].fillna('XX')\n",
    "df_base['3rd vol state'] = df_base['3rd vol state'].fillna('XX')\n",
    "df_base['Updated User type']=df_base['Updated User type'].fillna('')"
   ]
  },
  {
   "cell_type": "code",
   "execution_count": 18,
   "metadata": {
    "ExecuteTime": {
     "end_time": "2020-07-06T09:33:50.618125Z",
     "start_time": "2020-07-06T09:33:50.613125Z"
    },
    "scrolled": false
   },
   "outputs": [],
   "source": [
    "df_base['Parent name (per 2019 PR)']=df_base['Parent name (per 2019 PR)'].fillna('')"
   ]
  },
  {
   "cell_type": "code",
   "execution_count": 19,
   "metadata": {
    "ExecuteTime": {
     "end_time": "2020-07-06T09:33:50.631128Z",
     "start_time": "2020-07-06T09:33:50.621133Z"
    },
    "scrolled": false
   },
   "outputs": [
    {
     "data": {
      "text/plain": [
       "0      NaN\n",
       "1      NaN\n",
       "2      NaN\n",
       "3      NaN\n",
       "4      NaN\n",
       "        ..\n",
       "1531   NaN\n",
       "1532   NaN\n",
       "1533   NaN\n",
       "1534   NaN\n",
       "1535   NaN\n",
       "Name: Top UCC vol State Srch rating, Length: 1536, dtype: float64"
      ]
     },
     "execution_count": 19,
     "metadata": {},
     "output_type": "execute_result"
    }
   ],
   "source": [
    "df_base['Top UCC vol State Srch rating']"
   ]
  },
  {
   "cell_type": "code",
   "execution_count": 20,
   "metadata": {
    "ExecuteTime": {
     "end_time": "2020-07-06T09:33:50.641127Z",
     "start_time": "2020-07-06T09:33:50.633123Z"
    },
    "scrolled": false
   },
   "outputs": [
    {
     "data": {
      "text/plain": [
       "array([nan])"
      ]
     },
     "execution_count": 20,
     "metadata": {},
     "output_type": "execute_result"
    }
   ],
   "source": [
    "df_base['Top UCC vol State Srch rating'].unique()\n",
    "df_base['2nd UCC vol State Srch rating'].unique()\n",
    "df_base['3rd UCC vol State Srch rating'].unique()"
   ]
  },
  {
   "cell_type": "code",
   "execution_count": 21,
   "metadata": {
    "ExecuteTime": {
     "end_time": "2020-07-06T09:33:50.654141Z",
     "start_time": "2020-07-06T09:33:50.649126Z"
    },
    "scrolled": false
   },
   "outputs": [],
   "source": [
    "#df_base.columns"
   ]
  },
  {
   "cell_type": "code",
   "execution_count": 22,
   "metadata": {
    "ExecuteTime": {
     "end_time": "2020-07-06T09:33:50.674125Z",
     "start_time": "2020-07-06T09:33:50.660127Z"
    },
    "scrolled": false
   },
   "outputs": [],
   "source": [
    "df_base['3rd UCC vol State Srch rating'].fillna(\"XXX\" , inplace = True)\n",
    "df_base['Top UCC vol State Srch rating'].fillna(\"XXX\" , inplace = True)\n",
    "df_base['2nd UCC vol State Srch rating'].fillna(\"XXX\" , inplace = True)"
   ]
  },
  {
   "cell_type": "code",
   "execution_count": 23,
   "metadata": {
    "ExecuteTime": {
     "end_time": "2020-07-06T09:33:50.693123Z",
     "start_time": "2020-07-06T09:33:50.679129Z"
    },
    "scrolled": false
   },
   "outputs": [],
   "source": [
    "#% of filing vol in top 6 states (how disbursed?)\n",
    "df_base['% of filing vol in top 6 states (how disbursed?)']=df_base['% of filing vol in top 6 states (how disbursed?)'].fillna(0)\n",
    "df_base['% of filing vol in top 6 states (how disbursed?)'] = df_base['% of filing vol in top 6 states (how disbursed?)'].apply(lambda x: round(x,2)*100).astype(int)"
   ]
  },
  {
   "cell_type": "code",
   "execution_count": 24,
   "metadata": {
    "ExecuteTime": {
     "end_time": "2020-07-06T09:33:50.713121Z",
     "start_time": "2020-07-06T09:33:50.699131Z"
    },
    "scrolled": false
   },
   "outputs": [
    {
     "data": {
      "text/plain": [
       "Bank                 772\n",
       "Others               342\n",
       "Credit Union         141\n",
       "Unknown              133\n",
       "FCS                   53\n",
       "Equipment Finance     38\n",
       "Consumer Lender       20\n",
       "0                     17\n",
       "Government            13\n",
       "Solar                  3\n",
       "Deere                  1\n",
       "Holding company        1\n",
       "MERS                   1\n",
       "USDA/FSA/CCC           1\n",
       "Name: Self Filer Segments, dtype: int64"
      ]
     },
     "execution_count": 24,
     "metadata": {},
     "output_type": "execute_result"
    }
   ],
   "source": [
    "df_base['Self Filer Segments'].unique()\n",
    "df_base['Self Filer Segments'] = df_base['Self Filer Segments'].fillna(\"Unknown\")\n",
    "df_base['Self Filer Segments'].unique()\n",
    "df_base['Self Filer Segments'].value_counts()"
   ]
  },
  {
   "cell_type": "code",
   "execution_count": 25,
   "metadata": {
    "ExecuteTime": {
     "end_time": "2020-07-06T09:33:50.725122Z",
     "start_time": "2020-07-06T09:33:50.715121Z"
    },
    "scrolled": false
   },
   "outputs": [],
   "source": [
    "df_base['Asset size (M)'].fillna(0 , inplace = True )\n",
    "df_base['Commercial loan value (M)'].fillna(0 , inplace = True )\n",
    "df_base['Commercial loans %'].fillna(0 , inplace = True )\n",
    "df_base['Consumer loans %'].fillna(0 , inplace = True )\n",
    "df_base['Real estate loan %'].fillna(0 , inplace = True )\n",
    "df_base['Auto (New & used) loan %'].fillna(0 , inplace = True )"
   ]
  },
  {
   "cell_type": "code",
   "execution_count": 26,
   "metadata": {
    "ExecuteTime": {
     "end_time": "2020-07-06T09:33:50.743124Z",
     "start_time": "2020-07-06T09:33:50.727128Z"
    },
    "scrolled": false
   },
   "outputs": [],
   "source": [
    "df_base['Commercial loans %'] = df_base['Commercial loans %'].apply(lambda x: round(x,2)*100).astype(int)\n",
    "df_base['Consumer loans %'] = df_base['Consumer loans %'].apply(lambda x: round(x,2)*100).astype(int)\n",
    "df_base['Real estate loan %'] = df_base['Real estate loan %'].apply(lambda x: round(x,2)*100).astype(int)\n",
    "df_base['Auto (New & used) loan %'] = df_base['Auto (New & used) loan %'].apply(lambda x: round(x,2)*100).astype(int)"
   ]
  },
  {
   "cell_type": "code",
   "execution_count": 27,
   "metadata": {
    "ExecuteTime": {
     "end_time": "2020-07-06T09:33:50.765129Z",
     "start_time": "2020-07-06T09:33:50.745122Z"
    },
    "scrolled": false
   },
   "outputs": [],
   "source": [
    "df_base['Personal Lien %'].fillna(0 , inplace = True )\n",
    "df_base['Business Lien%'].fillna(0 , inplace = True )\n",
    "df_base['% Filing Date Order > 1'].fillna(0 , inplace = True )\n",
    "df_base['Personal Lien %'] = df_base['Personal Lien %'].apply(lambda x: round(x,2)*100).astype(int)\n",
    "df_base['Business Lien%'] = df_base['Business Lien%'].apply(lambda x: round(x,2)*100).astype(int)\n",
    "df_base['% Filing Date Order > 1'] = df_base['% Filing Date Order > 1'].apply(lambda x: round(x,2)*100).astype(int)"
   ]
  },
  {
   "cell_type": "code",
   "execution_count": 28,
   "metadata": {
    "ExecuteTime": {
     "end_time": "2020-07-06T09:33:50.781124Z",
     "start_time": "2020-07-06T09:33:50.767121Z"
    },
    "scrolled": false
   },
   "outputs": [
    {
     "data": {
      "text/plain": [
       "array([0.])"
      ]
     },
     "execution_count": 28,
     "metadata": {},
     "output_type": "execute_result"
    }
   ],
   "source": [
    "df_base['Delinquency rate']= df_base['Delinquency rate'].replace('-', np.nan).replace(' ', np.nan)\n",
    "df_base['Delinquency rate'].fillna(0 , inplace = True )\n",
    "df_base['Delinquency rate']= df_base['Delinquency rate'].apply(lambda x : round(x,2)*100).astype(float)\n",
    "df_base['Delinquency rate'].unique()"
   ]
  },
  {
   "cell_type": "code",
   "execution_count": 29,
   "metadata": {
    "ExecuteTime": {
     "end_time": "2020-07-06T09:33:50.788123Z",
     "start_time": "2020-07-06T09:33:50.783122Z"
    },
    "scrolled": false
   },
   "outputs": [],
   "source": [
    "df_base[\"Add'l Non CSC Competitor Info\"].fillna(\"XXX\" , inplace = True)\n",
    "df_base['Other Notes'].fillna(\"XXX\" , inplace = True)"
   ]
  },
  {
   "cell_type": "code",
   "execution_count": 31,
   "metadata": {
    "ExecuteTime": {
     "end_time": "2020-07-06T09:33:50.802124Z",
     "start_time": "2020-07-06T09:33:50.790122Z"
    },
    "scrolled": false
   },
   "outputs": [
    {
     "data": {
      "text/plain": [
       "Index                                                  0\n",
       "Client (PAG)                                        1536\n",
       "Parent name (per 2018 PR)                              0\n",
       "Parent name (per 2019 PR)                              0\n",
       "Public Record 2019                                     0\n",
       "Public Record 2018                                     0\n",
       "% change 2019 vs. 2018                                 0\n",
       "SF share of public filing                              0\n",
       "WKLS share of public filing                            0\n",
       "% of filing using non WKLS vendors                     0\n",
       "# of filing offices (/ # of filing zips)               0\n",
       "UCC 3 % over total filing                              0\n",
       "# of filing jurisdictions                              0\n",
       "# of jurisdictions w/ filing > 100                     0\n",
       "Top vol state                                          0\n",
       "2nd vol state                                          0\n",
       "3rd vol state                                          0\n",
       "Top UCC vol State Srch rating                          0\n",
       "2nd UCC vol State Srch rating                          0\n",
       "3rd UCC vol State Srch rating                          0\n",
       "% of filing vol in top 6 states (how disbursed?)       0\n",
       "Self Filer Segments                                    0\n",
       "Updated User type                                      0\n",
       "Asset size (M)                                         0\n",
       "Commercial loan value (M)                              0\n",
       "Commercial loans %                                     0\n",
       "Consumer loans %                                       0\n",
       "Real estate loan %                                     0\n",
       "Auto (New & used) loan %                               0\n",
       "Delinquency rate                                       0\n",
       "Personal Lien %                                        0\n",
       "Business Lien%                                         0\n",
       "% Filing Date Order > 1                                0\n",
       "Sales assignemnt                                       0\n",
       "Add'l Non CSC Competitor Info                          0\n",
       "Other Notes                                            0\n",
       "dtype: int64"
      ]
     },
     "execution_count": 31,
     "metadata": {},
     "output_type": "execute_result"
    }
   ],
   "source": [
    "df_base['Sales assignemnt'].fillna('Sales-unknown' , inplace = True)\n",
    "#df['% business liens have name mismatched'].fillna(0 , inplace = True)\n",
    "#df['% business debtor entity status showed \"red flag\" (non compliant, disolved, inactive)'].fillna(0 , inplace = True)\n",
    "#df.drop(columns= ['Prioritized?','Delivered?','Batch Name'],axis=1 , inplace = True)\n",
    "df_base.isna().sum()"
   ]
  },
  {
   "cell_type": "code",
   "execution_count": 32,
   "metadata": {
    "ExecuteTime": {
     "end_time": "2020-07-06T09:33:50.815120Z",
     "start_time": "2020-07-06T09:33:50.804122Z"
    },
    "scrolled": false
   },
   "outputs": [
    {
     "name": "stdout",
     "output_type": "stream",
     "text": [
      "<class 'pandas.core.frame.DataFrame'>\n",
      "Int64Index: 1536 entries, 0 to 1535\n",
      "Data columns (total 36 columns):\n",
      " #   Column                                            Non-Null Count  Dtype  \n",
      "---  ------                                            --------------  -----  \n",
      " 0   Index                                             1536 non-null   object \n",
      " 1   Client (PAG)                                      0 non-null      float64\n",
      " 2   Parent name (per 2018 PR)                         1536 non-null   object \n",
      " 3   Parent name (per 2019 PR)                         1536 non-null   object \n",
      " 4   Public Record 2019                                1536 non-null   int32  \n",
      " 5   Public Record 2018                                1536 non-null   int32  \n",
      " 6   % change 2019 vs. 2018                            1536 non-null   int32  \n",
      " 7   SF share of public filing                         1536 non-null   int32  \n",
      " 8   WKLS share of public filing                       1536 non-null   int32  \n",
      " 9   % of filing using non WKLS vendors                1536 non-null   int32  \n",
      " 10  # of filing offices (/ # of filing zips)          1536 non-null   int32  \n",
      " 11  UCC 3 % over total filing                         1536 non-null   int32  \n",
      " 12  # of filing jurisdictions                         1536 non-null   int32  \n",
      " 13  # of jurisdictions w/ filing > 100                1536 non-null   int32  \n",
      " 14  Top vol state                                     1536 non-null   object \n",
      " 15  2nd vol state                                     1536 non-null   object \n",
      " 16  3rd vol state                                     1536 non-null   object \n",
      " 17  Top UCC vol State Srch rating                     1536 non-null   object \n",
      " 18  2nd UCC vol State Srch rating                     1536 non-null   object \n",
      " 19  3rd UCC vol State Srch rating                     1536 non-null   object \n",
      " 20  % of filing vol in top 6 states (how disbursed?)  1536 non-null   int32  \n",
      " 21  Self Filer Segments                               1536 non-null   object \n",
      " 22  Updated User type                                 1536 non-null   object \n",
      " 23  Asset size (M)                                    1536 non-null   float64\n",
      " 24  Commercial loan value (M)                         1536 non-null   float64\n",
      " 25  Commercial loans %                                1536 non-null   int32  \n",
      " 26  Consumer loans %                                  1536 non-null   int32  \n",
      " 27  Real estate loan %                                1536 non-null   int32  \n",
      " 28  Auto (New & used) loan %                          1536 non-null   int32  \n",
      " 29  Delinquency rate                                  1536 non-null   float64\n",
      " 30  Personal Lien %                                   1536 non-null   int32  \n",
      " 31  Business Lien%                                    1536 non-null   int32  \n",
      " 32  % Filing Date Order > 1                           1536 non-null   int32  \n",
      " 33  Sales assignemnt                                  1536 non-null   object \n",
      " 34  Add'l Non CSC Competitor Info                     1536 non-null   object \n",
      " 35  Other Notes                                       1536 non-null   object \n",
      "dtypes: float64(4), int32(18), object(14)\n",
      "memory usage: 336.0+ KB\n"
     ]
    }
   ],
   "source": [
    "df_base.info()"
   ]
  },
  {
   "cell_type": "code",
   "execution_count": 33,
   "metadata": {
    "ExecuteTime": {
     "end_time": "2020-07-06T09:33:50.854126Z",
     "start_time": "2020-07-06T09:33:50.818124Z"
    },
    "scrolled": false
   },
   "outputs": [
    {
     "data": {
      "text/html": [
       "<div>\n",
       "<style scoped>\n",
       "    .dataframe tbody tr th:only-of-type {\n",
       "        vertical-align: middle;\n",
       "    }\n",
       "\n",
       "    .dataframe tbody tr th {\n",
       "        vertical-align: top;\n",
       "    }\n",
       "\n",
       "    .dataframe thead th {\n",
       "        text-align: right;\n",
       "    }\n",
       "</style>\n",
       "<table border=\"1\" class=\"dataframe\">\n",
       "  <thead>\n",
       "    <tr style=\"text-align: right;\">\n",
       "      <th></th>\n",
       "      <th>Index</th>\n",
       "      <th>Client (PAG)</th>\n",
       "      <th>Parent name (per 2018 PR)</th>\n",
       "      <th>Parent name (per 2019 PR)</th>\n",
       "      <th>Public Record 2019</th>\n",
       "      <th>Public Record 2018</th>\n",
       "      <th>% change 2019 vs. 2018</th>\n",
       "      <th>SF share of public filing</th>\n",
       "      <th>WKLS share of public filing</th>\n",
       "      <th>% of filing using non WKLS vendors</th>\n",
       "      <th># of filing offices (/ # of filing zips)</th>\n",
       "      <th>UCC 3 % over total filing</th>\n",
       "      <th># of filing jurisdictions</th>\n",
       "      <th># of jurisdictions w/ filing &gt; 100</th>\n",
       "      <th>Top vol state</th>\n",
       "      <th>2nd vol state</th>\n",
       "      <th>...</th>\n",
       "      <th>% of filing vol in top 6 states (how disbursed?)</th>\n",
       "      <th>Self Filer Segments</th>\n",
       "      <th>Updated User type</th>\n",
       "      <th>Asset size (M)</th>\n",
       "      <th>Commercial loan value (M)</th>\n",
       "      <th>Commercial loans %</th>\n",
       "      <th>Consumer loans %</th>\n",
       "      <th>Real estate loan %</th>\n",
       "      <th>Auto (New &amp; used) loan %</th>\n",
       "      <th>Delinquency rate</th>\n",
       "      <th>Personal Lien %</th>\n",
       "      <th>Business Lien%</th>\n",
       "      <th>% Filing Date Order &gt; 1</th>\n",
       "      <th>Sales assignemnt</th>\n",
       "      <th>Add'l Non CSC Competitor Info</th>\n",
       "      <th>Other Notes</th>\n",
       "    </tr>\n",
       "  </thead>\n",
       "  <tbody>\n",
       "    <tr>\n",
       "      <th>0</th>\n",
       "      <td>CT-tier2-1</td>\n",
       "      <td>NaN</td>\n",
       "      <td>Accion East, Inc.</td>\n",
       "      <td>Accion East, Inc.</td>\n",
       "      <td>793</td>\n",
       "      <td>634</td>\n",
       "      <td>25</td>\n",
       "      <td>13</td>\n",
       "      <td>87</td>\n",
       "      <td>0</td>\n",
       "      <td>21</td>\n",
       "      <td>6</td>\n",
       "      <td>35</td>\n",
       "      <td>3</td>\n",
       "      <td>NY</td>\n",
       "      <td>FL</td>\n",
       "      <td>...</td>\n",
       "      <td>85</td>\n",
       "      <td>Others</td>\n",
       "      <td>CT-tier2</td>\n",
       "      <td>0.0</td>\n",
       "      <td>0.0</td>\n",
       "      <td>0</td>\n",
       "      <td>0</td>\n",
       "      <td>0</td>\n",
       "      <td>0</td>\n",
       "      <td>0.0</td>\n",
       "      <td>65</td>\n",
       "      <td>35</td>\n",
       "      <td>20</td>\n",
       "      <td>Raquel Torres</td>\n",
       "      <td>XXX</td>\n",
       "      <td>0</td>\n",
       "    </tr>\n",
       "    <tr>\n",
       "      <th>1</th>\n",
       "      <td>CT-tier2-2</td>\n",
       "      <td>NaN</td>\n",
       "      <td>Afnb Holdings, Inc.</td>\n",
       "      <td>Afnb Holdings, Inc.</td>\n",
       "      <td>1184</td>\n",
       "      <td>1133</td>\n",
       "      <td>5</td>\n",
       "      <td>38</td>\n",
       "      <td>61</td>\n",
       "      <td>1</td>\n",
       "      <td>9</td>\n",
       "      <td>56</td>\n",
       "      <td>10</td>\n",
       "      <td>1</td>\n",
       "      <td>TX</td>\n",
       "      <td>NV</td>\n",
       "      <td>...</td>\n",
       "      <td>99</td>\n",
       "      <td>Bank</td>\n",
       "      <td>CT-tier2</td>\n",
       "      <td>0.0</td>\n",
       "      <td>0.0</td>\n",
       "      <td>0</td>\n",
       "      <td>0</td>\n",
       "      <td>0</td>\n",
       "      <td>0</td>\n",
       "      <td>0.0</td>\n",
       "      <td>37</td>\n",
       "      <td>63</td>\n",
       "      <td>47</td>\n",
       "      <td>Monica Butz</td>\n",
       "      <td>XXX</td>\n",
       "      <td>0</td>\n",
       "    </tr>\n",
       "    <tr>\n",
       "      <th>2</th>\n",
       "      <td>CT-tier1-3</td>\n",
       "      <td>NaN</td>\n",
       "      <td>AG Georgia Farm Credit</td>\n",
       "      <td>AG Georgia Farm Credit</td>\n",
       "      <td>2233</td>\n",
       "      <td>2341</td>\n",
       "      <td>-5</td>\n",
       "      <td>5</td>\n",
       "      <td>95</td>\n",
       "      <td>0</td>\n",
       "      <td>64</td>\n",
       "      <td>52</td>\n",
       "      <td>7</td>\n",
       "      <td>1</td>\n",
       "      <td>GA</td>\n",
       "      <td>FL</td>\n",
       "      <td>...</td>\n",
       "      <td>100</td>\n",
       "      <td>FCS</td>\n",
       "      <td>CT-tier1</td>\n",
       "      <td>0.0</td>\n",
       "      <td>0.0</td>\n",
       "      <td>0</td>\n",
       "      <td>0</td>\n",
       "      <td>0</td>\n",
       "      <td>0</td>\n",
       "      <td>0.0</td>\n",
       "      <td>94</td>\n",
       "      <td>6</td>\n",
       "      <td>69</td>\n",
       "      <td>Mary Beth Sommer</td>\n",
       "      <td>XXX</td>\n",
       "      <td>0</td>\n",
       "    </tr>\n",
       "    <tr>\n",
       "      <th>3</th>\n",
       "      <td>Self-4</td>\n",
       "      <td>NaN</td>\n",
       "      <td>AGCO Corporation</td>\n",
       "      <td>AGCO Corporation</td>\n",
       "      <td>17175</td>\n",
       "      <td>16942</td>\n",
       "      <td>1</td>\n",
       "      <td>99</td>\n",
       "      <td>1</td>\n",
       "      <td>0</td>\n",
       "      <td>143</td>\n",
       "      <td>20</td>\n",
       "      <td>50</td>\n",
       "      <td>39</td>\n",
       "      <td>TX</td>\n",
       "      <td>NC</td>\n",
       "      <td>...</td>\n",
       "      <td>27</td>\n",
       "      <td>Equipment Finance</td>\n",
       "      <td>Self</td>\n",
       "      <td>0.0</td>\n",
       "      <td>0.0</td>\n",
       "      <td>0</td>\n",
       "      <td>0</td>\n",
       "      <td>0</td>\n",
       "      <td>0</td>\n",
       "      <td>0.0</td>\n",
       "      <td>82</td>\n",
       "      <td>18</td>\n",
       "      <td>56</td>\n",
       "      <td>Julee Freeland</td>\n",
       "      <td>XXX</td>\n",
       "      <td>0</td>\n",
       "    </tr>\n",
       "    <tr>\n",
       "      <th>4</th>\n",
       "      <td>CT-tier1-5</td>\n",
       "      <td>NaN</td>\n",
       "      <td>Agheritage Farm Credit Services Aca</td>\n",
       "      <td>Agheritage Farm Credit Services Aca</td>\n",
       "      <td>868</td>\n",
       "      <td>796</td>\n",
       "      <td>9</td>\n",
       "      <td>1</td>\n",
       "      <td>99</td>\n",
       "      <td>0</td>\n",
       "      <td>8</td>\n",
       "      <td>50</td>\n",
       "      <td>6</td>\n",
       "      <td>1</td>\n",
       "      <td>AR</td>\n",
       "      <td>DE</td>\n",
       "      <td>...</td>\n",
       "      <td>100</td>\n",
       "      <td>FCS</td>\n",
       "      <td>CT-tier1</td>\n",
       "      <td>0.0</td>\n",
       "      <td>0.0</td>\n",
       "      <td>0</td>\n",
       "      <td>0</td>\n",
       "      <td>0</td>\n",
       "      <td>0</td>\n",
       "      <td>0.0</td>\n",
       "      <td>80</td>\n",
       "      <td>20</td>\n",
       "      <td>63</td>\n",
       "      <td>Mary Beth Sommer</td>\n",
       "      <td>XXX</td>\n",
       "      <td>0</td>\n",
       "    </tr>\n",
       "  </tbody>\n",
       "</table>\n",
       "<p>5 rows × 36 columns</p>\n",
       "</div>"
      ],
      "text/plain": [
       "        Index  Client (PAG)            Parent name (per 2018 PR)  \\\n",
       "0  CT-tier2-1           NaN                    Accion East, Inc.   \n",
       "1  CT-tier2-2           NaN                  Afnb Holdings, Inc.   \n",
       "2  CT-tier1-3           NaN               AG Georgia Farm Credit   \n",
       "3      Self-4           NaN                     AGCO Corporation   \n",
       "4  CT-tier1-5           NaN  Agheritage Farm Credit Services Aca   \n",
       "\n",
       "             Parent name (per 2019 PR)  Public Record 2019   \\\n",
       "0                    Accion East, Inc.                  793   \n",
       "1                  Afnb Holdings, Inc.                 1184   \n",
       "2               AG Georgia Farm Credit                 2233   \n",
       "3                     AGCO Corporation                17175   \n",
       "4  Agheritage Farm Credit Services Aca                  868   \n",
       "\n",
       "   Public Record 2018  % change 2019 vs. 2018  SF share of public filing  \\\n",
       "0                 634                      25                         13   \n",
       "1                1133                       5                         38   \n",
       "2                2341                      -5                          5   \n",
       "3               16942                       1                         99   \n",
       "4                 796                       9                          1   \n",
       "\n",
       "   WKLS share of public filing  % of filing using non WKLS vendors  \\\n",
       "0                           87                                   0   \n",
       "1                           61                                   1   \n",
       "2                           95                                   0   \n",
       "3                            1                                   0   \n",
       "4                           99                                   0   \n",
       "\n",
       "   # of filing offices (/ # of filing zips)  UCC 3 % over total filing  \\\n",
       "0                                        21                          6   \n",
       "1                                         9                         56   \n",
       "2                                        64                         52   \n",
       "3                                       143                         20   \n",
       "4                                         8                         50   \n",
       "\n",
       "   # of filing jurisdictions  # of jurisdictions w/ filing > 100  \\\n",
       "0                         35                                   3   \n",
       "1                         10                                   1   \n",
       "2                          7                                   1   \n",
       "3                         50                                  39   \n",
       "4                          6                                   1   \n",
       "\n",
       "  Top vol state 2nd vol state  ...  \\\n",
       "0            NY            FL  ...   \n",
       "1            TX            NV  ...   \n",
       "2            GA            FL  ...   \n",
       "3            TX            NC  ...   \n",
       "4            AR            DE  ...   \n",
       "\n",
       "  % of filing vol in top 6 states (how disbursed?) Self Filer Segments  \\\n",
       "0                                               85              Others   \n",
       "1                                               99                Bank   \n",
       "2                                              100                 FCS   \n",
       "3                                               27   Equipment Finance   \n",
       "4                                              100                 FCS   \n",
       "\n",
       "  Updated User type Asset size (M)  Commercial loan value (M)  \\\n",
       "0          CT-tier2            0.0                        0.0   \n",
       "1          CT-tier2            0.0                        0.0   \n",
       "2          CT-tier1            0.0                        0.0   \n",
       "3              Self            0.0                        0.0   \n",
       "4          CT-tier1            0.0                        0.0   \n",
       "\n",
       "  Commercial loans % Consumer loans %  Real estate loan %  \\\n",
       "0                  0                0                   0   \n",
       "1                  0                0                   0   \n",
       "2                  0                0                   0   \n",
       "3                  0                0                   0   \n",
       "4                  0                0                   0   \n",
       "\n",
       "   Auto (New & used) loan %  Delinquency rate  Personal Lien %  \\\n",
       "0                         0               0.0               65   \n",
       "1                         0               0.0               37   \n",
       "2                         0               0.0               94   \n",
       "3                         0               0.0               82   \n",
       "4                         0               0.0               80   \n",
       "\n",
       "   Business Lien%  % Filing Date Order > 1  Sales assignemnt  \\\n",
       "0              35                       20     Raquel Torres   \n",
       "1              63                       47       Monica Butz   \n",
       "2               6                       69  Mary Beth Sommer   \n",
       "3              18                       56    Julee Freeland   \n",
       "4              20                       63  Mary Beth Sommer   \n",
       "\n",
       "   Add'l Non CSC Competitor Info  Other Notes  \n",
       "0                            XXX            0  \n",
       "1                            XXX            0  \n",
       "2                            XXX            0  \n",
       "3                            XXX            0  \n",
       "4                            XXX            0  \n",
       "\n",
       "[5 rows x 36 columns]"
      ]
     },
     "execution_count": 33,
     "metadata": {},
     "output_type": "execute_result"
    }
   ],
   "source": [
    "df_base.head()"
   ]
  },
  {
   "cell_type": "code",
   "execution_count": 34,
   "metadata": {
    "ExecuteTime": {
     "end_time": "2020-07-06T09:33:50.869124Z",
     "start_time": "2020-07-06T09:33:50.857128Z"
    },
    "scrolled": false
   },
   "outputs": [],
   "source": [
    "df_base = df_base.rename(columns= {'Public Record 2019 ': 'Public Record 2016', '% change 2019 vs. 2018': '% change 2017 vs. 2016', \n",
    "                    'Public Record 2018': 'Public Rdcord 2018', 'Public Record 2019 ':'Public Record 2016'})"
   ]
  },
  {
   "cell_type": "code",
   "execution_count": 35,
   "metadata": {
    "ExecuteTime": {
     "end_time": "2020-07-06T09:33:50.879135Z",
     "start_time": "2020-07-06T09:33:50.873128Z"
    },
    "scrolled": false
   },
   "outputs": [
    {
     "data": {
      "text/plain": [
       "(1536, 36)"
      ]
     },
     "execution_count": 35,
     "metadata": {},
     "output_type": "execute_result"
    }
   ],
   "source": [
    "df_base.shape"
   ]
  },
  {
   "cell_type": "code",
   "execution_count": 36,
   "metadata": {
    "ExecuteTime": {
     "end_time": "2020-07-06T09:33:50.916125Z",
     "start_time": "2020-07-06T09:33:50.883131Z"
    },
    "scrolled": false
   },
   "outputs": [
    {
     "name": "stdout",
     "output_type": "stream",
     "text": [
      "29\n",
      "(1536, 36)\n",
      "Wall time: 4.02 ms\n"
     ]
    }
   ],
   "source": [
    "%%time\n",
    "df_master= df_base\n",
    "print(df_master['Sales assignemnt'].nunique())\n",
    "print(df_master.shape)\n",
    "\n",
    "df_master['Access_all_1'] = 'Sheetal Kamani'\n",
    "df_master['Access_all_2'] = 'Sharyn Shirley'\n",
    "df_master['Access_all_3'] = 'Shu Morris'\n",
    "df_master['Access_all_4'] = 'Alexis Jacobson'\n",
    "df_master['Access_all_5'] = 'Andrew Hoechstetter'\n",
    "df_master['Access_all_6'] = 'Kochpatchara Pramnomai'"
   ]
  },
  {
   "cell_type": "code",
   "execution_count": 38,
   "metadata": {
    "ExecuteTime": {
     "end_time": "2020-07-06T09:33:50.932126Z",
     "start_time": "2020-07-06T09:33:50.919125Z"
    },
    "scrolled": false
   },
   "outputs": [
    {
     "name": "stdout",
     "output_type": "stream",
     "text": [
      "(27, 4)\n"
     ]
    },
    {
     "data": {
      "text/plain": [
       "Index(['Sale assigned', 'Role1', 'Role2', 'Role3'], dtype='object')"
      ]
     },
     "execution_count": 38,
     "metadata": {},
     "output_type": "execute_result"
    }
   ],
   "source": [
    "print(df_role.shape)\n",
    "df_role.columns"
   ]
  },
  {
   "cell_type": "code",
   "execution_count": 39,
   "metadata": {
    "ExecuteTime": {
     "end_time": "2020-07-06T09:33:50.972123Z",
     "start_time": "2020-07-06T09:33:50.935124Z"
    },
    "scrolled": true
   },
   "outputs": [
    {
     "data": {
      "text/html": [
       "<div>\n",
       "<style scoped>\n",
       "    .dataframe tbody tr th:only-of-type {\n",
       "        vertical-align: middle;\n",
       "    }\n",
       "\n",
       "    .dataframe tbody tr th {\n",
       "        vertical-align: top;\n",
       "    }\n",
       "\n",
       "    .dataframe thead th {\n",
       "        text-align: right;\n",
       "    }\n",
       "</style>\n",
       "<table border=\"1\" class=\"dataframe\">\n",
       "  <thead>\n",
       "    <tr style=\"text-align: right;\">\n",
       "      <th></th>\n",
       "      <th>Parent name (per 2019 PR)</th>\n",
       "      <th>Parent name (per 2018 PR)</th>\n",
       "      <th>Sales assignemnt</th>\n",
       "      <th>Access_all_1</th>\n",
       "      <th>Access_all_2</th>\n",
       "      <th>Access_all_3</th>\n",
       "      <th>Access_all_4</th>\n",
       "      <th>Access_all_5</th>\n",
       "      <th>Access_all_6</th>\n",
       "      <th>Sale assigned</th>\n",
       "      <th>Role1</th>\n",
       "      <th>Role2</th>\n",
       "      <th>Role3</th>\n",
       "    </tr>\n",
       "  </thead>\n",
       "  <tbody>\n",
       "    <tr>\n",
       "      <th>0</th>\n",
       "      <td>Accion East, Inc.</td>\n",
       "      <td>Accion East, Inc.</td>\n",
       "      <td>Raquel Torres</td>\n",
       "      <td>Sheetal Kamani</td>\n",
       "      <td>Sharyn Shirley</td>\n",
       "      <td>Shu Morris</td>\n",
       "      <td>Alexis Jacobson</td>\n",
       "      <td>Andrew Hoechstetter</td>\n",
       "      <td>Kochpatchara Pramnomai</td>\n",
       "      <td>Raquel Torres</td>\n",
       "      <td>Katie Olivier</td>\n",
       "      <td>NaN</td>\n",
       "      <td>NaN</td>\n",
       "    </tr>\n",
       "    <tr>\n",
       "      <th>1</th>\n",
       "      <td>Afnb Holdings, Inc.</td>\n",
       "      <td>Afnb Holdings, Inc.</td>\n",
       "      <td>Monica Butz</td>\n",
       "      <td>Sheetal Kamani</td>\n",
       "      <td>Sharyn Shirley</td>\n",
       "      <td>Shu Morris</td>\n",
       "      <td>Alexis Jacobson</td>\n",
       "      <td>Andrew Hoechstetter</td>\n",
       "      <td>Kochpatchara Pramnomai</td>\n",
       "      <td>Monica Butz</td>\n",
       "      <td>Joni Baker</td>\n",
       "      <td>NaN</td>\n",
       "      <td>NaN</td>\n",
       "    </tr>\n",
       "    <tr>\n",
       "      <th>2</th>\n",
       "      <td>AG Georgia Farm Credit</td>\n",
       "      <td>AG Georgia Farm Credit</td>\n",
       "      <td>Mary Beth Sommer</td>\n",
       "      <td>Sheetal Kamani</td>\n",
       "      <td>Sharyn Shirley</td>\n",
       "      <td>Shu Morris</td>\n",
       "      <td>Alexis Jacobson</td>\n",
       "      <td>Andrew Hoechstetter</td>\n",
       "      <td>Kochpatchara Pramnomai</td>\n",
       "      <td>Mary Beth Sommer</td>\n",
       "      <td>Donna Kotke</td>\n",
       "      <td>Jennifer Pierroz</td>\n",
       "      <td>Jennifer Watanabe</td>\n",
       "    </tr>\n",
       "    <tr>\n",
       "      <th>3</th>\n",
       "      <td>AGCO Corporation</td>\n",
       "      <td>AGCO Corporation</td>\n",
       "      <td>Julee Freeland</td>\n",
       "      <td>Sheetal Kamani</td>\n",
       "      <td>Sharyn Shirley</td>\n",
       "      <td>Shu Morris</td>\n",
       "      <td>Alexis Jacobson</td>\n",
       "      <td>Andrew Hoechstetter</td>\n",
       "      <td>Kochpatchara Pramnomai</td>\n",
       "      <td>Julee Freeland</td>\n",
       "      <td>Donna Kotke</td>\n",
       "      <td>Jennifer Pierroz</td>\n",
       "      <td>Jennifer Watanabe</td>\n",
       "    </tr>\n",
       "    <tr>\n",
       "      <th>4</th>\n",
       "      <td>Agheritage Farm Credit Services Aca</td>\n",
       "      <td>Agheritage Farm Credit Services Aca</td>\n",
       "      <td>Mary Beth Sommer</td>\n",
       "      <td>Sheetal Kamani</td>\n",
       "      <td>Sharyn Shirley</td>\n",
       "      <td>Shu Morris</td>\n",
       "      <td>Alexis Jacobson</td>\n",
       "      <td>Andrew Hoechstetter</td>\n",
       "      <td>Kochpatchara Pramnomai</td>\n",
       "      <td>Mary Beth Sommer</td>\n",
       "      <td>Donna Kotke</td>\n",
       "      <td>Jennifer Pierroz</td>\n",
       "      <td>Jennifer Watanabe</td>\n",
       "    </tr>\n",
       "    <tr>\n",
       "      <th>...</th>\n",
       "      <td>...</td>\n",
       "      <td>...</td>\n",
       "      <td>...</td>\n",
       "      <td>...</td>\n",
       "      <td>...</td>\n",
       "      <td>...</td>\n",
       "      <td>...</td>\n",
       "      <td>...</td>\n",
       "      <td>...</td>\n",
       "      <td>...</td>\n",
       "      <td>...</td>\n",
       "      <td>...</td>\n",
       "      <td>...</td>\n",
       "    </tr>\n",
       "    <tr>\n",
       "      <th>1531</th>\n",
       "      <td>Ltc Global, Inc.</td>\n",
       "      <td>Ltc Global, Inc.</td>\n",
       "      <td>William Cummings</td>\n",
       "      <td>Sheetal Kamani</td>\n",
       "      <td>Sharyn Shirley</td>\n",
       "      <td>Shu Morris</td>\n",
       "      <td>Alexis Jacobson</td>\n",
       "      <td>Andrew Hoechstetter</td>\n",
       "      <td>Kochpatchara Pramnomai</td>\n",
       "      <td>William Cummings</td>\n",
       "      <td>Katie Olivier</td>\n",
       "      <td>NaN</td>\n",
       "      <td>NaN</td>\n",
       "    </tr>\n",
       "    <tr>\n",
       "      <th>1532</th>\n",
       "      <td>Power Corporation du Canada</td>\n",
       "      <td>Power Corporation du Canada</td>\n",
       "      <td>Suzie Neff</td>\n",
       "      <td>Sheetal Kamani</td>\n",
       "      <td>Sharyn Shirley</td>\n",
       "      <td>Shu Morris</td>\n",
       "      <td>Alexis Jacobson</td>\n",
       "      <td>Andrew Hoechstetter</td>\n",
       "      <td>Kochpatchara Pramnomai</td>\n",
       "      <td>Suzie Neff</td>\n",
       "      <td>Katie Olivier</td>\n",
       "      <td>NaN</td>\n",
       "      <td>NaN</td>\n",
       "    </tr>\n",
       "    <tr>\n",
       "      <th>1533</th>\n",
       "      <td>Isuzu Motors Limited</td>\n",
       "      <td>Isuzu Motors Limited</td>\n",
       "      <td>Suzie Neff</td>\n",
       "      <td>Sheetal Kamani</td>\n",
       "      <td>Sharyn Shirley</td>\n",
       "      <td>Shu Morris</td>\n",
       "      <td>Alexis Jacobson</td>\n",
       "      <td>Andrew Hoechstetter</td>\n",
       "      <td>Kochpatchara Pramnomai</td>\n",
       "      <td>Suzie Neff</td>\n",
       "      <td>Katie Olivier</td>\n",
       "      <td>NaN</td>\n",
       "      <td>NaN</td>\n",
       "    </tr>\n",
       "    <tr>\n",
       "      <th>1534</th>\n",
       "      <td>Merrimak Capital Company LLC</td>\n",
       "      <td>Merrimak Capital Company LLC</td>\n",
       "      <td>Christina Villa</td>\n",
       "      <td>Sheetal Kamani</td>\n",
       "      <td>Sharyn Shirley</td>\n",
       "      <td>Shu Morris</td>\n",
       "      <td>Alexis Jacobson</td>\n",
       "      <td>Andrew Hoechstetter</td>\n",
       "      <td>Kochpatchara Pramnomai</td>\n",
       "      <td>Christina Villa</td>\n",
       "      <td>Katie Olivier</td>\n",
       "      <td>NaN</td>\n",
       "      <td>NaN</td>\n",
       "    </tr>\n",
       "    <tr>\n",
       "      <th>1535</th>\n",
       "      <td>ACCUTRAC CAPITAL SOLUTIONS</td>\n",
       "      <td>ACCUTRAC CAPITAL SOLUTIONS</td>\n",
       "      <td>Raquel Torres</td>\n",
       "      <td>Sheetal Kamani</td>\n",
       "      <td>Sharyn Shirley</td>\n",
       "      <td>Shu Morris</td>\n",
       "      <td>Alexis Jacobson</td>\n",
       "      <td>Andrew Hoechstetter</td>\n",
       "      <td>Kochpatchara Pramnomai</td>\n",
       "      <td>Raquel Torres</td>\n",
       "      <td>Katie Olivier</td>\n",
       "      <td>NaN</td>\n",
       "      <td>NaN</td>\n",
       "    </tr>\n",
       "  </tbody>\n",
       "</table>\n",
       "<p>1536 rows × 13 columns</p>\n",
       "</div>"
      ],
      "text/plain": [
       "                Parent name (per 2019 PR)  \\\n",
       "0                       Accion East, Inc.   \n",
       "1                     Afnb Holdings, Inc.   \n",
       "2                  AG Georgia Farm Credit   \n",
       "3                        AGCO Corporation   \n",
       "4     Agheritage Farm Credit Services Aca   \n",
       "...                                   ...   \n",
       "1531                     Ltc Global, Inc.   \n",
       "1532          Power Corporation du Canada   \n",
       "1533                 Isuzu Motors Limited   \n",
       "1534         Merrimak Capital Company LLC   \n",
       "1535           ACCUTRAC CAPITAL SOLUTIONS   \n",
       "\n",
       "                Parent name (per 2018 PR)  Sales assignemnt    Access_all_1  \\\n",
       "0                       Accion East, Inc.     Raquel Torres  Sheetal Kamani   \n",
       "1                     Afnb Holdings, Inc.       Monica Butz  Sheetal Kamani   \n",
       "2                  AG Georgia Farm Credit  Mary Beth Sommer  Sheetal Kamani   \n",
       "3                        AGCO Corporation    Julee Freeland  Sheetal Kamani   \n",
       "4     Agheritage Farm Credit Services Aca  Mary Beth Sommer  Sheetal Kamani   \n",
       "...                                   ...               ...             ...   \n",
       "1531                     Ltc Global, Inc.  William Cummings  Sheetal Kamani   \n",
       "1532          Power Corporation du Canada        Suzie Neff  Sheetal Kamani   \n",
       "1533                 Isuzu Motors Limited        Suzie Neff  Sheetal Kamani   \n",
       "1534         Merrimak Capital Company LLC   Christina Villa  Sheetal Kamani   \n",
       "1535           ACCUTRAC CAPITAL SOLUTIONS     Raquel Torres  Sheetal Kamani   \n",
       "\n",
       "        Access_all_2 Access_all_3     Access_all_4         Access_all_5  \\\n",
       "0     Sharyn Shirley   Shu Morris  Alexis Jacobson  Andrew Hoechstetter   \n",
       "1     Sharyn Shirley   Shu Morris  Alexis Jacobson  Andrew Hoechstetter   \n",
       "2     Sharyn Shirley   Shu Morris  Alexis Jacobson  Andrew Hoechstetter   \n",
       "3     Sharyn Shirley   Shu Morris  Alexis Jacobson  Andrew Hoechstetter   \n",
       "4     Sharyn Shirley   Shu Morris  Alexis Jacobson  Andrew Hoechstetter   \n",
       "...              ...          ...              ...                  ...   \n",
       "1531  Sharyn Shirley   Shu Morris  Alexis Jacobson  Andrew Hoechstetter   \n",
       "1532  Sharyn Shirley   Shu Morris  Alexis Jacobson  Andrew Hoechstetter   \n",
       "1533  Sharyn Shirley   Shu Morris  Alexis Jacobson  Andrew Hoechstetter   \n",
       "1534  Sharyn Shirley   Shu Morris  Alexis Jacobson  Andrew Hoechstetter   \n",
       "1535  Sharyn Shirley   Shu Morris  Alexis Jacobson  Andrew Hoechstetter   \n",
       "\n",
       "                Access_all_6     Sale assigned          Role1  \\\n",
       "0     Kochpatchara Pramnomai     Raquel Torres  Katie Olivier   \n",
       "1     Kochpatchara Pramnomai       Monica Butz     Joni Baker   \n",
       "2     Kochpatchara Pramnomai  Mary Beth Sommer    Donna Kotke   \n",
       "3     Kochpatchara Pramnomai    Julee Freeland    Donna Kotke   \n",
       "4     Kochpatchara Pramnomai  Mary Beth Sommer    Donna Kotke   \n",
       "...                      ...               ...            ...   \n",
       "1531  Kochpatchara Pramnomai  William Cummings  Katie Olivier   \n",
       "1532  Kochpatchara Pramnomai        Suzie Neff  Katie Olivier   \n",
       "1533  Kochpatchara Pramnomai        Suzie Neff  Katie Olivier   \n",
       "1534  Kochpatchara Pramnomai   Christina Villa  Katie Olivier   \n",
       "1535  Kochpatchara Pramnomai     Raquel Torres  Katie Olivier   \n",
       "\n",
       "                 Role2              Role3  \n",
       "0                  NaN                NaN  \n",
       "1                  NaN                NaN  \n",
       "2     Jennifer Pierroz  Jennifer Watanabe  \n",
       "3     Jennifer Pierroz  Jennifer Watanabe  \n",
       "4     Jennifer Pierroz  Jennifer Watanabe  \n",
       "...                ...                ...  \n",
       "1531               NaN                NaN  \n",
       "1532               NaN                NaN  \n",
       "1533               NaN                NaN  \n",
       "1534               NaN                NaN  \n",
       "1535               NaN                NaN  \n",
       "\n",
       "[1536 rows x 13 columns]"
      ]
     },
     "execution_count": 39,
     "metadata": {},
     "output_type": "execute_result"
    }
   ],
   "source": [
    "df_merge = df_master[['Parent name (per 2019 PR)','Parent name (per 2018 PR)','Sales assignemnt','Access_all_1','Access_all_2','Access_all_3','Access_all_4','Access_all_5','Access_all_6']]\n",
    "merged_df= pd.merge(left=df_merge,right=df_role, how='left' , right_on='Sale assigned', left_on='Sales assignemnt')\n",
    "merged_df"
   ]
  },
  {
   "cell_type": "markdown",
   "metadata": {},
   "source": [
    "## Code Starts from here"
   ]
  },
  {
   "cell_type": "markdown",
   "metadata": {},
   "source": [
    "Data_Preparation for the Prospect List and Summary Tab"
   ]
  },
  {
   "cell_type": "code",
   "execution_count": 40,
   "metadata": {
    "ExecuteTime": {
     "end_time": "2020-05-18T08:29:50.217691Z",
     "start_time": "2020-05-18T08:29:50.213703Z"
    },
    "scrolled": false
   },
   "outputs": [],
   "source": [
    "# df_risk=[]\n",
    "# with open_xlsb('../input/Risk_Management - reps-v2.xlsb') as wb:\n",
    "#         with wb.get_sheet('Sum by SF') as sheet:\n",
    "#             for row in sheet.rows():\n",
    "#                 df_risk.append([item.v for item in row])\n",
    "# df_risk = pd.DataFrame(df_risk[1:], columns=df_risk[0])\n",
    "# df_risk = df_risk.dropna()\n",
    "# df_risk.to_csv('../input/SumBYSF_base.csv')\n",
    "\n",
    "# df_risk.shape"
   ]
  },
  {
   "cell_type": "code",
   "execution_count": 41,
   "metadata": {
    "ExecuteTime": {
     "end_time": "2020-03-20T04:33:30.394590Z",
     "start_time": "2020-03-20T04:33:30.390601Z"
    },
    "scrolled": false
   },
   "outputs": [],
   "source": [
    "# df_examples=[]\n",
    "# with open_xlsb('../input/Risk_Management - reps-v2.xlsb') as wb:\n",
    "#         with wb.get_sheet('More Examples') as sheet:\n",
    "#             for row in sheet.rows():\n",
    "#                 df_examples.append([item.v for item in row])\n",
    "# df_examples = pd.DataFrame(df_examples[1:], columns=df_examples[0])\n",
    "# df_examples= df_examples[cols]\n",
    "# df_examples.to_csv('../input/Examples_base.csv')"
   ]
  },
  {
   "cell_type": "code",
   "execution_count": 42,
   "metadata": {
    "ExecuteTime": {
     "end_time": "2020-07-06T07:03:08.404341Z",
     "start_time": "2020-07-06T07:03:08.401310Z"
    }
   },
   "outputs": [],
   "source": [
    "#dictionary_match, dict_rep"
   ]
  },
  {
   "cell_type": "code",
   "execution_count": 43,
   "metadata": {
    "ExecuteTime": {
     "end_time": "2020-07-06T09:34:36.113895Z",
     "start_time": "2020-07-06T09:34:36.109859Z"
    },
    "scrolled": false
   },
   "outputs": [],
   "source": [
    "dictionary_match= dict(map_match.values.tolist())\n",
    "dict_rep = dict(zip(rep_assignment['2018 Name'], rep_assignment['Rep (Updated)']))"
   ]
  },
  {
   "cell_type": "code",
   "execution_count": 44,
   "metadata": {
    "ExecuteTime": {
     "end_time": "2020-07-06T09:34:42.272487Z",
     "start_time": "2020-07-06T09:34:36.822302Z"
    },
    "scrolled": false
   },
   "outputs": [
    {
     "name": "stdout",
     "output_type": "stream",
     "text": [
      "../input/Recieved/1081.xlsb\n",
      "../input/Recieved/1112.xlsb\n",
      "../input/Recieved/1115.xlsb\n",
      "../input/Recieved/1200.xlsb\n",
      "../input/Recieved/1469.xlsb\n",
      "../input/Recieved/1547.xlsb\n",
      "../input/Recieved/1597.xlsb\n",
      "../input/Recieved/2287.xlsb\n",
      "../input/Recieved/2391.xlsb\n",
      "../input/Recieved/2465.xlsb\n",
      "../input/Recieved/2495.xlsb\n",
      "../input/Recieved/2562.xlsb\n",
      "../input/Recieved/2803.xlsb\n",
      "../input/Recieved/3027.xlsb\n",
      "../input/Recieved/3039.xlsb\n",
      "../input/Recieved/3143.xlsb\n",
      "../input/Recieved/3144.xlsb\n",
      "../input/Recieved/3145.xlsb\n",
      "../input/Recieved/3146.xlsb\n",
      "../input/Recieved/3148.xlsb\n",
      "../input/Recieved/3149.xlsb\n",
      "../input/Recieved/3150.xlsb\n"
     ]
    }
   ],
   "source": [
    "onlyfiles = [f for f in listdir(\"../input/Recieved\") if isfile(join(\"../input/Recieved\", f))]\n",
    "sheet_names=[]; file_location=[]; file_names = []\n",
    "for files in onlyfiles:\n",
    "    #print(files)\n",
    "    file_location.append(\"../input/Recieved/\"+ str(files))\n",
    "    file_names.append(str(files))\n",
    "    sheet_names.append(files[:4])\n",
    "file_sheet= dict(zip(file_location, sheet_names))\n",
    "    \n",
    "lst_df=[]\n",
    "for values in file_sheet.keys():\n",
    "    df=[]\n",
    "    print(values)\n",
    "    with open_xlsb(values) as wb:\n",
    "        with wb.get_sheet(file_sheet[values]) as sheet:\n",
    "            for row in sheet.rows():\n",
    "                df.append([item.v for item in row])\n",
    "    df = pd.DataFrame(df[1:], columns=df[0])\n",
    "    lst_df.append(df)\n",
    "    \n",
    "dict_df= dict(zip(list(file_sheet.keys()), lst_df))\n",
    "dict_file_names = dict(zip(file_names, lst_df))"
   ]
  },
  {
   "cell_type": "code",
   "execution_count": 45,
   "metadata": {
    "ExecuteTime": {
     "end_time": "2020-07-06T07:07:57.871670Z",
     "start_time": "2020-07-06T07:07:57.855670Z"
    }
   },
   "outputs": [],
   "source": [
    "#dict_file_names"
   ]
  },
  {
   "cell_type": "code",
   "execution_count": 46,
   "metadata": {
    "ExecuteTime": {
     "end_time": "2020-07-06T09:34:44.284447Z",
     "start_time": "2020-07-06T09:34:44.279446Z"
    },
    "scrolled": false
   },
   "outputs": [
    {
     "data": {
      "text/plain": [
       "22"
      ]
     },
     "execution_count": 46,
     "metadata": {},
     "output_type": "execute_result"
    }
   ],
   "source": [
    "len(dict_file_names)\n",
    "#len(file_location)"
   ]
  },
  {
   "cell_type": "code",
   "execution_count": 47,
   "metadata": {
    "ExecuteTime": {
     "end_time": "2020-07-06T09:34:50.771183Z",
     "start_time": "2020-07-06T09:34:48.090609Z"
    },
    "scrolled": true
   },
   "outputs": [
    {
     "name": "stdout",
     "output_type": "stream",
     "text": [
      "1081.xlsb\n",
      "1112.xlsb\n",
      "1115.xlsb\n",
      "1200.xlsb\n",
      "1469.xlsb\n"
     ]
    },
    {
     "ename": "AttributeError",
     "evalue": "'dict' object has no attribute 'apply'",
     "output_type": "error",
     "traceback": [
      "\u001b[1;31m---------------------------------------------------------------------------\u001b[0m",
      "\u001b[1;31mAttributeError\u001b[0m                            Traceback (most recent call last)",
      "\u001b[1;32m<ipython-input-47-938c1b4b5cb1>\u001b[0m in \u001b[0;36m<module>\u001b[1;34m\u001b[0m\n\u001b[0;32m     11\u001b[0m     \u001b[0mdf_\u001b[0m\u001b[1;33m=\u001b[0m \u001b[0mtransform_others\u001b[0m\u001b[1;33m(\u001b[0m\u001b[0mdict_file_names\u001b[0m\u001b[1;33m[\u001b[0m\u001b[0mdf\u001b[0m\u001b[1;33m]\u001b[0m\u001b[1;33m,\u001b[0m \u001b[0mdictionary_match\u001b[0m\u001b[1;33m,\u001b[0m \u001b[0mdict_rep\u001b[0m\u001b[1;33m)\u001b[0m\u001b[1;33m\u001b[0m\u001b[1;33m\u001b[0m\u001b[0m\n\u001b[0;32m     12\u001b[0m     \u001b[0msum_by_sf\u001b[0m \u001b[1;33m=\u001b[0m \u001b[0mcreate_sum_by_sf\u001b[0m\u001b[1;33m(\u001b[0m\u001b[0mdf_\u001b[0m\u001b[1;33m,\u001b[0m \u001b[0mdf_entity\u001b[0m\u001b[1;33m,\u001b[0m \u001b[0mdict_rep\u001b[0m\u001b[1;33m)\u001b[0m\u001b[1;33m\u001b[0m\u001b[1;33m\u001b[0m\u001b[0m\n\u001b[1;32m---> 13\u001b[1;33m     \u001b[0mtemp_df\u001b[0m\u001b[1;33m,\u001b[0m \u001b[0mcolumns\u001b[0m \u001b[1;33m=\u001b[0m \u001b[0mfinal_calculation\u001b[0m\u001b[1;33m(\u001b[0m\u001b[0msum_by_sf\u001b[0m\u001b[1;33m)\u001b[0m\u001b[1;33m\u001b[0m\u001b[1;33m\u001b[0m\u001b[0m\n\u001b[0m\u001b[0;32m     14\u001b[0m     \u001b[0mexample_columns\u001b[0m\u001b[1;33m,\u001b[0m \u001b[0mtemp_example_df\u001b[0m \u001b[1;33m=\u001b[0m \u001b[0mget_examples\u001b[0m\u001b[1;33m(\u001b[0m\u001b[0mdf_entity\u001b[0m\u001b[1;33m,\u001b[0m \u001b[0mdictionary_match\u001b[0m\u001b[1;33m,\u001b[0m \u001b[0mdict_rep\u001b[0m\u001b[1;33m)\u001b[0m\u001b[1;33m\u001b[0m\u001b[1;33m\u001b[0m\u001b[0m\n\u001b[0;32m     15\u001b[0m     \u001b[1;32mif\u001b[0m\u001b[1;33m(\u001b[0m\u001b[0mcount\u001b[0m\u001b[1;33m==\u001b[0m\u001b[1;36m1\u001b[0m\u001b[1;33m)\u001b[0m\u001b[1;33m:\u001b[0m\u001b[1;33m\u001b[0m\u001b[1;33m\u001b[0m\u001b[0m\n",
      "\u001b[1;32m~\\Downloads\\WK\\Clients\\Prospecting Tool\\code\\final_script_risk_management.py\u001b[0m in \u001b[0;36mfinal_calculation\u001b[1;34m(df_sumbysf)\u001b[0m\n\u001b[0;32m    221\u001b[0m \u001b[1;33m\u001b[0m\u001b[0m\n\u001b[0;32m    222\u001b[0m \u001b[1;32mdef\u001b[0m \u001b[0mfinal_calculation\u001b[0m\u001b[1;33m(\u001b[0m\u001b[0mdf_sumbysf\u001b[0m\u001b[1;33m)\u001b[0m\u001b[1;33m:\u001b[0m\u001b[1;33m\u001b[0m\u001b[1;33m\u001b[0m\u001b[0m\n\u001b[1;32m--> 223\u001b[1;33m     \u001b[0mdf_sumbysf\u001b[0m\u001b[1;33m[\u001b[0m\u001b[1;34m'JMM total'\u001b[0m\u001b[1;33m]\u001b[0m\u001b[1;33m=\u001b[0m \u001b[0mdf_sumbysf\u001b[0m\u001b[1;33m.\u001b[0m\u001b[0mapply\u001b[0m\u001b[1;33m(\u001b[0m\u001b[1;32mlambda\u001b[0m \u001b[0mrow\u001b[0m \u001b[1;33m:\u001b[0m \u001b[0mrow\u001b[0m\u001b[1;33m[\u001b[0m\u001b[1;34m'JMM - Need Attention'\u001b[0m\u001b[1;33m]\u001b[0m\u001b[1;33m+\u001b[0m\u001b[0mrow\u001b[0m\u001b[1;33m[\u001b[0m\u001b[1;34m'JMM-OK Filings'\u001b[0m\u001b[1;33m]\u001b[0m\u001b[1;33m+\u001b[0m\u001b[0mrow\u001b[0m\u001b[1;33m[\u001b[0m\u001b[1;34m'JMM-Unresolved Filings'\u001b[0m\u001b[1;33m]\u001b[0m\u001b[1;33m,\u001b[0m \u001b[0maxis\u001b[0m \u001b[1;33m=\u001b[0m \u001b[1;36m1\u001b[0m\u001b[1;33m)\u001b[0m\u001b[1;33m\u001b[0m\u001b[1;33m\u001b[0m\u001b[0m\n\u001b[0m\u001b[0;32m    224\u001b[0m     \u001b[0mdf_sumbysf\u001b[0m\u001b[1;33m[\u001b[0m\u001b[1;34m'DNMM total'\u001b[0m\u001b[1;33m]\u001b[0m \u001b[1;33m=\u001b[0m \u001b[0mdf_sumbysf\u001b[0m\u001b[1;33m.\u001b[0m\u001b[0mapply\u001b[0m\u001b[1;33m(\u001b[0m\u001b[1;32mlambda\u001b[0m \u001b[0mrow\u001b[0m \u001b[1;33m:\u001b[0m \u001b[0mrow\u001b[0m\u001b[1;33m[\u001b[0m\u001b[1;34m'DNMM - Need Attention'\u001b[0m\u001b[1;33m]\u001b[0m\u001b[1;33m+\u001b[0m\u001b[0mrow\u001b[0m\u001b[1;33m[\u001b[0m\u001b[1;34m'DNMM - No Match'\u001b[0m\u001b[1;33m]\u001b[0m\u001b[1;33m+\u001b[0m\u001b[0mrow\u001b[0m\u001b[1;33m[\u001b[0m\u001b[1;34m'DNMM - Unresolved'\u001b[0m\u001b[1;33m]\u001b[0m\u001b[1;33m+\u001b[0m\u001b[0mrow\u001b[0m\u001b[1;33m[\u001b[0m\u001b[1;34m'DNMM - OK Filings'\u001b[0m\u001b[1;33m]\u001b[0m\u001b[1;33m,\u001b[0m \u001b[0maxis\u001b[0m \u001b[1;33m=\u001b[0m \u001b[1;36m1\u001b[0m\u001b[1;33m)\u001b[0m\u001b[1;33m\u001b[0m\u001b[1;33m\u001b[0m\u001b[0m\n\u001b[0;32m    225\u001b[0m \u001b[1;33m\u001b[0m\u001b[0m\n",
      "\u001b[1;31mAttributeError\u001b[0m: 'dict' object has no attribute 'apply'"
     ]
    }
   ],
   "source": [
    "count=0\n",
    "os.chdir(r\"C:\\Users\\Manish.Kumar4\\Downloads\\WK\\Clients\\Prospecting Tool\\input\")\n",
    "cwd = os.getcwd() \n",
    "src = cwd +'\\\\Recieved\\\\'\n",
    "dst = cwd + '\\\\Processed\\\\'\n",
    "for df in dict_file_names.keys():\n",
    "    count+=1\n",
    "    print(df)\n",
    "    df_temp = dict_file_names[df]\n",
    "    print(df_temp)\n",
    "    df_entity = transform_entity_stat(dict_file_names[df], entity_status )\n",
    "    print(df_entity)\n",
    "    df_= transform_others(dict_file_names[df], dictionary_match, dict_rep)\n",
    "    print(df_)\n",
    "    sum_by_sf = create_sum_by_sf(df_, df_entity, dict_rep)\n",
    "    print(sum_by_sf)\n",
    "    temp_df, columns = final_calculation(sum_by_sf)\n",
    "    example_columns, temp_example_df = get_examples(df_entity, dictionary_match, dict_rep)\n",
    "    if(count==1):\n",
    "        final_df= pd.DataFrame(columns=list(columns))\n",
    "        final_example_df= pd.DataFrame(columns=list(example_columns))\n",
    "    final_df= final_df.append(temp_df)\n",
    "    final_example_df= final_example_df.append(temp_example_df)[cols]\n",
    "    shutil.move(os.path.join(src, df), os.path.join(dst, df))"
   ]
  },
  {
   "cell_type": "code",
   "execution_count": 48,
   "metadata": {},
   "outputs": [
    {
     "data": {
      "text/plain": [
       "{'description': 'Error occured in get_examples!!'}"
      ]
     },
     "execution_count": 48,
     "metadata": {},
     "output_type": "execute_result"
    }
   ],
   "source": [
    "sum_by_sf"
   ]
  },
  {
   "cell_type": "code",
   "execution_count": 175,
   "metadata": {
    "ExecuteTime": {
     "end_time": "2020-07-06T09:35:20.541008Z",
     "start_time": "2020-07-06T09:35:20.533010Z"
    },
    "scrolled": true
   },
   "outputs": [
    {
     "data": {
      "text/plain": [
       "(40, 32)"
      ]
     },
     "execution_count": 175,
     "metadata": {},
     "output_type": "execute_result"
    }
   ],
   "source": [
    "final_example_df['Date_Processed'] = Date\n",
    "final_example_df.shape\n",
    "#final_example_df"
   ]
  },
  {
   "cell_type": "code",
   "execution_count": 176,
   "metadata": {
    "ExecuteTime": {
     "end_time": "2020-07-06T09:35:43.073715Z",
     "start_time": "2020-07-06T09:35:43.067677Z"
    },
    "scrolled": true
   },
   "outputs": [
    {
     "data": {
      "text/plain": [
       "(1, 28)"
      ]
     },
     "execution_count": 176,
     "metadata": {},
     "output_type": "execute_result"
    }
   ],
   "source": [
    "final_df['Date_Processed'] = Date\n",
    "final_df.shape"
   ]
  },
  {
   "cell_type": "code",
   "execution_count": 177,
   "metadata": {
    "ExecuteTime": {
     "end_time": "2020-07-06T09:35:44.181616Z",
     "start_time": "2020-07-06T09:35:44.178638Z"
    },
    "scrolled": true
   },
   "outputs": [],
   "source": [
    "#final_example_df.tail(10)"
   ]
  },
  {
   "cell_type": "code",
   "execution_count": 178,
   "metadata": {
    "ExecuteTime": {
     "end_time": "2020-07-06T09:35:44.883427Z",
     "start_time": "2020-07-06T09:35:44.855427Z"
    }
   },
   "outputs": [
    {
     "data": {
      "text/html": [
       "<div>\n",
       "<style scoped>\n",
       "    .dataframe tbody tr th:only-of-type {\n",
       "        vertical-align: middle;\n",
       "    }\n",
       "\n",
       "    .dataframe tbody tr th {\n",
       "        vertical-align: top;\n",
       "    }\n",
       "\n",
       "    .dataframe thead th {\n",
       "        text-align: right;\n",
       "    }\n",
       "</style>\n",
       "<table border=\"1\" class=\"dataframe\">\n",
       "  <thead>\n",
       "    <tr style=\"text-align: right;\">\n",
       "      <th></th>\n",
       "      <th>Prospect Name</th>\n",
       "      <th>Filing Sets Count (for Business Liens)</th>\n",
       "      <th>JMM total</th>\n",
       "      <th>DNMM total</th>\n",
       "      <th>Entity Status Total</th>\n",
       "      <th>JMM - Need Attention</th>\n",
       "      <th>JMM-OK Filings</th>\n",
       "      <th>JMM-Unresolved Filings</th>\n",
       "      <th>DNMM - Need Attention</th>\n",
       "      <th>DNMM - No Match</th>\n",
       "      <th>DNMM - Unresolved</th>\n",
       "      <th>DNMM - OK Filings</th>\n",
       "      <th>Entity Status - Entities that need attention</th>\n",
       "      <th>Entity Status - Entities dissolved</th>\n",
       "      <th>Entity Status - Unresolved</th>\n",
       "      <th>Entity Status - Active</th>\n",
       "      <th>JMM - Need Attention%</th>\n",
       "      <th>JMM-OK Filings%</th>\n",
       "      <th>JMM-Unresolved Filings%</th>\n",
       "      <th>DNMM - Need Attention%</th>\n",
       "      <th>DNMM - No Match%</th>\n",
       "      <th>DNMM - Unresolved%</th>\n",
       "      <th>DNMM - OK Filings%</th>\n",
       "      <th>Entity Status - Entities that need attention%</th>\n",
       "      <th>Entity Status - Entities dissolved%</th>\n",
       "      <th>Entity Status - Unresolved%</th>\n",
       "      <th>Entity Status - Active%</th>\n",
       "      <th>Date_Processed</th>\n",
       "    </tr>\n",
       "  </thead>\n",
       "  <tbody>\n",
       "    <tr>\n",
       "      <th>0</th>\n",
       "      <td>Glacier Bancorp, Inc.</td>\n",
       "      <td>13196</td>\n",
       "      <td>13933</td>\n",
       "      <td>14236</td>\n",
       "      <td>13834</td>\n",
       "      <td>634</td>\n",
       "      <td>11402</td>\n",
       "      <td>1897</td>\n",
       "      <td>3130</td>\n",
       "      <td>1897</td>\n",
       "      <td>0</td>\n",
       "      <td>9209</td>\n",
       "      <td>1400</td>\n",
       "      <td>531</td>\n",
       "      <td>1964</td>\n",
       "      <td>9939</td>\n",
       "      <td>0.045503</td>\n",
       "      <td>0.818345</td>\n",
       "      <td>0.136152</td>\n",
       "      <td>0.219865</td>\n",
       "      <td>0.133254</td>\n",
       "      <td>0.0</td>\n",
       "      <td>0.646881</td>\n",
       "      <td>0.1012</td>\n",
       "      <td>0.038384</td>\n",
       "      <td>0.141969</td>\n",
       "      <td>0.718447</td>\n",
       "      <td>Jul-06-2020</td>\n",
       "    </tr>\n",
       "  </tbody>\n",
       "</table>\n",
       "</div>"
      ],
      "text/plain": [
       "           Prospect Name Filing Sets Count (for Business Liens) JMM total  \\\n",
       "0  Glacier Bancorp, Inc.                                  13196     13933   \n",
       "\n",
       "  DNMM total Entity Status Total JMM - Need Attention JMM-OK Filings  \\\n",
       "0      14236               13834                  634          11402   \n",
       "\n",
       "  JMM-Unresolved Filings DNMM - Need Attention DNMM - No Match  \\\n",
       "0                   1897                  3130            1897   \n",
       "\n",
       "  DNMM - Unresolved DNMM - OK Filings  \\\n",
       "0                 0              9209   \n",
       "\n",
       "  Entity Status - Entities that need attention  \\\n",
       "0                                         1400   \n",
       "\n",
       "  Entity Status - Entities dissolved Entity Status - Unresolved  \\\n",
       "0                                531                       1964   \n",
       "\n",
       "  Entity Status - Active  JMM - Need Attention%  JMM-OK Filings%  \\\n",
       "0                   9939               0.045503         0.818345   \n",
       "\n",
       "   JMM-Unresolved Filings%  DNMM - Need Attention%  DNMM - No Match%  \\\n",
       "0                 0.136152                0.219865          0.133254   \n",
       "\n",
       "   DNMM - Unresolved%  DNMM - OK Filings%  \\\n",
       "0                 0.0            0.646881   \n",
       "\n",
       "   Entity Status - Entities that need attention%  \\\n",
       "0                                         0.1012   \n",
       "\n",
       "   Entity Status - Entities dissolved%  Entity Status - Unresolved%  \\\n",
       "0                             0.038384                     0.141969   \n",
       "\n",
       "   Entity Status - Active% Date_Processed  \n",
       "0                 0.718447    Jul-06-2020  "
      ]
     },
     "execution_count": 178,
     "metadata": {},
     "output_type": "execute_result"
    }
   ],
   "source": [
    "final_df"
   ]
  },
  {
   "cell_type": "code",
   "execution_count": 179,
   "metadata": {
    "ExecuteTime": {
     "end_time": "2020-07-06T09:35:52.803772Z",
     "start_time": "2020-07-06T09:35:51.899691Z"
    },
    "scrolled": false
   },
   "outputs": [
    {
     "data": {
      "text/plain": [
       "((119667, 32), (700, 30))"
      ]
     },
     "execution_count": 179,
     "metadata": {},
     "output_type": "execute_result"
    }
   ],
   "source": [
    "df_sumbysf= pd.read_csv('../input/SumBYSF_base.csv')\n",
    "df_examples = pd.read_csv('../input/Examples_base.csv')\n",
    "#df_sumbysf['Date_Processed'] = datetime.datetime(2020, 5, 25)\n",
    "df_examples.shape , df_sumbysf.shape"
   ]
  },
  {
   "cell_type": "code",
   "execution_count": 180,
   "metadata": {
    "ExecuteTime": {
     "end_time": "2020-07-06T09:35:53.698476Z",
     "start_time": "2020-07-06T09:35:53.695479Z"
    },
    "scrolled": false
   },
   "outputs": [],
   "source": [
    "#df_sumbysf.head()"
   ]
  },
  {
   "cell_type": "code",
   "execution_count": 181,
   "metadata": {
    "ExecuteTime": {
     "end_time": "2020-07-06T09:35:54.412439Z",
     "start_time": "2020-07-06T09:35:54.369452Z"
    },
    "scrolled": false
   },
   "outputs": [
    {
     "name": "stdout",
     "output_type": "stream",
     "text": [
      "(119667, 32) (700, 30)\n",
      "(119667, 32) (700, 30)\n"
     ]
    }
   ],
   "source": [
    "print(df_examples.shape, df_sumbysf.shape)\n",
    "df_examples.drop(df_examples.filter(regex=\"Unname\"),axis=1, inplace=True)\n",
    "df_sumbysf.drop(df_sumbysf.filter(regex=\"Unname\"),axis=1, inplace=True)\n",
    "print(df_examples.shape, df_sumbysf.shape)"
   ]
  },
  {
   "cell_type": "code",
   "execution_count": 182,
   "metadata": {
    "ExecuteTime": {
     "end_time": "2020-07-06T09:35:59.355440Z",
     "start_time": "2020-07-06T09:35:59.233448Z"
    },
    "scrolled": false
   },
   "outputs": [
    {
     "name": "stdout",
     "output_type": "stream",
     "text": [
      "(701, 30)\n"
     ]
    }
   ],
   "source": [
    "df_sumbysf= df_sumbysf.append(final_df, sort= False)  \n",
    "print(df_sumbysf.shape)\n",
    "df_examples = df_examples.append(final_example_df, sort= False)"
   ]
  },
  {
   "cell_type": "code",
   "execution_count": 183,
   "metadata": {
    "ExecuteTime": {
     "end_time": "2020-07-06T09:36:02.480439Z",
     "start_time": "2020-07-06T09:36:02.476441Z"
    },
    "scrolled": true
   },
   "outputs": [
    {
     "name": "stdout",
     "output_type": "stream",
     "text": [
      "(119707, 32)\n"
     ]
    }
   ],
   "source": [
    "print(df_examples.shape)"
   ]
  },
  {
   "cell_type": "code",
   "execution_count": 184,
   "metadata": {
    "ExecuteTime": {
     "end_time": "2020-07-06T09:36:05.434480Z",
     "start_time": "2020-07-06T09:36:05.422479Z"
    },
    "scrolled": false
   },
   "outputs": [
    {
     "name": "stdout",
     "output_type": "stream",
     "text": [
      "(701, 30)\n",
      "(701, 30)\n"
     ]
    }
   ],
   "source": [
    "print(df_sumbysf.shape)\n",
    "df_sumbysf = df_sumbysf.drop_duplicates(subset = ['Prospect Name','Date_Processed'], keep='last') \n",
    "df_sumbysf = df_sumbysf.sort_values(by=['Date_Processed'])\n",
    "df_sumbysf = df_sumbysf.drop_duplicates(subset = ['Prospect Name'], keep='last') \n",
    "print(df_sumbysf.shape)"
   ]
  },
  {
   "cell_type": "code",
   "execution_count": 185,
   "metadata": {
    "ExecuteTime": {
     "end_time": "2020-07-06T09:36:13.117821Z",
     "start_time": "2020-07-06T09:36:09.091823Z"
    },
    "scrolled": false
   },
   "outputs": [],
   "source": [
    "df_sumbysf.to_csv('../output/SumBYSF_base_{}.csv'.format(Date) , index = False)\n",
    "df_sumbysf.to_csv('../input/SumBYSF_base.csv', index = False)\n",
    "\n",
    "df_examples.to_csv('../output/Examples_base_{}.csv'.format(Date), index = False)\n",
    "df_examples.to_csv('../input/Examples_base.csv', index = False)"
   ]
  },
  {
   "cell_type": "code",
   "execution_count": 186,
   "metadata": {
    "ExecuteTime": {
     "end_time": "2020-07-06T09:36:13.868828Z",
     "start_time": "2020-07-06T09:36:13.865861Z"
    },
    "scrolled": false
   },
   "outputs": [
    {
     "name": "stdout",
     "output_type": "stream",
     "text": [
      "(701, 30)\n"
     ]
    }
   ],
   "source": [
    "print(df_sumbysf.shape)"
   ]
  },
  {
   "cell_type": "markdown",
   "metadata": {},
   "source": [
    "#########################################################################3"
   ]
  },
  {
   "cell_type": "code",
   "execution_count": 188,
   "metadata": {
    "ExecuteTime": {
     "end_time": "2020-07-06T09:36:23.033905Z",
     "start_time": "2020-07-06T09:36:23.012906Z"
    },
    "scrolled": false
   },
   "outputs": [
    {
     "data": {
      "text/plain": [
       "(701, 30)"
      ]
     },
     "execution_count": 188,
     "metadata": {},
     "output_type": "execute_result"
    }
   ],
   "source": [
    "df_sumbysf= pd.read_csv(r'../input/SumBYSF_base.csv') \n",
    "df_sumbysf.drop(df_sumbysf.filter(regex=\"Unname\"),axis=1, inplace=True)\n",
    "df_sumbysf['Rep Assigned']= ''\n",
    "df_sumbysf['Selected?']= ''\n",
    "df_sumbysf.shape"
   ]
  },
  {
   "cell_type": "code",
   "execution_count": 189,
   "metadata": {
    "ExecuteTime": {
     "end_time": "2020-07-06T09:36:23.815917Z",
     "start_time": "2020-07-06T09:36:23.765904Z"
    },
    "scrolled": false
   },
   "outputs": [
    {
     "data": {
      "text/html": [
       "<div>\n",
       "<style scoped>\n",
       "    .dataframe tbody tr th:only-of-type {\n",
       "        vertical-align: middle;\n",
       "    }\n",
       "\n",
       "    .dataframe tbody tr th {\n",
       "        vertical-align: top;\n",
       "    }\n",
       "\n",
       "    .dataframe thead th {\n",
       "        text-align: right;\n",
       "    }\n",
       "</style>\n",
       "<table border=\"1\" class=\"dataframe\">\n",
       "  <thead>\n",
       "    <tr style=\"text-align: right;\">\n",
       "      <th></th>\n",
       "      <th>Prospect Name</th>\n",
       "      <th>Rep Assigned</th>\n",
       "      <th>KPI</th>\n",
       "      <th>Value</th>\n",
       "    </tr>\n",
       "  </thead>\n",
       "  <tbody>\n",
       "    <tr>\n",
       "      <th>0</th>\n",
       "      <td>Banco Santander SA</td>\n",
       "      <td></td>\n",
       "      <td>Filing Sets Count (for Business Liens)</td>\n",
       "      <td>86649.00</td>\n",
       "    </tr>\n",
       "    <tr>\n",
       "      <th>1</th>\n",
       "      <td>Bank of Edwardsville</td>\n",
       "      <td></td>\n",
       "      <td>Filing Sets Count (for Business Liens)</td>\n",
       "      <td>3635.00</td>\n",
       "    </tr>\n",
       "    <tr>\n",
       "      <th>2</th>\n",
       "      <td>Altoona First Savings Bank</td>\n",
       "      <td></td>\n",
       "      <td>Filing Sets Count (for Business Liens)</td>\n",
       "      <td>585.00</td>\n",
       "    </tr>\n",
       "    <tr>\n",
       "      <th>3</th>\n",
       "      <td>Amboy Bancorporation</td>\n",
       "      <td></td>\n",
       "      <td>Filing Sets Count (for Business Liens)</td>\n",
       "      <td>3036.00</td>\n",
       "    </tr>\n",
       "    <tr>\n",
       "      <th>4</th>\n",
       "      <td>Bank First National Corporation</td>\n",
       "      <td></td>\n",
       "      <td>Filing Sets Count (for Business Liens)</td>\n",
       "      <td>5387.00</td>\n",
       "    </tr>\n",
       "    <tr>\n",
       "      <th>...</th>\n",
       "      <td>...</td>\n",
       "      <td>...</td>\n",
       "      <td>...</td>\n",
       "      <td>...</td>\n",
       "    </tr>\n",
       "    <tr>\n",
       "      <th>18221</th>\n",
       "      <td>McGrath Rentcorp</td>\n",
       "      <td></td>\n",
       "      <td>Entity Status - Active%</td>\n",
       "      <td>0.52</td>\n",
       "    </tr>\n",
       "    <tr>\n",
       "      <th>18222</th>\n",
       "      <td>Marco's Franchising, LLC</td>\n",
       "      <td></td>\n",
       "      <td>Entity Status - Active%</td>\n",
       "      <td>0.71</td>\n",
       "    </tr>\n",
       "    <tr>\n",
       "      <th>18223</th>\n",
       "      <td>Nfs Leasing, Inc.</td>\n",
       "      <td></td>\n",
       "      <td>Entity Status - Active%</td>\n",
       "      <td>0.52</td>\n",
       "    </tr>\n",
       "    <tr>\n",
       "      <th>18224</th>\n",
       "      <td>Marubeni Corporation</td>\n",
       "      <td></td>\n",
       "      <td>Entity Status - Active%</td>\n",
       "      <td>0.52</td>\n",
       "    </tr>\n",
       "    <tr>\n",
       "      <th>18225</th>\n",
       "      <td>Palomar Enterprises, LLC</td>\n",
       "      <td></td>\n",
       "      <td>Entity Status - Active%</td>\n",
       "      <td>0.66</td>\n",
       "    </tr>\n",
       "  </tbody>\n",
       "</table>\n",
       "<p>18226 rows × 4 columns</p>\n",
       "</div>"
      ],
      "text/plain": [
       "                         Prospect Name Rep Assigned  \\\n",
       "0                   Banco Santander SA                \n",
       "1                 Bank of Edwardsville                \n",
       "2           Altoona First Savings Bank                \n",
       "3                 Amboy Bancorporation                \n",
       "4      Bank First National Corporation                \n",
       "...                                ...          ...   \n",
       "18221                 McGrath Rentcorp                \n",
       "18222         Marco's Franchising, LLC                \n",
       "18223                Nfs Leasing, Inc.                \n",
       "18224             Marubeni Corporation                \n",
       "18225         Palomar Enterprises, LLC                \n",
       "\n",
       "                                          KPI     Value  \n",
       "0      Filing Sets Count (for Business Liens)  86649.00  \n",
       "1      Filing Sets Count (for Business Liens)   3635.00  \n",
       "2      Filing Sets Count (for Business Liens)    585.00  \n",
       "3      Filing Sets Count (for Business Liens)   3036.00  \n",
       "4      Filing Sets Count (for Business Liens)   5387.00  \n",
       "...                                       ...       ...  \n",
       "18221                 Entity Status - Active%      0.52  \n",
       "18222                 Entity Status - Active%      0.71  \n",
       "18223                 Entity Status - Active%      0.52  \n",
       "18224                 Entity Status - Active%      0.52  \n",
       "18225                 Entity Status - Active%      0.66  \n",
       "\n",
       "[18226 rows x 4 columns]"
      ]
     },
     "execution_count": 189,
     "metadata": {},
     "output_type": "execute_result"
    }
   ],
   "source": [
    "summary = df_sumbysf.melt(id_vars=['Prospect Name', 'Selected?', 'Date_Processed', 'Rep Assigned'], var_name='KPI', value_name='Value')\n",
    "summary = summary[['Prospect Name', 'Rep Assigned','KPI','Value']]\n",
    "summary['Value'] = summary['Value'].apply(lambda x: round(x,2)).astype(float)\n",
    "summary"
   ]
  },
  {
   "cell_type": "code",
   "execution_count": 190,
   "metadata": {
    "ExecuteTime": {
     "end_time": "2020-07-06T09:36:27.305069Z",
     "start_time": "2020-07-06T09:36:27.292068Z"
    },
    "scrolled": false
   },
   "outputs": [],
   "source": [
    "summary['Prospect_Name_lower']= summary['Prospect Name'].str.lower()\n",
    "merged_df['Parent_Name_2019_lower']= merged_df['Parent name (per 2019 PR)'].str.lower()\n",
    "merged_df['Parent_Name_2018_lower']= merged_df['Parent name (per 2018 PR)'].str.lower()"
   ]
  },
  {
   "cell_type": "code",
   "execution_count": 191,
   "metadata": {
    "ExecuteTime": {
     "end_time": "2020-07-06T09:36:27.950069Z",
     "start_time": "2020-07-06T09:36:27.919069Z"
    },
    "scrolled": false
   },
   "outputs": [],
   "source": [
    "summary_2019 = pd.merge(left=merged_df, right= summary , right_on='Prospect_Name_lower', left_on='Parent_Name_2019_lower', how='inner')\n",
    "li_ = list(set(list(summary['Prospect_Name_lower']))- set(list(summary_2019['Parent_Name_2019_lower'])))"
   ]
  },
  {
   "cell_type": "code",
   "execution_count": 192,
   "metadata": {
    "ExecuteTime": {
     "end_time": "2020-07-06T09:36:28.635066Z",
     "start_time": "2020-07-06T09:36:28.631075Z"
    },
    "scrolled": true
   },
   "outputs": [],
   "source": [
    "summary_2019['Base_Prospect_Name'] = summary_2019['Parent name (per 2019 PR)']"
   ]
  },
  {
   "cell_type": "code",
   "execution_count": 193,
   "metadata": {
    "ExecuteTime": {
     "end_time": "2020-07-06T09:36:29.214089Z",
     "start_time": "2020-07-06T09:36:29.202068Z"
    },
    "scrolled": true
   },
   "outputs": [
    {
     "data": {
      "text/plain": [
       "(1664, 5)"
      ]
     },
     "execution_count": 193,
     "metadata": {},
     "output_type": "execute_result"
    }
   ],
   "source": [
    "summary_temp = summary[summary['Prospect_Name_lower'].isin(li_)]\n",
    "summary_temp.shape"
   ]
  },
  {
   "cell_type": "code",
   "execution_count": 194,
   "metadata": {
    "ExecuteTime": {
     "end_time": "2020-07-06T09:36:31.463980Z",
     "start_time": "2020-07-06T09:36:31.451993Z"
    },
    "scrolled": true
   },
   "outputs": [],
   "source": [
    "summary_2018 = pd.merge(left=merged_df, right= summary_temp , right_on='Prospect_Name_lower', left_on='Parent_Name_2018_lower', how='inner')\n",
    "summary_2018.shape\n",
    "summary_2018['Base_Prospect_Name'] = summary_2018['Parent name (per 2018 PR)']"
   ]
  },
  {
   "cell_type": "code",
   "execution_count": 195,
   "metadata": {
    "ExecuteTime": {
     "end_time": "2020-07-06T09:36:31.979982Z",
     "start_time": "2020-07-06T09:36:31.974981Z"
    },
    "scrolled": true
   },
   "outputs": [],
   "source": [
    "#summary_2018.shape"
   ]
  },
  {
   "cell_type": "code",
   "execution_count": 196,
   "metadata": {
    "ExecuteTime": {
     "end_time": "2020-07-06T09:36:32.518982Z",
     "start_time": "2020-07-06T09:36:32.477991Z"
    },
    "scrolled": true
   },
   "outputs": [],
   "source": [
    "summary_fin = pd.concat([summary_2019, summary_2018])"
   ]
  },
  {
   "cell_type": "code",
   "execution_count": 197,
   "metadata": {
    "ExecuteTime": {
     "end_time": "2020-07-06T09:36:34.330399Z",
     "start_time": "2020-07-06T09:36:34.326392Z"
    },
    "scrolled": true
   },
   "outputs": [
    {
     "data": {
      "text/plain": [
       "(18070, 21)"
      ]
     },
     "execution_count": 197,
     "metadata": {},
     "output_type": "execute_result"
    }
   ],
   "source": [
    "summary_fin.shape\n",
    "#summary_fin.drop_duplicates()\n",
    "#summary_fin[summary_fin['Parent name (per 2019 PR)'].str.contains('Carbucks of Carolina, Inc.')]"
   ]
  },
  {
   "cell_type": "code",
   "execution_count": 198,
   "metadata": {
    "ExecuteTime": {
     "end_time": "2020-07-06T09:36:35.433569Z",
     "start_time": "2020-07-06T09:36:35.419566Z"
    },
    "scrolled": false
   },
   "outputs": [
    {
     "data": {
      "text/plain": [
       "(18070, 18)"
      ]
     },
     "execution_count": 198,
     "metadata": {},
     "output_type": "execute_result"
    }
   ],
   "source": [
    "summary_fin = summary_fin.drop(columns=['Prospect_Name_lower', 'Parent_Name_2019_lower', 'Parent_Name_2018_lower'])\n",
    "summary_fin.shape"
   ]
  },
  {
   "cell_type": "code",
   "execution_count": 199,
   "metadata": {
    "ExecuteTime": {
     "end_time": "2020-07-06T09:36:40.787761Z",
     "start_time": "2020-07-06T09:36:40.782761Z"
    },
    "scrolled": false
   },
   "outputs": [],
   "source": [
    "#summary1[summary1['Prospect Name'].str.contains('Old Second Bancorp, Inc.')]\n",
    "#summary1[summary1['Prospect Name'].str.contains('NEW EQUIPMENT LEASING, INC.')]\n",
    "summary_fin['Prospect Name'] =  summary_fin['Parent name (per 2018 PR)']\n",
    "#summary1.columns\n",
    "#New Equipment Leasing, Inc."
   ]
  },
  {
   "cell_type": "code",
   "execution_count": 200,
   "metadata": {
    "ExecuteTime": {
     "end_time": "2020-07-06T09:36:41.385694Z",
     "start_time": "2020-07-06T09:36:41.382694Z"
    },
    "scrolled": true
   },
   "outputs": [
    {
     "data": {
      "text/plain": [
       "(18070, 18)"
      ]
     },
     "execution_count": 200,
     "metadata": {},
     "output_type": "execute_result"
    }
   ],
   "source": [
    "summary_fin.shape"
   ]
  },
  {
   "cell_type": "code",
   "execution_count": 201,
   "metadata": {
    "ExecuteTime": {
     "end_time": "2020-07-06T09:36:43.174396Z",
     "start_time": "2020-07-06T09:36:43.165374Z"
    },
    "scrolled": false
   },
   "outputs": [],
   "source": [
    "summary_fin = summary_fin.rename(columns= {'Public Record 2019 ': 'Public Record 2016', '% change 2019 vs. 2018': '% change 2017 vs. 2016', \n",
    "                    'Public Record 2018': 'Public Rdcord 2018', 'Public Record 2019 ':'Public Record 2016'})"
   ]
  },
  {
   "cell_type": "code",
   "execution_count": 202,
   "metadata": {
    "ExecuteTime": {
     "end_time": "2020-07-06T09:36:45.324425Z",
     "start_time": "2020-07-06T09:36:45.128291Z"
    },
    "scrolled": false
   },
   "outputs": [],
   "source": [
    "#summary_2019\n",
    "summary_fin.to_csv(r\"../output/summary.csv\" )"
   ]
  },
  {
   "cell_type": "markdown",
   "metadata": {},
   "source": [
    "####################################"
   ]
  },
  {
   "cell_type": "code",
   "execution_count": 203,
   "metadata": {
    "ExecuteTime": {
     "end_time": "2020-07-06T09:39:30.762897Z",
     "start_time": "2020-07-06T09:39:30.757893Z"
    },
    "scrolled": false
   },
   "outputs": [],
   "source": [
    "df_kpi = df_sumbysf[['Prospect Name', 'Rep Assigned',\n",
    "       'Filing Sets Count (for Business Liens)','JMM - Need Attention%','DNMM - Need Attention%','Entity Status - Entities that need attention%','Entity Status - Entities dissolved%']]"
   ]
  },
  {
   "cell_type": "code",
   "execution_count": 204,
   "metadata": {
    "ExecuteTime": {
     "end_time": "2020-07-06T09:39:40.586812Z",
     "start_time": "2020-07-06T09:39:40.570813Z"
    },
    "scrolled": true
   },
   "outputs": [],
   "source": [
    "df_kpi['Filing Sets Count (for Business Liens)'] = df_kpi['Filing Sets Count (for Business Liens)'].apply(lambda x: round(x,0)).astype(int)\n",
    "df_kpi['JMM - Need Attention%'] = df_kpi['JMM - Need Attention%'].apply(lambda x: round(x*100,2)).astype(float)\n",
    "df_kpi['DNMM - Need Attention%'] = df_kpi['DNMM - Need Attention%'].apply(lambda x: round(x*100,2)).astype(float)\n",
    "df_kpi['Entity Status - Entities that need attention%'] = df_kpi['Entity Status - Entities that need attention%'].apply(lambda x: round(x*100,2)).astype(float)\n",
    "df_kpi['Entity Status - Entities dissolved%'] = df_kpi['Entity Status - Entities dissolved%'].apply(lambda x: round(x*100,2)).astype(float)\n",
    "df_kpi['JMM - Need Attention%'] = df_kpi['JMM - Need Attention%'].apply(lambda x: round(x,2)).astype(float)\n",
    "#df_kpi['Prospect Name']= df_kpi['Prospect Name'].str.lower()"
   ]
  },
  {
   "cell_type": "code",
   "execution_count": 205,
   "metadata": {
    "ExecuteTime": {
     "end_time": "2020-07-06T09:39:46.016277Z",
     "start_time": "2020-07-06T09:39:46.001292Z"
    },
    "scrolled": true
   },
   "outputs": [
    {
     "data": {
      "text/html": [
       "<div>\n",
       "<style scoped>\n",
       "    .dataframe tbody tr th:only-of-type {\n",
       "        vertical-align: middle;\n",
       "    }\n",
       "\n",
       "    .dataframe tbody tr th {\n",
       "        vertical-align: top;\n",
       "    }\n",
       "\n",
       "    .dataframe thead th {\n",
       "        text-align: right;\n",
       "    }\n",
       "</style>\n",
       "<table border=\"1\" class=\"dataframe\">\n",
       "  <thead>\n",
       "    <tr style=\"text-align: right;\">\n",
       "      <th></th>\n",
       "      <th>Prospect Name</th>\n",
       "      <th>Rep Assigned</th>\n",
       "      <th>Filing Sets Count (for Business Liens)</th>\n",
       "      <th>JMM - Need Attention%</th>\n",
       "      <th>DNMM - Need Attention%</th>\n",
       "      <th>Entity Status - Entities that need attention%</th>\n",
       "      <th>Entity Status - Entities dissolved%</th>\n",
       "    </tr>\n",
       "  </thead>\n",
       "  <tbody>\n",
       "    <tr>\n",
       "      <th>0</th>\n",
       "      <td>Banco Santander SA</td>\n",
       "      <td></td>\n",
       "      <td>86649</td>\n",
       "      <td>20.49</td>\n",
       "      <td>24.09</td>\n",
       "      <td>8.90</td>\n",
       "      <td>10.24</td>\n",
       "    </tr>\n",
       "    <tr>\n",
       "      <th>1</th>\n",
       "      <td>Bank of Edwardsville</td>\n",
       "      <td></td>\n",
       "      <td>3635</td>\n",
       "      <td>2.48</td>\n",
       "      <td>30.95</td>\n",
       "      <td>4.35</td>\n",
       "      <td>19.12</td>\n",
       "    </tr>\n",
       "    <tr>\n",
       "      <th>2</th>\n",
       "      <td>Altoona First Savings Bank</td>\n",
       "      <td></td>\n",
       "      <td>585</td>\n",
       "      <td>5.60</td>\n",
       "      <td>46.89</td>\n",
       "      <td>4.24</td>\n",
       "      <td>0.00</td>\n",
       "    </tr>\n",
       "    <tr>\n",
       "      <th>3</th>\n",
       "      <td>Amboy Bancorporation</td>\n",
       "      <td></td>\n",
       "      <td>3036</td>\n",
       "      <td>1.35</td>\n",
       "      <td>0.99</td>\n",
       "      <td>0.82</td>\n",
       "      <td>0.00</td>\n",
       "    </tr>\n",
       "    <tr>\n",
       "      <th>4</th>\n",
       "      <td>Bank First National Corporation</td>\n",
       "      <td></td>\n",
       "      <td>5387</td>\n",
       "      <td>5.74</td>\n",
       "      <td>25.69</td>\n",
       "      <td>11.45</td>\n",
       "      <td>6.54</td>\n",
       "    </tr>\n",
       "    <tr>\n",
       "      <th>...</th>\n",
       "      <td>...</td>\n",
       "      <td>...</td>\n",
       "      <td>...</td>\n",
       "      <td>...</td>\n",
       "      <td>...</td>\n",
       "      <td>...</td>\n",
       "      <td>...</td>\n",
       "    </tr>\n",
       "    <tr>\n",
       "      <th>696</th>\n",
       "      <td>McGrath Rentcorp</td>\n",
       "      <td></td>\n",
       "      <td>1663</td>\n",
       "      <td>13.90</td>\n",
       "      <td>15.37</td>\n",
       "      <td>15.93</td>\n",
       "      <td>1.99</td>\n",
       "    </tr>\n",
       "    <tr>\n",
       "      <th>697</th>\n",
       "      <td>Marco's Franchising, LLC</td>\n",
       "      <td></td>\n",
       "      <td>1266</td>\n",
       "      <td>4.38</td>\n",
       "      <td>42.73</td>\n",
       "      <td>14.12</td>\n",
       "      <td>3.53</td>\n",
       "    </tr>\n",
       "    <tr>\n",
       "      <th>698</th>\n",
       "      <td>Nfs Leasing, Inc.</td>\n",
       "      <td></td>\n",
       "      <td>3213</td>\n",
       "      <td>16.94</td>\n",
       "      <td>15.99</td>\n",
       "      <td>14.99</td>\n",
       "      <td>4.32</td>\n",
       "    </tr>\n",
       "    <tr>\n",
       "      <th>699</th>\n",
       "      <td>Marubeni Corporation</td>\n",
       "      <td></td>\n",
       "      <td>2043</td>\n",
       "      <td>6.37</td>\n",
       "      <td>25.78</td>\n",
       "      <td>6.04</td>\n",
       "      <td>3.79</td>\n",
       "    </tr>\n",
       "    <tr>\n",
       "      <th>700</th>\n",
       "      <td>Palomar Enterprises, LLC</td>\n",
       "      <td></td>\n",
       "      <td>3438</td>\n",
       "      <td>2.69</td>\n",
       "      <td>4.59</td>\n",
       "      <td>7.47</td>\n",
       "      <td>1.62</td>\n",
       "    </tr>\n",
       "  </tbody>\n",
       "</table>\n",
       "<p>701 rows × 7 columns</p>\n",
       "</div>"
      ],
      "text/plain": [
       "                       Prospect Name Rep Assigned  \\\n",
       "0                 Banco Santander SA                \n",
       "1               Bank of Edwardsville                \n",
       "2         Altoona First Savings Bank                \n",
       "3               Amboy Bancorporation                \n",
       "4    Bank First National Corporation                \n",
       "..                               ...          ...   \n",
       "696                 McGrath Rentcorp                \n",
       "697         Marco's Franchising, LLC                \n",
       "698                Nfs Leasing, Inc.                \n",
       "699             Marubeni Corporation                \n",
       "700         Palomar Enterprises, LLC                \n",
       "\n",
       "     Filing Sets Count (for Business Liens)  JMM - Need Attention%  \\\n",
       "0                                     86649                  20.49   \n",
       "1                                      3635                   2.48   \n",
       "2                                       585                   5.60   \n",
       "3                                      3036                   1.35   \n",
       "4                                      5387                   5.74   \n",
       "..                                      ...                    ...   \n",
       "696                                    1663                  13.90   \n",
       "697                                    1266                   4.38   \n",
       "698                                    3213                  16.94   \n",
       "699                                    2043                   6.37   \n",
       "700                                    3438                   2.69   \n",
       "\n",
       "     DNMM - Need Attention%  Entity Status - Entities that need attention%  \\\n",
       "0                     24.09                                           8.90   \n",
       "1                     30.95                                           4.35   \n",
       "2                     46.89                                           4.24   \n",
       "3                      0.99                                           0.82   \n",
       "4                     25.69                                          11.45   \n",
       "..                      ...                                            ...   \n",
       "696                   15.37                                          15.93   \n",
       "697                   42.73                                          14.12   \n",
       "698                   15.99                                          14.99   \n",
       "699                   25.78                                           6.04   \n",
       "700                    4.59                                           7.47   \n",
       "\n",
       "     Entity Status - Entities dissolved%  \n",
       "0                                  10.24  \n",
       "1                                  19.12  \n",
       "2                                   0.00  \n",
       "3                                   0.00  \n",
       "4                                   6.54  \n",
       "..                                   ...  \n",
       "696                                 1.99  \n",
       "697                                 3.53  \n",
       "698                                 4.32  \n",
       "699                                 3.79  \n",
       "700                                 1.62  \n",
       "\n",
       "[701 rows x 7 columns]"
      ]
     },
     "execution_count": 205,
     "metadata": {},
     "output_type": "execute_result"
    }
   ],
   "source": [
    "df_kpi"
   ]
  },
  {
   "cell_type": "code",
   "execution_count": 206,
   "metadata": {
    "ExecuteTime": {
     "end_time": "2020-07-06T09:40:00.650679Z",
     "start_time": "2020-07-06T09:40:00.637680Z"
    },
    "scrolled": false
   },
   "outputs": [
    {
     "data": {
      "text/plain": [
       "(701, 27)"
      ]
     },
     "execution_count": 206,
     "metadata": {},
     "output_type": "execute_result"
    }
   ],
   "source": [
    "#df_merge = df_master[['Parent name (per 2018 PR)','Sales assignemnt','Access_all_1','Access_all_2','Access_all_3','Access_all_4','Access_all_5']]\n",
    "#merged_df= pd.merge(left=df_merge,right=df_role, how='left' , right_on='Sale assigned', left_on='Sales assignemnt')\n",
    "df_kpi\n",
    "df_prospects['Prospect_lower']= df_prospects['Prospect'].str.lower()\n",
    "df_kpi['Prospect_Name_lower']= df_kpi['Prospect Name'].str.lower()\n",
    "df_kpi = pd.merge(left=df_kpi,right=df_prospects, how='left' , right_on='Prospect_lower', left_on='Prospect_Name_lower')\n",
    "df_kpi.shape\n",
    "#df_kpi"
   ]
  },
  {
   "cell_type": "code",
   "execution_count": 207,
   "metadata": {
    "ExecuteTime": {
     "end_time": "2020-07-06T09:40:10.826753Z",
     "start_time": "2020-07-06T09:40:10.823750Z"
    },
    "scrolled": false
   },
   "outputs": [
    {
     "data": {
      "text/plain": [
       "(1528, 42)"
      ]
     },
     "execution_count": 207,
     "metadata": {},
     "output_type": "execute_result"
    }
   ],
   "source": [
    "df_master.shape"
   ]
  },
  {
   "cell_type": "code",
   "execution_count": 208,
   "metadata": {
    "ExecuteTime": {
     "end_time": "2020-07-06T09:40:18.127023Z",
     "start_time": "2020-07-06T09:40:18.121023Z"
    },
    "scrolled": false
   },
   "outputs": [],
   "source": [
    "#df_kpi['Prospect_Name_lower']= df_kpi['Prospect Name'].str.lower()\n",
    "#df_master['Parent_Name_lower']= df_master['Parent name (per 2018 PR)'].str.lower()\n",
    "df_master['Parent_Name_2018_lower']= df_master['Parent name (per 2018 PR)'].str.lower()\n",
    "df_master['Parent_Name_2019_lower']= df_master['Parent name (per 2019 PR)'].str.lower()"
   ]
  },
  {
   "cell_type": "code",
   "execution_count": 209,
   "metadata": {
    "ExecuteTime": {
     "end_time": "2020-07-06T09:40:23.256093Z",
     "start_time": "2020-07-06T09:40:23.241059Z"
    },
    "scrolled": false
   },
   "outputs": [
    {
     "data": {
      "text/plain": [
       "(640, 73)"
      ]
     },
     "execution_count": 209,
     "metadata": {},
     "output_type": "execute_result"
    }
   ],
   "source": [
    "from datetime import date\n",
    "df_kpi['Updaed Date'] =  date.today()\n",
    "final = pd.merge(left=df_master, right= df_kpi , right_on='Prospect_Name_lower', left_on='Parent_Name_2019_lower', how='inner')\n",
    "final['Base_Prospect_Name'] = final['Parent name (per 2019 PR)']\n",
    "final.shape"
   ]
  },
  {
   "cell_type": "code",
   "execution_count": 78,
   "metadata": {
    "ExecuteTime": {
     "end_time": "2020-07-06T05:15:42.069938Z",
     "start_time": "2020-07-06T05:15:42.065936Z"
    }
   },
   "outputs": [
    {
     "data": {
      "text/plain": [
       "Index(['Index', 'Client (PAG)', 'Parent name (per 2018 PR)',\n",
       "       'Parent name (per 2019 PR)', 'Public Record 2016', 'Public Rdcord 2018',\n",
       "       '% change 2017 vs. 2016', 'SF share of public filing',\n",
       "       'WKLS share of public filing', '% of filing using non WKLS vendors',\n",
       "       '# of filing offices (/ # of filing zips)', 'UCC 3 % over total filing',\n",
       "       '# of filing jurisdictions', '# of jurisdictions w/ filing > 100',\n",
       "       'Top vol state', '2nd vol state', '3rd vol state',\n",
       "       'Top UCC vol State Srch rating', '2nd UCC vol State Srch rating',\n",
       "       '3rd UCC vol State Srch rating',\n",
       "       '% of filing vol in top 6 states (how disbursed?)',\n",
       "       'Self Filer Segments', 'Updated User type', 'Asset size (M)',\n",
       "       'Commercial loan value (M)', 'Commercial loans %', 'Consumer loans %',\n",
       "       'Real estate loan %', 'Auto (New & used) loan %', 'Delinquency rate',\n",
       "       'Personal Lien %', 'Business Lien%', '% Filing Date Order > 1',\n",
       "       'Sales assignemnt', 'Add'l Non CSC Competitor Info', 'Other Notes',\n",
       "       'Access_all_1', 'Access_all_2', 'Access_all_3', 'Access_all_4',\n",
       "       'Access_all_5', 'Access_all_6', 'Parent_Name_2018_lower',\n",
       "       'Parent_Name_2019_lower'],\n",
       "      dtype='object')"
      ]
     },
     "execution_count": 78,
     "metadata": {},
     "output_type": "execute_result"
    }
   ],
   "source": [
    "df_master.columns"
   ]
  },
  {
   "cell_type": "code",
   "execution_count": 80,
   "metadata": {
    "ExecuteTime": {
     "end_time": "2020-07-06T05:15:43.773040Z",
     "start_time": "2020-07-06T05:15:43.769046Z"
    },
    "scrolled": true
   },
   "outputs": [],
   "source": [
    "#temp"
   ]
  },
  {
   "cell_type": "code",
   "execution_count": 210,
   "metadata": {
    "ExecuteTime": {
     "end_time": "2020-07-06T09:40:30.943351Z",
     "start_time": "2020-07-06T09:40:30.924354Z"
    },
    "scrolled": true
   },
   "outputs": [
    {
     "data": {
      "text/plain": [
       "(53, 73)"
      ]
     },
     "execution_count": 210,
     "metadata": {},
     "output_type": "execute_result"
    }
   ],
   "source": [
    "list_= list(final['Prospect_Name_lower'])\n",
    "df_temp = df_master[~df_master['Parent_Name_2019_lower'].isin(list_)]\n",
    "final_temp = pd.merge(left=df_temp, right= df_kpi , right_on='Prospect_Name_lower', left_on='Parent_Name_2018_lower', how='inner')\n",
    "final_temp['Base_Prospect_Name'] = final_temp['Parent name (per 2018 PR)']\n",
    "final_temp.shape"
   ]
  },
  {
   "cell_type": "code",
   "execution_count": 211,
   "metadata": {
    "ExecuteTime": {
     "end_time": "2020-07-06T09:40:37.226141Z",
     "start_time": "2020-07-06T09:40:37.207135Z"
    },
    "scrolled": true
   },
   "outputs": [
    {
     "data": {
      "text/plain": [
       "(835, 45)"
      ]
     },
     "execution_count": 211,
     "metadata": {},
     "output_type": "execute_result"
    }
   ],
   "source": [
    "list_temp= list(final_temp['Prospect_Name_lower'])\n",
    "#li_ = list(set(list(df_master['Parent_Name_2019_lower']))- set(list(final['Prospect_Name_lower'])))\n",
    "df_temp_fin = df_temp[~df_temp['Parent_Name_2018_lower'].isin(list_temp)]\n",
    "base_prospect_name=[]\n",
    "for line in df_temp_fin[['Parent name (per 2019 PR)', 'Parent name (per 2018 PR)']].itertuples():\n",
    "    if line[1] != '':\n",
    "        base_prospect_name.append(line[1])\n",
    "    elif line[2] != '':\n",
    "        base_prospect_name.append(line[2])\n",
    "    else:\n",
    "        base_prospect_name.append('Unknown')\n",
    "\n",
    "df_temp_fin['Base_Prospect_Name'] = np.asarray(base_prospect_name)\n",
    "#final_fin = pd.merge(left=df_temp_fin, right= df_kpi , right_on='Prospect_Name_lower', left_on='Parent_Name_2018_lower', how='inner')\n",
    "df_temp_fin.shape"
   ]
  },
  {
   "cell_type": "code",
   "execution_count": 212,
   "metadata": {
    "ExecuteTime": {
     "end_time": "2020-07-06T09:40:44.398438Z",
     "start_time": "2020-07-06T09:40:44.370831Z"
    },
    "scrolled": true
   },
   "outputs": [],
   "source": [
    "kpi_fin = pd.concat([final, final_temp, df_temp_fin])"
   ]
  },
  {
   "cell_type": "code",
   "execution_count": 213,
   "metadata": {
    "ExecuteTime": {
     "end_time": "2020-07-06T09:40:52.449122Z",
     "start_time": "2020-07-06T09:40:52.445119Z"
    },
    "scrolled": true
   },
   "outputs": [
    {
     "data": {
      "text/plain": [
       "(1528, 73)"
      ]
     },
     "execution_count": 213,
     "metadata": {},
     "output_type": "execute_result"
    }
   ],
   "source": [
    "kpi_fin.shape"
   ]
  },
  {
   "cell_type": "code",
   "execution_count": 214,
   "metadata": {
    "ExecuteTime": {
     "end_time": "2020-07-06T09:40:57.717864Z",
     "start_time": "2020-07-06T09:40:57.713865Z"
    },
    "scrolled": false
   },
   "outputs": [],
   "source": [
    "kpi_fin['Prospect Name'] = kpi_fin['Prospect Name'].fillna('')"
   ]
  },
  {
   "cell_type": "code",
   "execution_count": 215,
   "metadata": {
    "ExecuteTime": {
     "end_time": "2020-07-06T09:40:58.718249Z",
     "start_time": "2020-07-06T09:40:58.704243Z"
    },
    "scrolled": false
   },
   "outputs": [
    {
     "data": {
      "text/plain": [
       "(1528, 77)"
      ]
     },
     "execution_count": 215,
     "metadata": {},
     "output_type": "execute_result"
    }
   ],
   "source": [
    "#final['Sales assignemnt']=final['Sales assignemnt'].str.lower()\n",
    "#df_role['Sale assigned']=df_role['Sale assigned'].str.lower()\n",
    "final= pd.merge(left=kpi_fin,right=df_role, how='left' , right_on='Sale assigned', left_on='Sales assignemnt')\n",
    "final.shape"
   ]
  },
  {
   "cell_type": "code",
   "execution_count": 216,
   "metadata": {
    "ExecuteTime": {
     "end_time": "2020-07-06T09:40:59.695899Z",
     "start_time": "2020-07-06T09:40:59.692903Z"
    },
    "scrolled": false
   },
   "outputs": [],
   "source": [
    "# df_prospects.shape\n",
    "# #df_prospects['Prospect'] = df_prospects['Prospect'].str.lower()\n",
    "# final_with_seg = pd.merge(left=final,right=df_prospects, how='left' , right_on='Prospect_Name_lower', left_on='Parent_Name_lower') \n",
    "# final_with_seg.shape\n"
   ]
  },
  {
   "cell_type": "code",
   "execution_count": 217,
   "metadata": {
    "ExecuteTime": {
     "end_time": "2020-07-06T09:41:03.000971Z",
     "start_time": "2020-07-06T09:41:02.995002Z"
    },
    "scrolled": true
   },
   "outputs": [
    {
     "data": {
      "text/plain": [
       "4"
      ]
     },
     "execution_count": 217,
     "metadata": {},
     "output_type": "execute_result"
    }
   ],
   "source": [
    "final.columns\n",
    "len(final['Base_Prospect_Name'])- final['Base_Prospect_Name'].nunique()"
   ]
  },
  {
   "cell_type": "code",
   "execution_count": 218,
   "metadata": {
    "ExecuteTime": {
     "end_time": "2020-07-06T09:41:04.652007Z",
     "start_time": "2020-07-06T09:41:04.642006Z"
    },
    "scrolled": false
   },
   "outputs": [],
   "source": [
    "final_with_seg = final.drop(columns=['Prospect_Name_lower', 'Prospect_lower', 'Parent_Name_2018_lower', 'Parent_Name_2019_lower'])"
   ]
  },
  {
   "cell_type": "code",
   "execution_count": 219,
   "metadata": {
    "ExecuteTime": {
     "end_time": "2020-07-06T09:41:05.060044Z",
     "start_time": "2020-07-06T09:41:05.049005Z"
    },
    "scrolled": false
   },
   "outputs": [],
   "source": [
    "final_with_seg = final_with_seg.rename(columns= {'Public Record 2019 ': 'Public Record 2016', '% change 2019 vs. 2018': '% change 2017 vs. 2016', \n",
    "                    'Public Record 2018': 'Public Rdcord 2018', 'Public Record 2019 ':'Public Record 2016'})"
   ]
  },
  {
   "cell_type": "code",
   "execution_count": 220,
   "metadata": {
    "ExecuteTime": {
     "end_time": "2020-07-06T09:41:05.470007Z",
     "start_time": "2020-07-06T09:41:05.460006Z"
    },
    "scrolled": false
   },
   "outputs": [],
   "source": [
    "final_with_seg_2019 = final_with_seg.rename(columns= {'Public Record 2016':'Public Record 2019 ', '% change 2017 vs. 2016':'% change 2019 vs. 2018' \n",
    "                    ,'Public Record 2016':'Public Record 2019 '})"
   ]
  },
  {
   "cell_type": "code",
   "execution_count": 221,
   "metadata": {
    "ExecuteTime": {
     "end_time": "2020-07-06T09:41:05.988035Z",
     "start_time": "2020-07-06T09:41:05.982010Z"
    },
    "scrolled": true
   },
   "outputs": [
    {
     "data": {
      "text/plain": [
       "(1528, 73)"
      ]
     },
     "execution_count": 221,
     "metadata": {},
     "output_type": "execute_result"
    }
   ],
   "source": [
    "final_with_seg.shape"
   ]
  },
  {
   "cell_type": "code",
   "execution_count": 222,
   "metadata": {
    "ExecuteTime": {
     "end_time": "2020-07-06T09:41:07.142262Z",
     "start_time": "2020-07-06T09:41:07.015103Z"
    },
    "scrolled": false
   },
   "outputs": [],
   "source": [
    "final_with_seg.to_csv(r\"../output/KPI.csv\" )\n",
    "final_with_seg_2019.to_csv(r\"../output/KPI_2019.csv\" )"
   ]
  },
  {
   "cell_type": "markdown",
   "metadata": {},
   "source": [
    "# More Examples"
   ]
  },
  {
   "cell_type": "code",
   "execution_count": 223,
   "metadata": {
    "ExecuteTime": {
     "end_time": "2020-07-06T09:41:31.291010Z",
     "start_time": "2020-07-06T09:41:30.547098Z"
    },
    "scrolled": false
   },
   "outputs": [
    {
     "data": {
      "text/plain": [
       "(119707, 32)"
      ]
     },
     "execution_count": 223,
     "metadata": {},
     "output_type": "execute_result"
    }
   ],
   "source": [
    "df_examples = pd.read_csv('../input/Examples_base.csv') \n",
    "df_examples.shape"
   ]
  },
  {
   "cell_type": "code",
   "execution_count": 224,
   "metadata": {
    "ExecuteTime": {
     "end_time": "2020-07-06T09:41:37.382077Z",
     "start_time": "2020-07-06T09:41:37.346077Z"
    },
    "scrolled": false
   },
   "outputs": [
    {
     "data": {
      "text/plain": [
       "(119707, 32)"
      ]
     },
     "execution_count": 224,
     "metadata": {},
     "output_type": "execute_result"
    }
   ],
   "source": [
    "df_examples.drop(df_examples.filter(regex=\"Unname\"),axis=1, inplace=True)\n",
    "df_examples.shape"
   ]
  },
  {
   "cell_type": "code",
   "execution_count": 225,
   "metadata": {
    "ExecuteTime": {
     "end_time": "2020-07-06T09:41:38.001835Z",
     "start_time": "2020-07-06T09:41:37.998827Z"
    },
    "scrolled": false
   },
   "outputs": [],
   "source": [
    "def to_camel(word):\n",
    "        import re\n",
    "        return ' '.join(x.capitalize() or '_' for x in word.split(' '))"
   ]
  },
  {
   "cell_type": "code",
   "execution_count": 226,
   "metadata": {
    "ExecuteTime": {
     "end_time": "2020-07-06T09:41:40.538733Z",
     "start_time": "2020-07-06T09:41:39.969593Z"
    },
    "scrolled": false
   },
   "outputs": [],
   "source": [
    "list_dnmm=[]; list_entity=[]\n",
    "for line in df_examples[['DNMM categories 2', 'Entity status categories 2']].itertuples():\n",
    "    list_dnmm.append(to_camel(str(line[1])))\n",
    "    list_entity.append(to_camel(line[2]))\n",
    "df_examples['DNMM categories 2'] = np.asarray(list_dnmm)\n",
    "df_examples['Entity status categories 2'] = np.asarray(list_entity)"
   ]
  },
  {
   "cell_type": "code",
   "execution_count": 227,
   "metadata": {
    "ExecuteTime": {
     "end_time": "2020-07-06T09:41:40.620594Z",
     "start_time": "2020-07-06T09:41:40.582564Z"
    },
    "scrolled": false
   },
   "outputs": [],
   "source": [
    "df_examples['Prospect_Name_lower']= df_examples['Prospect Name'].str.lower()\n",
    "#merged_df['Parent_Name_lower']= merged_df['Parent name (per 2018 PR)'].str.lower()"
   ]
  },
  {
   "cell_type": "code",
   "execution_count": 228,
   "metadata": {
    "ExecuteTime": {
     "end_time": "2020-07-06T09:41:54.610324Z",
     "start_time": "2020-07-06T09:41:54.603326Z"
    },
    "scrolled": true
   },
   "outputs": [],
   "source": [
    "merged_df['Parent_Name_2019_lower']= merged_df['Parent name (per 2019 PR)'].str.lower()\n",
    "merged_df['Parent_Name_2018_lower']= merged_df['Parent name (per 2018 PR)'].str.lower()"
   ]
  },
  {
   "cell_type": "code",
   "execution_count": 229,
   "metadata": {
    "ExecuteTime": {
     "end_time": "2020-07-06T09:41:55.259300Z",
     "start_time": "2020-07-06T09:41:55.255323Z"
    },
    "scrolled": true
   },
   "outputs": [
    {
     "data": {
      "text/plain": [
       "(1528, 15)"
      ]
     },
     "execution_count": 229,
     "metadata": {},
     "output_type": "execute_result"
    }
   ],
   "source": [
    "merged_df.shape"
   ]
  },
  {
   "cell_type": "code",
   "execution_count": 230,
   "metadata": {
    "ExecuteTime": {
     "end_time": "2020-07-06T09:41:56.088340Z",
     "start_time": "2020-07-06T09:41:55.873373Z"
    },
    "scrolled": false
   },
   "outputs": [
    {
     "data": {
      "text/plain": [
       "(110663, 49)"
      ]
     },
     "execution_count": 230,
     "metadata": {},
     "output_type": "execute_result"
    }
   ],
   "source": [
    "df_examples_temp = pd.merge(left=merged_df, right= df_examples , right_on='Prospect_Name_lower', left_on='Parent_Name_2019_lower', how='inner')\n",
    "df_examples_temp['Base_Prospect_Name'] = df_examples_temp['Parent name (per 2019 PR)']\n",
    "df_examples_temp.shape"
   ]
  },
  {
   "cell_type": "code",
   "execution_count": 231,
   "metadata": {
    "ExecuteTime": {
     "end_time": "2020-07-06T09:42:01.695911Z",
     "start_time": "2020-07-06T09:42:01.670934Z"
    },
    "scrolled": true
   },
   "outputs": [
    {
     "data": {
      "text/plain": [
       "66"
      ]
     },
     "execution_count": 231,
     "metadata": {},
     "output_type": "execute_result"
    }
   ],
   "source": [
    "li_ = list(set(list(df_examples['Prospect_Name_lower'])) - set(list(df_examples_temp['Parent_Name_2019_lower'])))\n",
    "len(li_)"
   ]
  },
  {
   "cell_type": "code",
   "execution_count": 232,
   "metadata": {
    "ExecuteTime": {
     "end_time": "2020-07-06T09:42:06.396210Z",
     "start_time": "2020-07-06T09:42:06.328150Z"
    },
    "scrolled": true
   },
   "outputs": [
    {
     "data": {
      "text/plain": [
       "(9195, 33)"
      ]
     },
     "execution_count": 232,
     "metadata": {},
     "output_type": "execute_result"
    }
   ],
   "source": [
    "df_temp = df_examples[df_examples['Prospect_Name_lower'].isin(li_)]\n",
    "df_temp.shape"
   ]
  },
  {
   "cell_type": "code",
   "execution_count": 233,
   "metadata": {
    "ExecuteTime": {
     "end_time": "2020-07-06T09:42:07.104830Z",
     "start_time": "2020-07-06T09:42:07.058827Z"
    },
    "scrolled": true
   },
   "outputs": [
    {
     "data": {
      "text/plain": [
       "(3707, 49)"
      ]
     },
     "execution_count": 233,
     "metadata": {},
     "output_type": "execute_result"
    }
   ],
   "source": [
    "df_examples_temp_2 = pd.merge(left=merged_df, right= df_temp , right_on='Prospect_Name_lower', left_on='Parent_Name_2018_lower', how='inner')\n",
    "df_examples_temp_2['Base_Prospect_Name'] = df_examples_temp_2['Parent name (per 2018 PR)']\n",
    "df_examples_temp_2.shape"
   ]
  },
  {
   "cell_type": "code",
   "execution_count": 234,
   "metadata": {
    "ExecuteTime": {
     "end_time": "2020-07-06T09:42:12.924549Z",
     "start_time": "2020-07-06T09:42:12.664552Z"
    },
    "scrolled": true
   },
   "outputs": [
    {
     "data": {
      "text/plain": [
       "(114370, 49)"
      ]
     },
     "execution_count": 234,
     "metadata": {},
     "output_type": "execute_result"
    }
   ],
   "source": [
    "df_examples = pd.concat([df_examples_temp, df_examples_temp_2])\n",
    "df_examples.shape"
   ]
  },
  {
   "cell_type": "code",
   "execution_count": 235,
   "metadata": {
    "ExecuteTime": {
     "end_time": "2020-07-06T09:42:15.929409Z",
     "start_time": "2020-07-06T09:42:15.918409Z"
    },
    "scrolled": true
   },
   "outputs": [],
   "source": [
    "df_examples['Filing Month'] =df_examples['Filing Month'].fillna('') "
   ]
  },
  {
   "cell_type": "code",
   "execution_count": 236,
   "metadata": {
    "ExecuteTime": {
     "end_time": "2020-07-06T09:42:16.453430Z",
     "start_time": "2020-07-06T09:42:16.450432Z"
    },
    "scrolled": true
   },
   "outputs": [],
   "source": [
    "#df_examples['FILING_NUM'] = df_examples['FILING_NUM'].apply(lambda x: int(x))"
   ]
  },
  {
   "cell_type": "code",
   "execution_count": 238,
   "metadata": {
    "ExecuteTime": {
     "end_time": "2020-07-06T09:42:31.322492Z",
     "start_time": "2020-07-06T09:42:31.192526Z"
    },
    "scrolled": true
   },
   "outputs": [],
   "source": [
    "# df_examples['FILING_NUM'] = df_examples['FILING_NUM'].apply(lambda x: str(x))\n",
    "# df_examples['Filing Month'] = df_examples['Filing Month'].apply(lambda x: str(x))\n",
    "# df_examples['NM_MATCH_FLG'] = df_examples['NM_MATCH_FLG'].apply(lambda x: str(x))\n",
    "\n",
    "df_examples['FILING_NUM'] = df_examples['FILING_NUM'].apply(lambda x: \"'\" + str(x) + \"'\")\n",
    "df_examples['Filing Month'] = df_examples['Filing Month'].apply(lambda x: \"'\" + str(x) + \"'\")\n",
    "df_examples['NM_MATCH_FLG'] = df_examples['NM_MATCH_FLG'].apply(lambda x: \"'\" + str(x) + \"'\")\n",
    "\n",
    "# df_examples['FILING_NUM'] = df_examples['FILING_NUM'].astype(str)\n",
    "# df_examples['Filing Month'] = df_examples['Filing Month'].astype(str)\n",
    "# df_examples['NM_MATCH_FLG'] = df_examples['NM_MATCH_FLG'].astype(str)"
   ]
  },
  {
   "cell_type": "code",
   "execution_count": 239,
   "metadata": {
    "ExecuteTime": {
     "end_time": "2020-07-06T09:42:31.738258Z",
     "start_time": "2020-07-06T09:42:31.736257Z"
    },
    "scrolled": true
   },
   "outputs": [],
   "source": [
    "#df_examples[df_examples['Parent name (per 2019 PR)'].str.contains('Carbucks')]"
   ]
  },
  {
   "cell_type": "code",
   "execution_count": 240,
   "metadata": {
    "ExecuteTime": {
     "end_time": "2020-07-06T09:42:46.179996Z",
     "start_time": "2020-07-06T09:42:45.991608Z"
    },
    "scrolled": false
   },
   "outputs": [],
   "source": [
    "df_examples = df_examples.drop(columns=['Parent_Name_2018_lower', 'Parent_Name_2019_lower', 'Prospect_Name_lower'])\n",
    "df_examples['Prospect Name']= df_examples['Parent name (per 2018 PR)']"
   ]
  },
  {
   "cell_type": "code",
   "execution_count": 241,
   "metadata": {
    "ExecuteTime": {
     "end_time": "2020-07-06T09:42:47.984585Z",
     "start_time": "2020-07-06T09:42:47.980595Z"
    },
    "scrolled": false
   },
   "outputs": [
    {
     "data": {
      "text/plain": [
       "(114370, 46)"
      ]
     },
     "execution_count": 241,
     "metadata": {},
     "output_type": "execute_result"
    }
   ],
   "source": [
    "df_examples.shape"
   ]
  },
  {
   "cell_type": "code",
   "execution_count": 242,
   "metadata": {
    "ExecuteTime": {
     "end_time": "2020-07-06T09:42:48.942380Z",
     "start_time": "2020-07-06T09:42:48.940384Z"
    },
    "scrolled": false
   },
   "outputs": [],
   "source": [
    "# df_examples = df_examples.rename(columns= {'Public Record 2019 ': 'Public Record 2016', '% change 2019 vs. 2018': '% change 2017 vs. 2016', \n",
    "#                     'Public Record 2018': 'Public Rdcord 2018', 'Public Record 2019 ':'Public Record 2016'})"
   ]
  },
  {
   "cell_type": "code",
   "execution_count": 243,
   "metadata": {
    "ExecuteTime": {
     "end_time": "2020-07-06T09:42:52.379757Z",
     "start_time": "2020-07-06T09:42:49.609881Z"
    },
    "scrolled": false
   },
   "outputs": [],
   "source": [
    "df_examples.to_csv(r\"../output/Examples.csv\" )"
   ]
  },
  {
   "cell_type": "code",
   "execution_count": 244,
   "metadata": {
    "ExecuteTime": {
     "end_time": "2020-07-06T09:43:10.333381Z",
     "start_time": "2020-07-06T09:43:10.329381Z"
    },
    "scrolled": false
   },
   "outputs": [
    {
     "data": {
      "text/plain": [
       "(114370, 46)"
      ]
     },
     "execution_count": 244,
     "metadata": {},
     "output_type": "execute_result"
    }
   ],
   "source": [
    "df_examples.shape"
   ]
  },
  {
   "cell_type": "code",
   "execution_count": null,
   "metadata": {
    "scrolled": false
   },
   "outputs": [],
   "source": []
  },
  {
   "cell_type": "code",
   "execution_count": null,
   "metadata": {
    "scrolled": false
   },
   "outputs": [],
   "source": []
  }
 ],
 "metadata": {
  "kernelspec": {
   "display_name": "Python 3",
   "language": "python",
   "name": "python3"
  },
  "language_info": {
   "codemirror_mode": {
    "name": "ipython",
    "version": 3
   },
   "file_extension": ".py",
   "mimetype": "text/x-python",
   "name": "python",
   "nbconvert_exporter": "python",
   "pygments_lexer": "ipython3",
   "version": "3.7.4"
  },
  "latex_envs": {
   "LaTeX_envs_menu_present": true,
   "autoclose": false,
   "autocomplete": true,
   "bibliofile": "biblio.bib",
   "cite_by": "apalike",
   "current_citInitial": 1,
   "eqLabelWithNumbers": true,
   "eqNumInitial": 1,
   "hotkeys": {
    "equation": "Ctrl-E",
    "itemize": "Ctrl-I"
   },
   "labels_anchors": false,
   "latex_user_defs": false,
   "report_style_numbering": false,
   "user_envs_cfg": false
  },
  "toc": {
   "base_numbering": 1,
   "nav_menu": {},
   "number_sections": true,
   "sideBar": true,
   "skip_h1_title": false,
   "title_cell": "Table of Contents",
   "title_sidebar": "Contents",
   "toc_cell": false,
   "toc_position": {},
   "toc_section_display": true,
   "toc_window_display": false
  }
 },
 "nbformat": 4,
 "nbformat_minor": 2
}
