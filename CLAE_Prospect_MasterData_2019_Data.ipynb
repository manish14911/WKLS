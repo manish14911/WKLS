{
 "cells": [
  {
   "cell_type": "code",
   "execution_count": 1,
   "metadata": {
    "ExecuteTime": {
     "end_time": "2020-07-08T11:24:17.994800Z",
     "start_time": "2020-07-08T11:24:12.073342Z"
    },
    "scrolled": false
   },
   "outputs": [],
   "source": [
    "import time\n",
    "import pandas as pd\n",
    "import logging\n",
    "import numpy as np\n",
    "import pandas as pd\n",
    "from pyxlsb import open_workbook as open_xlsb\n",
    "from os import listdir\n",
    "from os.path import isfile, join\n",
    "pd.set_option('display.max_rows', 40)\n",
    "pd.set_option('display.max_columns', 32)\n",
    "import shutil\n",
    "import os\n",
    "import datetime\n",
    "import sys\n",
    "sys.path.append('../src/')\n",
    "from final_script_risk_management import transform_entity_stat, transform_others, create_sum_by_sf, final_calculation, get_examples\n",
    "import warnings\n",
    "warnings.filterwarnings(\"ignore\")\n",
    "#logging.basicConfig(level=logging.DEBUG, filename=\"prospecting_tool.log\", filemode='a', format='%(asctime)s - %(message)s')"
   ]
  },
  {
   "cell_type": "code",
   "execution_count": 2,
   "metadata": {
    "ExecuteTime": {
     "end_time": "2020-07-08T11:25:24.945558Z",
     "start_time": "2020-07-08T11:24:17.996802Z"
    },
    "scrolled": false
   },
   "outputs": [],
   "source": [
    "#df_base= pd.read_excel(r\"../input/Prospect Analytics business case Model.xlsx\" , sheet_name = 'Template')\n",
    "map_match= pd.read_excel('../input/mapping_of_matching_category.xlsx')\n",
    "rep_assignment= pd.read_excel('../input/activity_status.xlsx', sheet_name='Rep Assignment')\n",
    "entity_status= pd.read_excel('../input/entity_status.xlsx')\n",
    "df_role= pd.read_excel(r\"../input/UserswithRoles.xlsx\" , sheet_name = 'Role_Mapping')\n",
    "df_prospects= pd.read_excel('../input/Prospects.xlsx')\n",
    "path_match=''\n",
    "book= pd.read_excel('../input/columns_required.xlsx')\n",
    "cols = list(book['columns'])"
   ]
  },
  {
   "cell_type": "code",
   "execution_count": 3,
   "metadata": {
    "ExecuteTime": {
     "end_time": "2020-07-08T11:25:38.394657Z",
     "start_time": "2020-07-08T11:25:24.946518Z"
    },
    "scrolled": false
   },
   "outputs": [],
   "source": [
    "df= pd.read_excel(r\"../input/Prospect Tracking 2019.xlsx\" , sheet_name = 'Template for Sumit')"
   ]
  },
  {
   "cell_type": "code",
   "execution_count": 4,
   "metadata": {
    "ExecuteTime": {
     "end_time": "2020-07-06T09:33:50.390124Z",
     "start_time": "2020-07-06T09:33:50.380123Z"
    },
    "scrolled": true
   },
   "outputs": [],
   "source": [
    "#set(list(df.columns))- set(list(df_base.columns))"
   ]
  },
  {
   "cell_type": "code",
   "execution_count": 5,
   "metadata": {
    "ExecuteTime": {
     "end_time": "2020-07-06T09:33:50.399128Z",
     "start_time": "2020-07-06T09:33:50.393130Z"
    },
    "scrolled": false
   },
   "outputs": [],
   "source": [
    "# df = df.rename(columns= {'Public Record 2019 ': 'Public Record 2016', '% change 2019 vs. 2018': '% change 2017 vs. 2016', \n",
    "#                         'Public Record 2018': 'Public Rdcord 2018', 'Public Record 2019 ':'Public Record 2016'})"
   ]
  },
  {
   "cell_type": "code",
   "execution_count": 6,
   "metadata": {
    "ExecuteTime": {
     "end_time": "2020-07-06T09:33:50.410126Z",
     "start_time": "2020-07-06T09:33:50.402126Z"
    },
    "scrolled": false
   },
   "outputs": [],
   "source": [
    "df_base= df"
   ]
  },
  {
   "cell_type": "code",
   "execution_count": 7,
   "metadata": {
    "ExecuteTime": {
     "end_time": "2020-07-06T09:33:50.428123Z",
     "start_time": "2020-07-06T09:33:50.413127Z"
    },
    "scrolled": false
   },
   "outputs": [
    {
     "name": "stdout",
     "output_type": "stream",
     "text": [
      "1547\n"
     ]
    },
    {
     "data": {
      "text/plain": [
       "1472"
      ]
     },
     "execution_count": 7,
     "metadata": {},
     "output_type": "execute_result"
    }
   ],
   "source": [
    "df.shape\n",
    "print(len(df[df['Parent name (per 2018 PR)'].notnull()]))\n",
    "len(df[df['Parent name (per 2019 PR)'].notnull()])"
   ]
  },
  {
   "cell_type": "code",
   "execution_count": 8,
   "metadata": {
    "ExecuteTime": {
     "end_time": "2020-07-06T09:33:50.439156Z",
     "start_time": "2020-07-06T09:33:50.435122Z"
    },
    "scrolled": false
   },
   "outputs": [
    {
     "name": "stdout",
     "output_type": "stream",
     "text": [
      "Jul-20-2020\n"
     ]
    }
   ],
   "source": [
    "from datetime import date\n",
    "\n",
    "Date = date.today()\n",
    "Date = Date.strftime(\"%b-%d-%Y\")\n",
    "print(Date)"
   ]
  },
  {
   "cell_type": "code",
   "execution_count": 9,
   "metadata": {
    "ExecuteTime": {
     "end_time": "2020-07-06T09:33:50.477123Z",
     "start_time": "2020-07-06T09:33:50.441124Z"
    },
    "scrolled": false
   },
   "outputs": [],
   "source": [
    "df_base = df_base[df_base['Parent name (per 2018 PR)'].notnull()] \n",
    "\n",
    "df_base.rename(columns = {'Self Filing share %': 'SF share of public filing',\n",
    "                             'Auto (new & used) loan %': 'Auto (New & used) loan %', \n",
    "                             'WKLS share %': 'WKLS share of public filing',\n",
    "                             '# of filing zips / Name Variations': '# of filing offices (/ # of filing zips)',\n",
    "                             '# of filing states w/ filing > 100': '# of jurisdictions w/ filing > 100',\n",
    "                             '# of filing states': '# of filing jurisdictions'}, inplace = True)\n",
    "\n",
    "df_base['Sales assignemnt'] = df_base['Sales assignemnt'].str.replace('?','Unknown')\n",
    "duplicate = (df_base[df_base.duplicated()])\n",
    "# print(duplicate.shape)\n",
    "# print(\"There are  %s number of duplicate values are there in our dataset out of %s\"  %(duplicate, len(df_base)))"
   ]
  },
  {
   "cell_type": "code",
   "execution_count": 10,
   "metadata": {
    "ExecuteTime": {
     "end_time": "2020-07-06T09:33:50.502125Z",
     "start_time": "2020-07-06T09:33:50.480129Z"
    },
    "scrolled": false
   },
   "outputs": [
    {
     "data": {
      "text/plain": [
       "(1547, 36)"
      ]
     },
     "execution_count": 10,
     "metadata": {},
     "output_type": "execute_result"
    }
   ],
   "source": [
    "df_base = df_base.drop_duplicates(keep='first', inplace=False)\n",
    "df_base.shape"
   ]
  },
  {
   "cell_type": "code",
   "execution_count": 11,
   "metadata": {
    "ExecuteTime": {
     "end_time": "2020-07-06T09:33:50.512130Z",
     "start_time": "2020-07-06T09:33:50.504123Z"
    },
    "scrolled": false
   },
   "outputs": [
    {
     "name": "stdout",
     "output_type": "stream",
     "text": [
      "1422\n",
      "125\n",
      "0\n"
     ]
    }
   ],
   "source": [
    "print(df_base['Index'].nunique())\n",
    "print(df_base['Index'].isna().sum())\n",
    "df_base['Index'].fillna('Index-unknown' , inplace = True)\n",
    "print(df_base['Index'].isna().sum())"
   ]
  },
  {
   "cell_type": "code",
   "execution_count": 12,
   "metadata": {
    "ExecuteTime": {
     "end_time": "2020-07-06T09:33:50.525121Z",
     "start_time": "2020-07-06T09:33:50.515123Z"
    },
    "scrolled": false
   },
   "outputs": [
    {
     "data": {
      "text/plain": [
       "Index                                                  0\n",
       "Client (PAG)                                        1547\n",
       "Parent name (per 2018 PR)                              0\n",
       "Parent name (per 2019 PR)                             75\n",
       "Public Record 2019                                   125\n",
       "Public Record 2018                                    18\n",
       "% change 2019 vs. 2018                               169\n",
       "SF share of public filing                            139\n",
       "WKLS share of public filing                          139\n",
       "% of filing using non WKLS vendors                   139\n",
       "# of filing offices (/ # of filing zips)             125\n",
       "UCC 3 % over total filing                            125\n",
       "# of filing jurisdictions                             77\n",
       "# of jurisdictions w/ filing > 100                    77\n",
       "Top vol state                                        125\n",
       "2nd vol state                                        142\n",
       "3rd vol state                                        309\n",
       "Top UCC vol State Srch rating                       1547\n",
       "2nd UCC vol State Srch rating                       1547\n",
       "3rd UCC vol State Srch rating                       1547\n",
       "% of filing vol in top 6 states (how disbursed?)     125\n",
       "Self Filer Segments                                  131\n",
       "Updated User type                                    125\n",
       "Asset size (M)                                      1547\n",
       "Commercial loan value (M)                           1547\n",
       "Commercial loans %                                  1547\n",
       "Consumer loans %                                    1547\n",
       "Real estate loan %                                  1547\n",
       "Auto (New & used) loan %                            1547\n",
       "Delinquency rate                                    1547\n",
       "Personal Lien %                                       61\n",
       "Business Lien%                                        97\n",
       "% Filing Date Order > 1                              719\n",
       "Sales assignemnt                                      13\n",
       "Add'l Non CSC Competitor Info                       1397\n",
       "Other Notes                                           23\n",
       "dtype: int64"
      ]
     },
     "execution_count": 12,
     "metadata": {},
     "output_type": "execute_result"
    }
   ],
   "source": [
    "df_base.isna().sum()"
   ]
  },
  {
   "cell_type": "code",
   "execution_count": 13,
   "metadata": {
    "ExecuteTime": {
     "end_time": "2020-07-06T09:33:50.539122Z",
     "start_time": "2020-07-06T09:33:50.527121Z"
    },
    "scrolled": false
   },
   "outputs": [
    {
     "name": "stdout",
     "output_type": "stream",
     "text": [
      "125\n",
      "0\n",
      "18\n"
     ]
    },
    {
     "data": {
      "text/plain": [
       "0"
      ]
     },
     "execution_count": 13,
     "metadata": {},
     "output_type": "execute_result"
    }
   ],
   "source": [
    "print(df_base['Public Record 2019 '].isna().sum())\n",
    "df_base['Public Record 2019 '] =  df_base['Public Record 2019 '].fillna(0).astype(int)\n",
    "print(df_base['Public Record 2019 '].isna().sum())\n",
    "\n",
    "print(df_base['Public Record 2018'].isna().sum())\n",
    "df_base['Public Record 2018'] = df_base['Public Record 2018'].fillna(0).astype(int)\n",
    "df_base['Public Record 2018'].isna().sum()"
   ]
  },
  {
   "cell_type": "code",
   "execution_count": 14,
   "metadata": {
    "ExecuteTime": {
     "end_time": "2020-07-06T09:33:50.547124Z",
     "start_time": "2020-07-06T09:33:50.541122Z"
    },
    "scrolled": false
   },
   "outputs": [],
   "source": [
    "#df.info()\n",
    "df_base['% change 2019 vs. 2018']=df_base['% change 2019 vs. 2018'].fillna(0)\n",
    "df_base['% change 2019 vs. 2018'] = df_base['% change 2019 vs. 2018'].apply(lambda x: round(x,2)*100).astype(int)"
   ]
  },
  {
   "cell_type": "code",
   "execution_count": 15,
   "metadata": {
    "ExecuteTime": {
     "end_time": "2020-07-06T09:33:50.566120Z",
     "start_time": "2020-07-06T09:33:50.549123Z"
    },
    "scrolled": false
   },
   "outputs": [],
   "source": [
    "#df.info()\n",
    "df_base['SF share of public filing']=df_base['SF share of public filing'].fillna(0)\n",
    "df_base['WKLS share of public filing']=df_base['WKLS share of public filing'].fillna(0)\n",
    "df_base['% of filing using non WKLS vendors']=df_base['% of filing using non WKLS vendors'].fillna(0)\n",
    "\n",
    "df_base['SF share of public filing'] = df_base['SF share of public filing'].apply(lambda x: round(x,2)*100).astype(int)\n",
    "df_base['WKLS share of public filing'] = df_base['WKLS share of public filing'].apply(lambda x: round(x,2)*100).astype(int)\n",
    "df_base['% of filing using non WKLS vendors'] = df_base['% of filing using non WKLS vendors'].apply(lambda x: round(x,2)*100).astype(int)"
   ]
  },
  {
   "cell_type": "code",
   "execution_count": 16,
   "metadata": {
    "ExecuteTime": {
     "end_time": "2020-07-06T09:33:50.588120Z",
     "start_time": "2020-07-06T09:33:50.568125Z"
    },
    "scrolled": false
   },
   "outputs": [],
   "source": [
    "df_base['# of filing offices (/ # of filing zips)']=df_base['# of filing offices (/ # of filing zips)'].fillna(0)\n",
    "df_base['UCC 3 % over total filing']=df_base['UCC 3 % over total filing'].fillna(0)\n",
    "df_base['# of filing jurisdictions']=df_base['# of filing jurisdictions'].fillna(0)\n",
    "df_base['# of jurisdictions w/ filing > 100']=df_base['# of jurisdictions w/ filing > 100'].fillna(0)\n",
    "\n",
    "df_base['# of filing offices (/ # of filing zips)'] = df_base['# of filing offices (/ # of filing zips)'].apply(lambda x: round(x,2)).astype(int)\n",
    "df_base['UCC 3 % over total filing'] = df_base['UCC 3 % over total filing'].apply(lambda x: round(x,2)*100).astype(int)\n",
    "df_base['# of filing jurisdictions'] = df_base['# of filing jurisdictions'].apply(lambda x: round(x,2)).astype(int)\n",
    "df_base['# of jurisdictions w/ filing > 100'] = df_base['# of jurisdictions w/ filing > 100'].apply(lambda x: round(x,2)).astype(int)"
   ]
  },
  {
   "cell_type": "code",
   "execution_count": 17,
   "metadata": {
    "ExecuteTime": {
     "end_time": "2020-07-06T09:33:50.599123Z",
     "start_time": "2020-07-06T09:33:50.589120Z"
    },
    "scrolled": false
   },
   "outputs": [
    {
     "data": {
      "text/plain": [
       "array(['MA', 'CO', nan, 'WI', 'NY', 'IL', 'CA', 'KY', 'KS', 'NE', 'NV',\n",
       "       'MT', 'FL', 'AK', 'AR', 'MO', 'IA', 'OK', 'DE', 'AL', 'OH', 'TX',\n",
       "       'TN', 'DC', 'AZ', 'NC', 'NJ', 'MD', 'MS', 'ID', 'OR', 'GA', 'SC',\n",
       "       'MI', 'WV', 'CT', 'MN', 'WY', 'ME', 'PA', 'UT', 'WA', 'SD', 'NM',\n",
       "       'VT', 'IN', 'LA', 'RI', 'VA', 'ND', 'HI', 'NH'], dtype=object)"
      ]
     },
     "execution_count": 17,
     "metadata": {},
     "output_type": "execute_result"
    }
   ],
   "source": [
    "df_base['Top vol state'].unique()\n",
    "df_base['2nd vol state'].unique()\n",
    "df_base['3rd vol state'].unique()"
   ]
  },
  {
   "cell_type": "code",
   "execution_count": 18,
   "metadata": {
    "ExecuteTime": {
     "end_time": "2020-07-06T09:33:50.609125Z",
     "start_time": "2020-07-06T09:33:50.601123Z"
    },
    "scrolled": false
   },
   "outputs": [],
   "source": [
    "df_base['Top vol state'] = df_base['Top vol state'].fillna('XX')\n",
    "df_base['2nd vol state'] = df_base['2nd vol state'].fillna('XX')\n",
    "df_base['3rd vol state'] = df_base['3rd vol state'].fillna('XX')\n",
    "df_base['Updated User type']=df_base['Updated User type'].fillna('')"
   ]
  },
  {
   "cell_type": "code",
   "execution_count": 19,
   "metadata": {
    "ExecuteTime": {
     "end_time": "2020-07-06T09:33:50.618125Z",
     "start_time": "2020-07-06T09:33:50.613125Z"
    },
    "scrolled": false
   },
   "outputs": [],
   "source": [
    "df_base['Parent name (per 2019 PR)']=df_base['Parent name (per 2019 PR)'].fillna('')"
   ]
  },
  {
   "cell_type": "code",
   "execution_count": 20,
   "metadata": {
    "ExecuteTime": {
     "end_time": "2020-07-06T09:33:50.631128Z",
     "start_time": "2020-07-06T09:33:50.621133Z"
    },
    "scrolled": false
   },
   "outputs": [
    {
     "data": {
      "text/plain": [
       "0      NaN\n",
       "1      NaN\n",
       "2      NaN\n",
       "3      NaN\n",
       "4      NaN\n",
       "        ..\n",
       "1542   NaN\n",
       "1543   NaN\n",
       "1544   NaN\n",
       "1545   NaN\n",
       "1546   NaN\n",
       "Name: Top UCC vol State Srch rating, Length: 1547, dtype: float64"
      ]
     },
     "execution_count": 20,
     "metadata": {},
     "output_type": "execute_result"
    }
   ],
   "source": [
    "df_base['Top UCC vol State Srch rating']"
   ]
  },
  {
   "cell_type": "code",
   "execution_count": 21,
   "metadata": {
    "ExecuteTime": {
     "end_time": "2020-07-06T09:33:50.641127Z",
     "start_time": "2020-07-06T09:33:50.633123Z"
    },
    "scrolled": false
   },
   "outputs": [
    {
     "data": {
      "text/plain": [
       "array([nan])"
      ]
     },
     "execution_count": 21,
     "metadata": {},
     "output_type": "execute_result"
    }
   ],
   "source": [
    "df_base['Top UCC vol State Srch rating'].unique()\n",
    "df_base['2nd UCC vol State Srch rating'].unique()\n",
    "df_base['3rd UCC vol State Srch rating'].unique()"
   ]
  },
  {
   "cell_type": "code",
   "execution_count": 22,
   "metadata": {
    "ExecuteTime": {
     "end_time": "2020-07-06T09:33:50.654141Z",
     "start_time": "2020-07-06T09:33:50.649126Z"
    },
    "scrolled": false
   },
   "outputs": [],
   "source": [
    "#df_base.columns"
   ]
  },
  {
   "cell_type": "code",
   "execution_count": 23,
   "metadata": {
    "ExecuteTime": {
     "end_time": "2020-07-06T09:33:50.674125Z",
     "start_time": "2020-07-06T09:33:50.660127Z"
    },
    "scrolled": false
   },
   "outputs": [],
   "source": [
    "df_base['3rd UCC vol State Srch rating'].fillna(\"XXX\" , inplace = True)\n",
    "df_base['Top UCC vol State Srch rating'].fillna(\"XXX\" , inplace = True)\n",
    "df_base['2nd UCC vol State Srch rating'].fillna(\"XXX\" , inplace = True)"
   ]
  },
  {
   "cell_type": "code",
   "execution_count": 24,
   "metadata": {
    "ExecuteTime": {
     "end_time": "2020-07-06T09:33:50.693123Z",
     "start_time": "2020-07-06T09:33:50.679129Z"
    },
    "scrolled": false
   },
   "outputs": [],
   "source": [
    "#% of filing vol in top 6 states (how disbursed?)\n",
    "df_base['% of filing vol in top 6 states (how disbursed?)']=df_base['% of filing vol in top 6 states (how disbursed?)'].fillna(0)\n",
    "df_base['% of filing vol in top 6 states (how disbursed?)'] = df_base['% of filing vol in top 6 states (how disbursed?)'].apply(lambda x: round(x,2)*100).astype(int)"
   ]
  },
  {
   "cell_type": "code",
   "execution_count": 25,
   "metadata": {
    "ExecuteTime": {
     "end_time": "2020-07-06T09:33:50.713121Z",
     "start_time": "2020-07-06T09:33:50.699131Z"
    },
    "scrolled": false
   },
   "outputs": [
    {
     "data": {
      "text/plain": [
       "Bank                 776\n",
       "Others               343\n",
       "Credit Union         142\n",
       "Unknown              131\n",
       "FCS                   56\n",
       "Equipment Finance     38\n",
       "0                     21\n",
       "Consumer Lender       20\n",
       "Government            13\n",
       "Solar                  3\n",
       "MERS                   1\n",
       "Deere                  1\n",
       "Holding company        1\n",
       "USDA/FSA/CCC           1\n",
       "Name: Self Filer Segments, dtype: int64"
      ]
     },
     "execution_count": 25,
     "metadata": {},
     "output_type": "execute_result"
    }
   ],
   "source": [
    "df_base['Self Filer Segments'].unique()\n",
    "df_base['Self Filer Segments'] = df_base['Self Filer Segments'].fillna(\"Unknown\")\n",
    "df_base['Self Filer Segments'].unique()\n",
    "df_base['Self Filer Segments'].value_counts()"
   ]
  },
  {
   "cell_type": "code",
   "execution_count": 26,
   "metadata": {
    "ExecuteTime": {
     "end_time": "2020-07-06T09:33:50.725122Z",
     "start_time": "2020-07-06T09:33:50.715121Z"
    },
    "scrolled": false
   },
   "outputs": [],
   "source": [
    "df_base['Asset size (M)'].fillna(0 , inplace = True )\n",
    "df_base['Commercial loan value (M)'].fillna(0 , inplace = True )\n",
    "df_base['Commercial loans %'].fillna(0 , inplace = True )\n",
    "df_base['Consumer loans %'].fillna(0 , inplace = True )\n",
    "df_base['Real estate loan %'].fillna(0 , inplace = True )\n",
    "df_base['Auto (New & used) loan %'].fillna(0 , inplace = True )"
   ]
  },
  {
   "cell_type": "code",
   "execution_count": 27,
   "metadata": {
    "ExecuteTime": {
     "end_time": "2020-07-06T09:33:50.743124Z",
     "start_time": "2020-07-06T09:33:50.727128Z"
    },
    "scrolled": false
   },
   "outputs": [],
   "source": [
    "df_base['Commercial loans %'] = df_base['Commercial loans %'].apply(lambda x: round(x,2)*100).astype(int)\n",
    "df_base['Consumer loans %'] = df_base['Consumer loans %'].apply(lambda x: round(x,2)*100).astype(int)\n",
    "df_base['Real estate loan %'] = df_base['Real estate loan %'].apply(lambda x: round(x,2)*100).astype(int)\n",
    "df_base['Auto (New & used) loan %'] = df_base['Auto (New & used) loan %'].apply(lambda x: round(x,2)*100).astype(int)"
   ]
  },
  {
   "cell_type": "code",
   "execution_count": 28,
   "metadata": {
    "ExecuteTime": {
     "end_time": "2020-07-06T09:33:50.765129Z",
     "start_time": "2020-07-06T09:33:50.745122Z"
    },
    "scrolled": false
   },
   "outputs": [],
   "source": [
    "df_base['Personal Lien %'].fillna(0 , inplace = True )\n",
    "df_base['Business Lien%'].fillna(0 , inplace = True )\n",
    "df_base['% Filing Date Order > 1'].fillna(0 , inplace = True )\n",
    "df_base['Personal Lien %'] = df_base['Personal Lien %'].apply(lambda x: round(x,2)*100).astype(int)\n",
    "df_base['Business Lien%'] = df_base['Business Lien%'].apply(lambda x: round(x,2)*100).astype(int)\n",
    "df_base['% Filing Date Order > 1'] = df_base['% Filing Date Order > 1'].apply(lambda x: round(x,2)*100).astype(int)"
   ]
  },
  {
   "cell_type": "code",
   "execution_count": 29,
   "metadata": {
    "ExecuteTime": {
     "end_time": "2020-07-06T09:33:50.781124Z",
     "start_time": "2020-07-06T09:33:50.767121Z"
    },
    "scrolled": false
   },
   "outputs": [
    {
     "data": {
      "text/plain": [
       "array([0.])"
      ]
     },
     "execution_count": 29,
     "metadata": {},
     "output_type": "execute_result"
    }
   ],
   "source": [
    "df_base['Delinquency rate']= df_base['Delinquency rate'].replace('-', np.nan).replace(' ', np.nan)\n",
    "df_base['Delinquency rate'].fillna(0 , inplace = True )\n",
    "df_base['Delinquency rate']= df_base['Delinquency rate'].apply(lambda x : round(x,2)*100).astype(float)\n",
    "df_base['Delinquency rate'].unique()"
   ]
  },
  {
   "cell_type": "code",
   "execution_count": 30,
   "metadata": {
    "ExecuteTime": {
     "end_time": "2020-07-06T09:33:50.788123Z",
     "start_time": "2020-07-06T09:33:50.783122Z"
    },
    "scrolled": false
   },
   "outputs": [],
   "source": [
    "df_base[\"Add'l Non CSC Competitor Info\"].fillna(\"XXX\" , inplace = True)\n",
    "df_base['Other Notes'].fillna(\"XXX\" , inplace = True)"
   ]
  },
  {
   "cell_type": "code",
   "execution_count": 31,
   "metadata": {
    "ExecuteTime": {
     "end_time": "2020-07-06T09:33:50.802124Z",
     "start_time": "2020-07-06T09:33:50.790122Z"
    },
    "scrolled": false
   },
   "outputs": [
    {
     "data": {
      "text/plain": [
       "Index                                                  0\n",
       "Client (PAG)                                        1547\n",
       "Parent name (per 2018 PR)                              0\n",
       "Parent name (per 2019 PR)                              0\n",
       "Public Record 2019                                     0\n",
       "Public Record 2018                                     0\n",
       "% change 2019 vs. 2018                                 0\n",
       "SF share of public filing                              0\n",
       "WKLS share of public filing                            0\n",
       "% of filing using non WKLS vendors                     0\n",
       "# of filing offices (/ # of filing zips)               0\n",
       "UCC 3 % over total filing                              0\n",
       "# of filing jurisdictions                              0\n",
       "# of jurisdictions w/ filing > 100                     0\n",
       "Top vol state                                          0\n",
       "2nd vol state                                          0\n",
       "3rd vol state                                          0\n",
       "Top UCC vol State Srch rating                          0\n",
       "2nd UCC vol State Srch rating                          0\n",
       "3rd UCC vol State Srch rating                          0\n",
       "% of filing vol in top 6 states (how disbursed?)       0\n",
       "Self Filer Segments                                    0\n",
       "Updated User type                                      0\n",
       "Asset size (M)                                         0\n",
       "Commercial loan value (M)                              0\n",
       "Commercial loans %                                     0\n",
       "Consumer loans %                                       0\n",
       "Real estate loan %                                     0\n",
       "Auto (New & used) loan %                               0\n",
       "Delinquency rate                                       0\n",
       "Personal Lien %                                        0\n",
       "Business Lien%                                         0\n",
       "% Filing Date Order > 1                                0\n",
       "Sales assignemnt                                       0\n",
       "Add'l Non CSC Competitor Info                          0\n",
       "Other Notes                                            0\n",
       "dtype: int64"
      ]
     },
     "execution_count": 31,
     "metadata": {},
     "output_type": "execute_result"
    }
   ],
   "source": [
    "df_base['Sales assignemnt'].fillna('Sales-unknown' , inplace = True)\n",
    "#df['% business liens have name mismatched'].fillna(0 , inplace = True)\n",
    "#df['% business debtor entity status showed \"red flag\" (non compliant, disolved, inactive)'].fillna(0 , inplace = True)\n",
    "#df.drop(columns= ['Prioritized?','Delivered?','Batch Name'],axis=1 , inplace = True)\n",
    "df_base.isna().sum()"
   ]
  },
  {
   "cell_type": "code",
   "execution_count": 32,
   "metadata": {
    "ExecuteTime": {
     "end_time": "2020-07-06T09:33:50.815120Z",
     "start_time": "2020-07-06T09:33:50.804122Z"
    },
    "scrolled": false
   },
   "outputs": [
    {
     "name": "stdout",
     "output_type": "stream",
     "text": [
      "<class 'pandas.core.frame.DataFrame'>\n",
      "Int64Index: 1547 entries, 0 to 1546\n",
      "Data columns (total 36 columns):\n",
      " #   Column                                            Non-Null Count  Dtype  \n",
      "---  ------                                            --------------  -----  \n",
      " 0   Index                                             1547 non-null   object \n",
      " 1   Client (PAG)                                      0 non-null      float64\n",
      " 2   Parent name (per 2018 PR)                         1547 non-null   object \n",
      " 3   Parent name (per 2019 PR)                         1547 non-null   object \n",
      " 4   Public Record 2019                                1547 non-null   int32  \n",
      " 5   Public Record 2018                                1547 non-null   int32  \n",
      " 6   % change 2019 vs. 2018                            1547 non-null   int32  \n",
      " 7   SF share of public filing                         1547 non-null   int32  \n",
      " 8   WKLS share of public filing                       1547 non-null   int32  \n",
      " 9   % of filing using non WKLS vendors                1547 non-null   int32  \n",
      " 10  # of filing offices (/ # of filing zips)          1547 non-null   int32  \n",
      " 11  UCC 3 % over total filing                         1547 non-null   int32  \n",
      " 12  # of filing jurisdictions                         1547 non-null   int32  \n",
      " 13  # of jurisdictions w/ filing > 100                1547 non-null   int32  \n",
      " 14  Top vol state                                     1547 non-null   object \n",
      " 15  2nd vol state                                     1547 non-null   object \n",
      " 16  3rd vol state                                     1547 non-null   object \n",
      " 17  Top UCC vol State Srch rating                     1547 non-null   object \n",
      " 18  2nd UCC vol State Srch rating                     1547 non-null   object \n",
      " 19  3rd UCC vol State Srch rating                     1547 non-null   object \n",
      " 20  % of filing vol in top 6 states (how disbursed?)  1547 non-null   int32  \n",
      " 21  Self Filer Segments                               1547 non-null   object \n",
      " 22  Updated User type                                 1547 non-null   object \n",
      " 23  Asset size (M)                                    1547 non-null   float64\n",
      " 24  Commercial loan value (M)                         1547 non-null   float64\n",
      " 25  Commercial loans %                                1547 non-null   int32  \n",
      " 26  Consumer loans %                                  1547 non-null   int32  \n",
      " 27  Real estate loan %                                1547 non-null   int32  \n",
      " 28  Auto (New & used) loan %                          1547 non-null   int32  \n",
      " 29  Delinquency rate                                  1547 non-null   float64\n",
      " 30  Personal Lien %                                   1547 non-null   int32  \n",
      " 31  Business Lien%                                    1547 non-null   int32  \n",
      " 32  % Filing Date Order > 1                           1547 non-null   int32  \n",
      " 33  Sales assignemnt                                  1547 non-null   object \n",
      " 34  Add'l Non CSC Competitor Info                     1547 non-null   object \n",
      " 35  Other Notes                                       1547 non-null   object \n",
      "dtypes: float64(4), int32(18), object(14)\n",
      "memory usage: 338.4+ KB\n"
     ]
    }
   ],
   "source": [
    "df_base.info()"
   ]
  },
  {
   "cell_type": "code",
   "execution_count": 33,
   "metadata": {
    "ExecuteTime": {
     "end_time": "2020-07-06T09:33:50.854126Z",
     "start_time": "2020-07-06T09:33:50.818124Z"
    },
    "scrolled": false
   },
   "outputs": [
    {
     "data": {
      "text/html": [
       "<div>\n",
       "<style scoped>\n",
       "    .dataframe tbody tr th:only-of-type {\n",
       "        vertical-align: middle;\n",
       "    }\n",
       "\n",
       "    .dataframe tbody tr th {\n",
       "        vertical-align: top;\n",
       "    }\n",
       "\n",
       "    .dataframe thead th {\n",
       "        text-align: right;\n",
       "    }\n",
       "</style>\n",
       "<table border=\"1\" class=\"dataframe\">\n",
       "  <thead>\n",
       "    <tr style=\"text-align: right;\">\n",
       "      <th></th>\n",
       "      <th>Index</th>\n",
       "      <th>Client (PAG)</th>\n",
       "      <th>Parent name (per 2018 PR)</th>\n",
       "      <th>Parent name (per 2019 PR)</th>\n",
       "      <th>Public Record 2019</th>\n",
       "      <th>Public Record 2018</th>\n",
       "      <th>% change 2019 vs. 2018</th>\n",
       "      <th>SF share of public filing</th>\n",
       "      <th>WKLS share of public filing</th>\n",
       "      <th>% of filing using non WKLS vendors</th>\n",
       "      <th># of filing offices (/ # of filing zips)</th>\n",
       "      <th>UCC 3 % over total filing</th>\n",
       "      <th># of filing jurisdictions</th>\n",
       "      <th># of jurisdictions w/ filing &gt; 100</th>\n",
       "      <th>Top vol state</th>\n",
       "      <th>2nd vol state</th>\n",
       "      <th>...</th>\n",
       "      <th>% of filing vol in top 6 states (how disbursed?)</th>\n",
       "      <th>Self Filer Segments</th>\n",
       "      <th>Updated User type</th>\n",
       "      <th>Asset size (M)</th>\n",
       "      <th>Commercial loan value (M)</th>\n",
       "      <th>Commercial loans %</th>\n",
       "      <th>Consumer loans %</th>\n",
       "      <th>Real estate loan %</th>\n",
       "      <th>Auto (New &amp; used) loan %</th>\n",
       "      <th>Delinquency rate</th>\n",
       "      <th>Personal Lien %</th>\n",
       "      <th>Business Lien%</th>\n",
       "      <th>% Filing Date Order &gt; 1</th>\n",
       "      <th>Sales assignemnt</th>\n",
       "      <th>Add'l Non CSC Competitor Info</th>\n",
       "      <th>Other Notes</th>\n",
       "    </tr>\n",
       "  </thead>\n",
       "  <tbody>\n",
       "    <tr>\n",
       "      <th>0</th>\n",
       "      <td>CT-tier2-1</td>\n",
       "      <td>NaN</td>\n",
       "      <td>Accion East, Inc.</td>\n",
       "      <td>Accion East, Inc.</td>\n",
       "      <td>793</td>\n",
       "      <td>634</td>\n",
       "      <td>25</td>\n",
       "      <td>13</td>\n",
       "      <td>87</td>\n",
       "      <td>0</td>\n",
       "      <td>21</td>\n",
       "      <td>6</td>\n",
       "      <td>35</td>\n",
       "      <td>3</td>\n",
       "      <td>NY</td>\n",
       "      <td>FL</td>\n",
       "      <td>...</td>\n",
       "      <td>85</td>\n",
       "      <td>Others</td>\n",
       "      <td>CT-tier2</td>\n",
       "      <td>0.0</td>\n",
       "      <td>0.0</td>\n",
       "      <td>0</td>\n",
       "      <td>0</td>\n",
       "      <td>0</td>\n",
       "      <td>0</td>\n",
       "      <td>0.0</td>\n",
       "      <td>65</td>\n",
       "      <td>35</td>\n",
       "      <td>20</td>\n",
       "      <td>Raquel Torres</td>\n",
       "      <td>XXX</td>\n",
       "      <td>0</td>\n",
       "    </tr>\n",
       "    <tr>\n",
       "      <th>1</th>\n",
       "      <td>CT-tier2-2</td>\n",
       "      <td>NaN</td>\n",
       "      <td>Afnb Holdings, Inc.</td>\n",
       "      <td>Afnb Holdings, Inc.</td>\n",
       "      <td>1184</td>\n",
       "      <td>1133</td>\n",
       "      <td>5</td>\n",
       "      <td>38</td>\n",
       "      <td>61</td>\n",
       "      <td>1</td>\n",
       "      <td>9</td>\n",
       "      <td>56</td>\n",
       "      <td>10</td>\n",
       "      <td>1</td>\n",
       "      <td>TX</td>\n",
       "      <td>NV</td>\n",
       "      <td>...</td>\n",
       "      <td>99</td>\n",
       "      <td>Bank</td>\n",
       "      <td>CT-tier2</td>\n",
       "      <td>0.0</td>\n",
       "      <td>0.0</td>\n",
       "      <td>0</td>\n",
       "      <td>0</td>\n",
       "      <td>0</td>\n",
       "      <td>0</td>\n",
       "      <td>0.0</td>\n",
       "      <td>37</td>\n",
       "      <td>63</td>\n",
       "      <td>47</td>\n",
       "      <td>Monica Butz</td>\n",
       "      <td>XXX</td>\n",
       "      <td>0</td>\n",
       "    </tr>\n",
       "    <tr>\n",
       "      <th>2</th>\n",
       "      <td>CT-tier1-3</td>\n",
       "      <td>NaN</td>\n",
       "      <td>AG Georgia Farm Credit</td>\n",
       "      <td>AG Georgia Farm Credit</td>\n",
       "      <td>2233</td>\n",
       "      <td>2341</td>\n",
       "      <td>-5</td>\n",
       "      <td>5</td>\n",
       "      <td>95</td>\n",
       "      <td>0</td>\n",
       "      <td>64</td>\n",
       "      <td>52</td>\n",
       "      <td>7</td>\n",
       "      <td>1</td>\n",
       "      <td>GA</td>\n",
       "      <td>FL</td>\n",
       "      <td>...</td>\n",
       "      <td>100</td>\n",
       "      <td>FCS</td>\n",
       "      <td>CT-tier1</td>\n",
       "      <td>0.0</td>\n",
       "      <td>0.0</td>\n",
       "      <td>0</td>\n",
       "      <td>0</td>\n",
       "      <td>0</td>\n",
       "      <td>0</td>\n",
       "      <td>0.0</td>\n",
       "      <td>94</td>\n",
       "      <td>6</td>\n",
       "      <td>69</td>\n",
       "      <td>Mary Beth Sommer</td>\n",
       "      <td>XXX</td>\n",
       "      <td>0</td>\n",
       "    </tr>\n",
       "    <tr>\n",
       "      <th>3</th>\n",
       "      <td>Self-4</td>\n",
       "      <td>NaN</td>\n",
       "      <td>AGCO Corporation</td>\n",
       "      <td>AGCO Corporation</td>\n",
       "      <td>17175</td>\n",
       "      <td>16942</td>\n",
       "      <td>1</td>\n",
       "      <td>99</td>\n",
       "      <td>1</td>\n",
       "      <td>0</td>\n",
       "      <td>143</td>\n",
       "      <td>20</td>\n",
       "      <td>50</td>\n",
       "      <td>39</td>\n",
       "      <td>TX</td>\n",
       "      <td>NC</td>\n",
       "      <td>...</td>\n",
       "      <td>27</td>\n",
       "      <td>Equipment Finance</td>\n",
       "      <td>Self</td>\n",
       "      <td>0.0</td>\n",
       "      <td>0.0</td>\n",
       "      <td>0</td>\n",
       "      <td>0</td>\n",
       "      <td>0</td>\n",
       "      <td>0</td>\n",
       "      <td>0.0</td>\n",
       "      <td>82</td>\n",
       "      <td>18</td>\n",
       "      <td>56</td>\n",
       "      <td>Julee Freeland</td>\n",
       "      <td>XXX</td>\n",
       "      <td>0</td>\n",
       "    </tr>\n",
       "    <tr>\n",
       "      <th>4</th>\n",
       "      <td>CT-tier1-5</td>\n",
       "      <td>NaN</td>\n",
       "      <td>Agheritage Farm Credit Services Aca</td>\n",
       "      <td>Agheritage Farm Credit Services Aca</td>\n",
       "      <td>868</td>\n",
       "      <td>796</td>\n",
       "      <td>9</td>\n",
       "      <td>1</td>\n",
       "      <td>99</td>\n",
       "      <td>0</td>\n",
       "      <td>8</td>\n",
       "      <td>50</td>\n",
       "      <td>6</td>\n",
       "      <td>1</td>\n",
       "      <td>AR</td>\n",
       "      <td>DE</td>\n",
       "      <td>...</td>\n",
       "      <td>100</td>\n",
       "      <td>FCS</td>\n",
       "      <td>CT-tier1</td>\n",
       "      <td>0.0</td>\n",
       "      <td>0.0</td>\n",
       "      <td>0</td>\n",
       "      <td>0</td>\n",
       "      <td>0</td>\n",
       "      <td>0</td>\n",
       "      <td>0.0</td>\n",
       "      <td>80</td>\n",
       "      <td>20</td>\n",
       "      <td>63</td>\n",
       "      <td>Mary Beth Sommer</td>\n",
       "      <td>XXX</td>\n",
       "      <td>0</td>\n",
       "    </tr>\n",
       "  </tbody>\n",
       "</table>\n",
       "<p>5 rows × 36 columns</p>\n",
       "</div>"
      ],
      "text/plain": [
       "        Index  Client (PAG)            Parent name (per 2018 PR)  \\\n",
       "0  CT-tier2-1           NaN                    Accion East, Inc.   \n",
       "1  CT-tier2-2           NaN                  Afnb Holdings, Inc.   \n",
       "2  CT-tier1-3           NaN               AG Georgia Farm Credit   \n",
       "3      Self-4           NaN                     AGCO Corporation   \n",
       "4  CT-tier1-5           NaN  Agheritage Farm Credit Services Aca   \n",
       "\n",
       "             Parent name (per 2019 PR)  Public Record 2019   \\\n",
       "0                    Accion East, Inc.                  793   \n",
       "1                  Afnb Holdings, Inc.                 1184   \n",
       "2               AG Georgia Farm Credit                 2233   \n",
       "3                     AGCO Corporation                17175   \n",
       "4  Agheritage Farm Credit Services Aca                  868   \n",
       "\n",
       "   Public Record 2018  % change 2019 vs. 2018  SF share of public filing  \\\n",
       "0                 634                      25                         13   \n",
       "1                1133                       5                         38   \n",
       "2                2341                      -5                          5   \n",
       "3               16942                       1                         99   \n",
       "4                 796                       9                          1   \n",
       "\n",
       "   WKLS share of public filing  % of filing using non WKLS vendors  \\\n",
       "0                           87                                   0   \n",
       "1                           61                                   1   \n",
       "2                           95                                   0   \n",
       "3                            1                                   0   \n",
       "4                           99                                   0   \n",
       "\n",
       "   # of filing offices (/ # of filing zips)  UCC 3 % over total filing  \\\n",
       "0                                        21                          6   \n",
       "1                                         9                         56   \n",
       "2                                        64                         52   \n",
       "3                                       143                         20   \n",
       "4                                         8                         50   \n",
       "\n",
       "   # of filing jurisdictions  # of jurisdictions w/ filing > 100  \\\n",
       "0                         35                                   3   \n",
       "1                         10                                   1   \n",
       "2                          7                                   1   \n",
       "3                         50                                  39   \n",
       "4                          6                                   1   \n",
       "\n",
       "  Top vol state 2nd vol state  ...  \\\n",
       "0            NY            FL  ...   \n",
       "1            TX            NV  ...   \n",
       "2            GA            FL  ...   \n",
       "3            TX            NC  ...   \n",
       "4            AR            DE  ...   \n",
       "\n",
       "  % of filing vol in top 6 states (how disbursed?) Self Filer Segments  \\\n",
       "0                                               85              Others   \n",
       "1                                               99                Bank   \n",
       "2                                              100                 FCS   \n",
       "3                                               27   Equipment Finance   \n",
       "4                                              100                 FCS   \n",
       "\n",
       "  Updated User type Asset size (M)  Commercial loan value (M)  \\\n",
       "0          CT-tier2            0.0                        0.0   \n",
       "1          CT-tier2            0.0                        0.0   \n",
       "2          CT-tier1            0.0                        0.0   \n",
       "3              Self            0.0                        0.0   \n",
       "4          CT-tier1            0.0                        0.0   \n",
       "\n",
       "  Commercial loans % Consumer loans %  Real estate loan %  \\\n",
       "0                  0                0                   0   \n",
       "1                  0                0                   0   \n",
       "2                  0                0                   0   \n",
       "3                  0                0                   0   \n",
       "4                  0                0                   0   \n",
       "\n",
       "   Auto (New & used) loan %  Delinquency rate  Personal Lien %  \\\n",
       "0                         0               0.0               65   \n",
       "1                         0               0.0               37   \n",
       "2                         0               0.0               94   \n",
       "3                         0               0.0               82   \n",
       "4                         0               0.0               80   \n",
       "\n",
       "   Business Lien%  % Filing Date Order > 1  Sales assignemnt  \\\n",
       "0              35                       20     Raquel Torres   \n",
       "1              63                       47       Monica Butz   \n",
       "2               6                       69  Mary Beth Sommer   \n",
       "3              18                       56    Julee Freeland   \n",
       "4              20                       63  Mary Beth Sommer   \n",
       "\n",
       "   Add'l Non CSC Competitor Info  Other Notes  \n",
       "0                            XXX            0  \n",
       "1                            XXX            0  \n",
       "2                            XXX            0  \n",
       "3                            XXX            0  \n",
       "4                            XXX            0  \n",
       "\n",
       "[5 rows x 36 columns]"
      ]
     },
     "execution_count": 33,
     "metadata": {},
     "output_type": "execute_result"
    }
   ],
   "source": [
    "df_base.head()"
   ]
  },
  {
   "cell_type": "code",
   "execution_count": 34,
   "metadata": {
    "ExecuteTime": {
     "end_time": "2020-07-06T09:33:50.869124Z",
     "start_time": "2020-07-06T09:33:50.857128Z"
    },
    "scrolled": false
   },
   "outputs": [],
   "source": [
    "df_base = df_base.rename(columns= {'Public Record 2019 ': 'Public Record 2016', '% change 2019 vs. 2018': '% change 2017 vs. 2016', \n",
    "                    'Public Record 2018': 'Public Rdcord 2018', 'Public Record 2019 ':'Public Record 2016'})"
   ]
  },
  {
   "cell_type": "code",
   "execution_count": 35,
   "metadata": {
    "ExecuteTime": {
     "end_time": "2020-07-06T09:33:50.879135Z",
     "start_time": "2020-07-06T09:33:50.873128Z"
    },
    "scrolled": false
   },
   "outputs": [
    {
     "data": {
      "text/plain": [
       "(1547, 36)"
      ]
     },
     "execution_count": 35,
     "metadata": {},
     "output_type": "execute_result"
    }
   ],
   "source": [
    "df_base.shape"
   ]
  },
  {
   "cell_type": "code",
   "execution_count": 36,
   "metadata": {
    "ExecuteTime": {
     "end_time": "2020-07-06T09:33:50.916125Z",
     "start_time": "2020-07-06T09:33:50.883131Z"
    },
    "scrolled": false
   },
   "outputs": [
    {
     "name": "stdout",
     "output_type": "stream",
     "text": [
      "30\n",
      "(1547, 36)\n",
      "Wall time: 2.99 ms\n"
     ]
    }
   ],
   "source": [
    "%%time\n",
    "df_master= df_base\n",
    "print(df_master['Sales assignemnt'].nunique())\n",
    "print(df_master.shape)\n",
    "\n",
    "df_master['Access_all_1'] = 'Sheetal Kamani'\n",
    "df_master['Access_all_2'] = 'Sharyn Shirley'\n",
    "df_master['Access_all_3'] = 'Shu Morris'\n",
    "df_master['Access_all_4'] = 'Alexis Jacobson'\n",
    "df_master['Access_all_5'] = 'Andrew Hoechstetter'\n",
    "df_master['Access_all_6'] = 'Kochpatchara Pramnomai'"
   ]
  },
  {
   "cell_type": "code",
   "execution_count": 37,
   "metadata": {
    "ExecuteTime": {
     "end_time": "2020-07-06T09:33:50.932126Z",
     "start_time": "2020-07-06T09:33:50.919125Z"
    },
    "scrolled": false
   },
   "outputs": [
    {
     "name": "stdout",
     "output_type": "stream",
     "text": [
      "(27, 4)\n"
     ]
    },
    {
     "data": {
      "text/plain": [
       "Index(['Sale assigned', 'Role1', 'Role2', 'Role3'], dtype='object')"
      ]
     },
     "execution_count": 37,
     "metadata": {},
     "output_type": "execute_result"
    }
   ],
   "source": [
    "print(df_role.shape)\n",
    "df_role.columns"
   ]
  },
  {
   "cell_type": "code",
   "execution_count": 38,
   "metadata": {
    "ExecuteTime": {
     "end_time": "2020-07-06T09:33:50.972123Z",
     "start_time": "2020-07-06T09:33:50.935124Z"
    },
    "scrolled": true
   },
   "outputs": [
    {
     "data": {
      "text/html": [
       "<div>\n",
       "<style scoped>\n",
       "    .dataframe tbody tr th:only-of-type {\n",
       "        vertical-align: middle;\n",
       "    }\n",
       "\n",
       "    .dataframe tbody tr th {\n",
       "        vertical-align: top;\n",
       "    }\n",
       "\n",
       "    .dataframe thead th {\n",
       "        text-align: right;\n",
       "    }\n",
       "</style>\n",
       "<table border=\"1\" class=\"dataframe\">\n",
       "  <thead>\n",
       "    <tr style=\"text-align: right;\">\n",
       "      <th></th>\n",
       "      <th>Parent name (per 2019 PR)</th>\n",
       "      <th>Parent name (per 2018 PR)</th>\n",
       "      <th>Sales assignemnt</th>\n",
       "      <th>Access_all_1</th>\n",
       "      <th>Access_all_2</th>\n",
       "      <th>Access_all_3</th>\n",
       "      <th>Access_all_4</th>\n",
       "      <th>Access_all_5</th>\n",
       "      <th>Access_all_6</th>\n",
       "      <th>Sale assigned</th>\n",
       "      <th>Role1</th>\n",
       "      <th>Role2</th>\n",
       "      <th>Role3</th>\n",
       "    </tr>\n",
       "  </thead>\n",
       "  <tbody>\n",
       "    <tr>\n",
       "      <th>0</th>\n",
       "      <td>Accion East, Inc.</td>\n",
       "      <td>Accion East, Inc.</td>\n",
       "      <td>Raquel Torres</td>\n",
       "      <td>Sheetal Kamani</td>\n",
       "      <td>Sharyn Shirley</td>\n",
       "      <td>Shu Morris</td>\n",
       "      <td>Alexis Jacobson</td>\n",
       "      <td>Andrew Hoechstetter</td>\n",
       "      <td>Kochpatchara Pramnomai</td>\n",
       "      <td>Raquel Torres</td>\n",
       "      <td>Katie Olivier</td>\n",
       "      <td>NaN</td>\n",
       "      <td>NaN</td>\n",
       "    </tr>\n",
       "    <tr>\n",
       "      <th>1</th>\n",
       "      <td>Afnb Holdings, Inc.</td>\n",
       "      <td>Afnb Holdings, Inc.</td>\n",
       "      <td>Monica Butz</td>\n",
       "      <td>Sheetal Kamani</td>\n",
       "      <td>Sharyn Shirley</td>\n",
       "      <td>Shu Morris</td>\n",
       "      <td>Alexis Jacobson</td>\n",
       "      <td>Andrew Hoechstetter</td>\n",
       "      <td>Kochpatchara Pramnomai</td>\n",
       "      <td>Monica Butz</td>\n",
       "      <td>Joni Baker</td>\n",
       "      <td>NaN</td>\n",
       "      <td>NaN</td>\n",
       "    </tr>\n",
       "    <tr>\n",
       "      <th>2</th>\n",
       "      <td>AG Georgia Farm Credit</td>\n",
       "      <td>AG Georgia Farm Credit</td>\n",
       "      <td>Mary Beth Sommer</td>\n",
       "      <td>Sheetal Kamani</td>\n",
       "      <td>Sharyn Shirley</td>\n",
       "      <td>Shu Morris</td>\n",
       "      <td>Alexis Jacobson</td>\n",
       "      <td>Andrew Hoechstetter</td>\n",
       "      <td>Kochpatchara Pramnomai</td>\n",
       "      <td>Mary Beth Sommer</td>\n",
       "      <td>Donna Kotke</td>\n",
       "      <td>Jennifer Pierroz</td>\n",
       "      <td>Jennifer Watanabe</td>\n",
       "    </tr>\n",
       "    <tr>\n",
       "      <th>3</th>\n",
       "      <td>AGCO Corporation</td>\n",
       "      <td>AGCO Corporation</td>\n",
       "      <td>Julee Freeland</td>\n",
       "      <td>Sheetal Kamani</td>\n",
       "      <td>Sharyn Shirley</td>\n",
       "      <td>Shu Morris</td>\n",
       "      <td>Alexis Jacobson</td>\n",
       "      <td>Andrew Hoechstetter</td>\n",
       "      <td>Kochpatchara Pramnomai</td>\n",
       "      <td>Julee Freeland</td>\n",
       "      <td>Donna Kotke</td>\n",
       "      <td>Jennifer Pierroz</td>\n",
       "      <td>Jennifer Watanabe</td>\n",
       "    </tr>\n",
       "    <tr>\n",
       "      <th>4</th>\n",
       "      <td>Agheritage Farm Credit Services Aca</td>\n",
       "      <td>Agheritage Farm Credit Services Aca</td>\n",
       "      <td>Mary Beth Sommer</td>\n",
       "      <td>Sheetal Kamani</td>\n",
       "      <td>Sharyn Shirley</td>\n",
       "      <td>Shu Morris</td>\n",
       "      <td>Alexis Jacobson</td>\n",
       "      <td>Andrew Hoechstetter</td>\n",
       "      <td>Kochpatchara Pramnomai</td>\n",
       "      <td>Mary Beth Sommer</td>\n",
       "      <td>Donna Kotke</td>\n",
       "      <td>Jennifer Pierroz</td>\n",
       "      <td>Jennifer Watanabe</td>\n",
       "    </tr>\n",
       "    <tr>\n",
       "      <th>...</th>\n",
       "      <td>...</td>\n",
       "      <td>...</td>\n",
       "      <td>...</td>\n",
       "      <td>...</td>\n",
       "      <td>...</td>\n",
       "      <td>...</td>\n",
       "      <td>...</td>\n",
       "      <td>...</td>\n",
       "      <td>...</td>\n",
       "      <td>...</td>\n",
       "      <td>...</td>\n",
       "      <td>...</td>\n",
       "      <td>...</td>\n",
       "    </tr>\n",
       "    <tr>\n",
       "      <th>1542</th>\n",
       "      <td>Community Bank Holdings of Texas, Inc.</td>\n",
       "      <td>Community Bank Holdings of Texas, Inc.</td>\n",
       "      <td>Tamela Rice</td>\n",
       "      <td>Sheetal Kamani</td>\n",
       "      <td>Sharyn Shirley</td>\n",
       "      <td>Shu Morris</td>\n",
       "      <td>Alexis Jacobson</td>\n",
       "      <td>Andrew Hoechstetter</td>\n",
       "      <td>Kochpatchara Pramnomai</td>\n",
       "      <td>Tamela Rice</td>\n",
       "      <td>Katie Olivier</td>\n",
       "      <td>NaN</td>\n",
       "      <td>NaN</td>\n",
       "    </tr>\n",
       "    <tr>\n",
       "      <th>1543</th>\n",
       "      <td>Orbian Corporation Ltd.</td>\n",
       "      <td>Orbian Corporation Ltd.</td>\n",
       "      <td>Christina Villa</td>\n",
       "      <td>Sheetal Kamani</td>\n",
       "      <td>Sharyn Shirley</td>\n",
       "      <td>Shu Morris</td>\n",
       "      <td>Alexis Jacobson</td>\n",
       "      <td>Andrew Hoechstetter</td>\n",
       "      <td>Kochpatchara Pramnomai</td>\n",
       "      <td>Christina Villa</td>\n",
       "      <td>Katie Olivier</td>\n",
       "      <td>NaN</td>\n",
       "      <td>NaN</td>\n",
       "    </tr>\n",
       "    <tr>\n",
       "      <th>1544</th>\n",
       "      <td>The First of Long Island Corporation</td>\n",
       "      <td>The First of Long Island Corporation</td>\n",
       "      <td>Leo Ayala</td>\n",
       "      <td>Sheetal Kamani</td>\n",
       "      <td>Sharyn Shirley</td>\n",
       "      <td>Shu Morris</td>\n",
       "      <td>Alexis Jacobson</td>\n",
       "      <td>Andrew Hoechstetter</td>\n",
       "      <td>Kochpatchara Pramnomai</td>\n",
       "      <td>Leo Ayala</td>\n",
       "      <td>Joni Baker</td>\n",
       "      <td>NaN</td>\n",
       "      <td>NaN</td>\n",
       "    </tr>\n",
       "    <tr>\n",
       "      <th>1545</th>\n",
       "      <td>Discover Financial Services</td>\n",
       "      <td>Discover Financial Services</td>\n",
       "      <td>Jerry Kotek</td>\n",
       "      <td>Sheetal Kamani</td>\n",
       "      <td>Sharyn Shirley</td>\n",
       "      <td>Shu Morris</td>\n",
       "      <td>Alexis Jacobson</td>\n",
       "      <td>Andrew Hoechstetter</td>\n",
       "      <td>Kochpatchara Pramnomai</td>\n",
       "      <td>Jerry Kotek</td>\n",
       "      <td>Donna Kotke</td>\n",
       "      <td>Jennifer Pierroz</td>\n",
       "      <td>Jennifer Watanabe</td>\n",
       "    </tr>\n",
       "    <tr>\n",
       "      <th>1546</th>\n",
       "      <td>Louisiana Land Bank</td>\n",
       "      <td>Louisiana Land Bank</td>\n",
       "      <td>Mary Beth Sommer</td>\n",
       "      <td>Sheetal Kamani</td>\n",
       "      <td>Sharyn Shirley</td>\n",
       "      <td>Shu Morris</td>\n",
       "      <td>Alexis Jacobson</td>\n",
       "      <td>Andrew Hoechstetter</td>\n",
       "      <td>Kochpatchara Pramnomai</td>\n",
       "      <td>Mary Beth Sommer</td>\n",
       "      <td>Donna Kotke</td>\n",
       "      <td>Jennifer Pierroz</td>\n",
       "      <td>Jennifer Watanabe</td>\n",
       "    </tr>\n",
       "  </tbody>\n",
       "</table>\n",
       "<p>1547 rows × 13 columns</p>\n",
       "</div>"
      ],
      "text/plain": [
       "                   Parent name (per 2019 PR)  \\\n",
       "0                          Accion East, Inc.   \n",
       "1                        Afnb Holdings, Inc.   \n",
       "2                     AG Georgia Farm Credit   \n",
       "3                           AGCO Corporation   \n",
       "4        Agheritage Farm Credit Services Aca   \n",
       "...                                      ...   \n",
       "1542  Community Bank Holdings of Texas, Inc.   \n",
       "1543                 Orbian Corporation Ltd.   \n",
       "1544    The First of Long Island Corporation   \n",
       "1545             Discover Financial Services   \n",
       "1546                     Louisiana Land Bank   \n",
       "\n",
       "                   Parent name (per 2018 PR)  Sales assignemnt  \\\n",
       "0                          Accion East, Inc.     Raquel Torres   \n",
       "1                        Afnb Holdings, Inc.       Monica Butz   \n",
       "2                     AG Georgia Farm Credit  Mary Beth Sommer   \n",
       "3                           AGCO Corporation    Julee Freeland   \n",
       "4        Agheritage Farm Credit Services Aca  Mary Beth Sommer   \n",
       "...                                      ...               ...   \n",
       "1542  Community Bank Holdings of Texas, Inc.       Tamela Rice   \n",
       "1543                 Orbian Corporation Ltd.   Christina Villa   \n",
       "1544    The First of Long Island Corporation         Leo Ayala   \n",
       "1545             Discover Financial Services       Jerry Kotek   \n",
       "1546                     Louisiana Land Bank  Mary Beth Sommer   \n",
       "\n",
       "        Access_all_1    Access_all_2 Access_all_3     Access_all_4  \\\n",
       "0     Sheetal Kamani  Sharyn Shirley   Shu Morris  Alexis Jacobson   \n",
       "1     Sheetal Kamani  Sharyn Shirley   Shu Morris  Alexis Jacobson   \n",
       "2     Sheetal Kamani  Sharyn Shirley   Shu Morris  Alexis Jacobson   \n",
       "3     Sheetal Kamani  Sharyn Shirley   Shu Morris  Alexis Jacobson   \n",
       "4     Sheetal Kamani  Sharyn Shirley   Shu Morris  Alexis Jacobson   \n",
       "...              ...             ...          ...              ...   \n",
       "1542  Sheetal Kamani  Sharyn Shirley   Shu Morris  Alexis Jacobson   \n",
       "1543  Sheetal Kamani  Sharyn Shirley   Shu Morris  Alexis Jacobson   \n",
       "1544  Sheetal Kamani  Sharyn Shirley   Shu Morris  Alexis Jacobson   \n",
       "1545  Sheetal Kamani  Sharyn Shirley   Shu Morris  Alexis Jacobson   \n",
       "1546  Sheetal Kamani  Sharyn Shirley   Shu Morris  Alexis Jacobson   \n",
       "\n",
       "             Access_all_5            Access_all_6     Sale assigned  \\\n",
       "0     Andrew Hoechstetter  Kochpatchara Pramnomai     Raquel Torres   \n",
       "1     Andrew Hoechstetter  Kochpatchara Pramnomai       Monica Butz   \n",
       "2     Andrew Hoechstetter  Kochpatchara Pramnomai  Mary Beth Sommer   \n",
       "3     Andrew Hoechstetter  Kochpatchara Pramnomai    Julee Freeland   \n",
       "4     Andrew Hoechstetter  Kochpatchara Pramnomai  Mary Beth Sommer   \n",
       "...                   ...                     ...               ...   \n",
       "1542  Andrew Hoechstetter  Kochpatchara Pramnomai       Tamela Rice   \n",
       "1543  Andrew Hoechstetter  Kochpatchara Pramnomai   Christina Villa   \n",
       "1544  Andrew Hoechstetter  Kochpatchara Pramnomai         Leo Ayala   \n",
       "1545  Andrew Hoechstetter  Kochpatchara Pramnomai       Jerry Kotek   \n",
       "1546  Andrew Hoechstetter  Kochpatchara Pramnomai  Mary Beth Sommer   \n",
       "\n",
       "              Role1             Role2              Role3  \n",
       "0     Katie Olivier               NaN                NaN  \n",
       "1        Joni Baker               NaN                NaN  \n",
       "2       Donna Kotke  Jennifer Pierroz  Jennifer Watanabe  \n",
       "3       Donna Kotke  Jennifer Pierroz  Jennifer Watanabe  \n",
       "4       Donna Kotke  Jennifer Pierroz  Jennifer Watanabe  \n",
       "...             ...               ...                ...  \n",
       "1542  Katie Olivier               NaN                NaN  \n",
       "1543  Katie Olivier               NaN                NaN  \n",
       "1544     Joni Baker               NaN                NaN  \n",
       "1545    Donna Kotke  Jennifer Pierroz  Jennifer Watanabe  \n",
       "1546    Donna Kotke  Jennifer Pierroz  Jennifer Watanabe  \n",
       "\n",
       "[1547 rows x 13 columns]"
      ]
     },
     "execution_count": 38,
     "metadata": {},
     "output_type": "execute_result"
    }
   ],
   "source": [
    "df_merge = df_master[['Parent name (per 2019 PR)','Parent name (per 2018 PR)','Sales assignemnt','Access_all_1','Access_all_2','Access_all_3','Access_all_4','Access_all_5','Access_all_6']]\n",
    "merged_df= pd.merge(left=df_merge,right=df_role, how='left' , right_on='Sale assigned', left_on='Sales assignemnt')\n",
    "merged_df"
   ]
  },
  {
   "cell_type": "markdown",
   "metadata": {},
   "source": [
    "## Code Starts from here"
   ]
  },
  {
   "cell_type": "markdown",
   "metadata": {},
   "source": [
    "Data_Preparation for the Prospect List and Summary Tab"
   ]
  },
  {
   "cell_type": "code",
   "execution_count": 39,
   "metadata": {
    "ExecuteTime": {
     "end_time": "2020-05-18T08:29:50.217691Z",
     "start_time": "2020-05-18T08:29:50.213703Z"
    },
    "scrolled": false
   },
   "outputs": [],
   "source": [
    "# df_risk=[]\n",
    "# with open_xlsb('../input/Risk_Management - reps-v2.xlsb') as wb:\n",
    "#         with wb.get_sheet('Sum by SF') as sheet:\n",
    "#             for row in sheet.rows():\n",
    "#                 df_risk.append([item.v for item in row])\n",
    "# df_risk = pd.DataFrame(df_risk[1:], columns=df_risk[0])\n",
    "# df_risk = df_risk.dropna()\n",
    "# df_risk.to_csv('../input/SumBYSF_base.csv')\n",
    "\n",
    "# df_risk.shape"
   ]
  },
  {
   "cell_type": "code",
   "execution_count": 40,
   "metadata": {
    "ExecuteTime": {
     "end_time": "2020-03-20T04:33:30.394590Z",
     "start_time": "2020-03-20T04:33:30.390601Z"
    },
    "scrolled": false
   },
   "outputs": [],
   "source": [
    "# df_examples=[]\n",
    "# with open_xlsb('../input/Risk_Management - reps-v2.xlsb') as wb:\n",
    "#         with wb.get_sheet('More Examples') as sheet:\n",
    "#             for row in sheet.rows():\n",
    "#                 df_examples.append([item.v for item in row])\n",
    "# df_examples = pd.DataFrame(df_examples[1:], columns=df_examples[0])\n",
    "# df_examples= df_examples[cols]\n",
    "# df_examples.to_csv('../input/Examples_base.csv')"
   ]
  },
  {
   "cell_type": "code",
   "execution_count": 41,
   "metadata": {
    "ExecuteTime": {
     "end_time": "2020-07-06T07:03:08.404341Z",
     "start_time": "2020-07-06T07:03:08.401310Z"
    }
   },
   "outputs": [],
   "source": [
    "#dictionary_match, dict_rep"
   ]
  },
  {
   "cell_type": "code",
   "execution_count": 42,
   "metadata": {
    "ExecuteTime": {
     "end_time": "2020-07-06T09:34:36.113895Z",
     "start_time": "2020-07-06T09:34:36.109859Z"
    },
    "scrolled": false
   },
   "outputs": [],
   "source": [
    "dictionary_match= dict(map_match.values.tolist())\n",
    "dict_rep = dict(zip(rep_assignment['2018 Name'], rep_assignment['Rep (Updated)']))"
   ]
  },
  {
   "cell_type": "code",
   "execution_count": 43,
   "metadata": {
    "ExecuteTime": {
     "end_time": "2020-07-06T09:34:42.272487Z",
     "start_time": "2020-07-06T09:34:36.822302Z"
    },
    "scrolled": false
   },
   "outputs": [
    {
     "name": "stdout",
     "output_type": "stream",
     "text": [
      "../input/Recieved/1037.xlsb\n",
      "../input/Recieved/1044.xlsb\n",
      "../input/Recieved/1127.xlsb\n",
      "../input/Recieved/1136.xlsb\n",
      "../input/Recieved/1198.xlsb\n",
      "../input/Recieved/1224.xlsb\n",
      "../input/Recieved/1299.xlsb\n",
      "../input/Recieved/1303.xlsb\n",
      "../input/Recieved/1831.xlsb\n",
      "../input/Recieved/2290.xlsb\n",
      "../input/Recieved/2394.xlsb\n",
      "../input/Recieved/2545.xlsb\n",
      "../input/Recieved/2554.xlsb\n",
      "../input/Recieved/2610.xlsb\n",
      "../input/Recieved/3163.xlsb\n",
      "../input/Recieved/3164.xlsb\n",
      "../input/Recieved/3165.xlsb\n",
      "../input/Recieved/3166.xlsb\n",
      "../input/Recieved/3167.xlsb\n",
      "../input/Recieved/3168.xlsb\n"
     ]
    }
   ],
   "source": [
    "onlyfiles = [f for f in listdir(\"../input/Recieved\") if isfile(join(\"../input/Recieved\", f))]\n",
    "sheet_names=[]; file_location=[]; file_names = []\n",
    "for files in onlyfiles:\n",
    "    #print(files)\n",
    "    file_location.append(\"../input/Recieved/\"+ str(files))\n",
    "    file_names.append(str(files))\n",
    "    sheet_names.append(files[:4])\n",
    "file_sheet= dict(zip(file_location, sheet_names))\n",
    "    \n",
    "lst_df=[]\n",
    "for values in file_sheet.keys():\n",
    "    df=[]\n",
    "    print(values)\n",
    "    with open_xlsb(values) as wb:\n",
    "        with wb.get_sheet(file_sheet[values]) as sheet:\n",
    "            for row in sheet.rows():\n",
    "                df.append([item.v for item in row])\n",
    "    df = pd.DataFrame(df[1:], columns=df[0])\n",
    "    lst_df.append(df)\n",
    "    \n",
    "dict_df= dict(zip(list(file_sheet.keys()), lst_df))\n",
    "dict_file_names = dict(zip(file_names, lst_df))"
   ]
  },
  {
   "cell_type": "code",
   "execution_count": 44,
   "metadata": {
    "ExecuteTime": {
     "end_time": "2020-07-06T07:07:57.871670Z",
     "start_time": "2020-07-06T07:07:57.855670Z"
    }
   },
   "outputs": [],
   "source": [
    "#dict_file_names"
   ]
  },
  {
   "cell_type": "code",
   "execution_count": 45,
   "metadata": {
    "ExecuteTime": {
     "end_time": "2020-07-06T09:34:44.284447Z",
     "start_time": "2020-07-06T09:34:44.279446Z"
    },
    "scrolled": false
   },
   "outputs": [
    {
     "data": {
      "text/plain": [
       "20"
      ]
     },
     "execution_count": 45,
     "metadata": {},
     "output_type": "execute_result"
    }
   ],
   "source": [
    "len(dict_file_names)\n",
    "#len(file_location)"
   ]
  },
  {
   "cell_type": "code",
   "execution_count": 46,
   "metadata": {
    "ExecuteTime": {
     "end_time": "2020-07-06T09:34:50.771183Z",
     "start_time": "2020-07-06T09:34:48.090609Z"
    },
    "scrolled": true
   },
   "outputs": [],
   "source": [
    "count=0\n",
    "os.chdir(r\"C:\\Users\\Manish.Kumar4\\Downloads\\WK\\Clients\\Prospecting Tool\\input\")\n",
    "cwd = os.getcwd() \n",
    "src = cwd +'\\\\Recieved\\\\'\n",
    "dst = cwd + '\\\\Processed\\\\'\n",
    "for df in dict_file_names.keys():\n",
    "    count+=1\n",
    "#    print(count)\n",
    "    df_temp = dict_file_names[df]\n",
    "#    print(df_temp)\n",
    "    df_entity = transform_entity_stat(dict_file_names[df], entity_status )\n",
    "#    print(df_entity)\n",
    "    df_= transform_others(dict_file_names[df], dictionary_match, dict_rep)#\n",
    "#    print(df_)\n",
    "    sum_by_sf = create_sum_by_sf(df_, df_entity, dict_rep)\n",
    "#    print(sum_by_sf)\n",
    "    temp_df, columns = final_calculation(sum_by_sf)\n",
    "    example_columns, temp_example_df = get_examples(df_entity, dictionary_match, dict_rep)\n",
    "    if(count==1):\n",
    "        final_df= pd.DataFrame(columns=list(columns))\n",
    "        final_example_df= pd.DataFrame(columns=list(example_columns))\n",
    "    final_df= final_df.append(temp_df)\n",
    "    final_example_df= final_example_df.append(temp_example_df)[cols]\n",
    "    shutil.move(os.path.join(src, df), os.path.join(dst, df))"
   ]
  },
  {
   "cell_type": "code",
   "execution_count": 47,
   "metadata": {},
   "outputs": [
    {
     "data": {
      "text/html": [
       "<div>\n",
       "<style scoped>\n",
       "    .dataframe tbody tr th:only-of-type {\n",
       "        vertical-align: middle;\n",
       "    }\n",
       "\n",
       "    .dataframe tbody tr th {\n",
       "        vertical-align: top;\n",
       "    }\n",
       "\n",
       "    .dataframe thead th {\n",
       "        text-align: right;\n",
       "    }\n",
       "</style>\n",
       "<table border=\"1\" class=\"dataframe\">\n",
       "  <thead>\n",
       "    <tr style=\"text-align: right;\">\n",
       "      <th></th>\n",
       "      <th>Prospect Name</th>\n",
       "      <th>Filing Sets Count (for Business Liens)</th>\n",
       "      <th>JMM total</th>\n",
       "      <th>DNMM total</th>\n",
       "      <th>Entity Status Total</th>\n",
       "      <th>JMM - Need Attention</th>\n",
       "      <th>JMM-OK Filings</th>\n",
       "      <th>JMM-Unresolved Filings</th>\n",
       "      <th>DNMM - Need Attention</th>\n",
       "      <th>DNMM - No Match</th>\n",
       "      <th>DNMM - Unresolved</th>\n",
       "      <th>DNMM - OK Filings</th>\n",
       "      <th>Entity Status - Entities that need attention</th>\n",
       "      <th>Entity Status - Entities dissolved</th>\n",
       "      <th>Entity Status - Unresolved</th>\n",
       "      <th>Entity Status - Active</th>\n",
       "      <th>JMM - Need Attention%</th>\n",
       "      <th>JMM-OK Filings%</th>\n",
       "      <th>JMM-Unresolved Filings%</th>\n",
       "      <th>DNMM - Need Attention%</th>\n",
       "      <th>DNMM - No Match%</th>\n",
       "      <th>DNMM - Unresolved%</th>\n",
       "      <th>DNMM - OK Filings%</th>\n",
       "      <th>Entity Status - Entities that need attention%</th>\n",
       "      <th>Entity Status - Entities dissolved%</th>\n",
       "      <th>Entity Status - Unresolved%</th>\n",
       "      <th>Entity Status - Active%</th>\n",
       "    </tr>\n",
       "  </thead>\n",
       "  <tbody>\n",
       "    <tr>\n",
       "      <th>0</th>\n",
       "      <td>Snap Home Finance Corp</td>\n",
       "      <td>4</td>\n",
       "      <td>4</td>\n",
       "      <td>4</td>\n",
       "      <td>4</td>\n",
       "      <td>0</td>\n",
       "      <td>0</td>\n",
       "      <td>4</td>\n",
       "      <td>0</td>\n",
       "      <td>4</td>\n",
       "      <td>0</td>\n",
       "      <td>0</td>\n",
       "      <td>0</td>\n",
       "      <td>0</td>\n",
       "      <td>4</td>\n",
       "      <td>0</td>\n",
       "      <td>0.0</td>\n",
       "      <td>0.0</td>\n",
       "      <td>1.0</td>\n",
       "      <td>0.0</td>\n",
       "      <td>1.0</td>\n",
       "      <td>0.0</td>\n",
       "      <td>0.0</td>\n",
       "      <td>0.0</td>\n",
       "      <td>0.0</td>\n",
       "      <td>1.0</td>\n",
       "      <td>0.0</td>\n",
       "    </tr>\n",
       "  </tbody>\n",
       "</table>\n",
       "</div>"
      ],
      "text/plain": [
       "            Prospect Name  Filing Sets Count (for Business Liens)  JMM total  \\\n",
       "0  Snap Home Finance Corp                                       4          4   \n",
       "\n",
       "   DNMM total  Entity Status Total  JMM - Need Attention  JMM-OK Filings  \\\n",
       "0           4                    4                     0               0   \n",
       "\n",
       "   JMM-Unresolved Filings  DNMM - Need Attention  DNMM - No Match  \\\n",
       "0                       4                      0                4   \n",
       "\n",
       "   DNMM - Unresolved  DNMM - OK Filings  \\\n",
       "0                  0                  0   \n",
       "\n",
       "   Entity Status - Entities that need attention  \\\n",
       "0                                             0   \n",
       "\n",
       "   Entity Status - Entities dissolved  Entity Status - Unresolved  \\\n",
       "0                                   0                           4   \n",
       "\n",
       "   Entity Status - Active  JMM - Need Attention%  JMM-OK Filings%  \\\n",
       "0                       0                    0.0              0.0   \n",
       "\n",
       "   JMM-Unresolved Filings%  DNMM - Need Attention%  DNMM - No Match%  \\\n",
       "0                      1.0                     0.0               1.0   \n",
       "\n",
       "   DNMM - Unresolved%  DNMM - OK Filings%  \\\n",
       "0                 0.0                 0.0   \n",
       "\n",
       "   Entity Status - Entities that need attention%  \\\n",
       "0                                            0.0   \n",
       "\n",
       "   Entity Status - Entities dissolved%  Entity Status - Unresolved%  \\\n",
       "0                                  0.0                          1.0   \n",
       "\n",
       "   Entity Status - Active%  \n",
       "0                      0.0  "
      ]
     },
     "execution_count": 47,
     "metadata": {},
     "output_type": "execute_result"
    }
   ],
   "source": [
    "sum_by_sf"
   ]
  },
  {
   "cell_type": "code",
   "execution_count": 48,
   "metadata": {
    "ExecuteTime": {
     "end_time": "2020-07-06T09:35:20.541008Z",
     "start_time": "2020-07-06T09:35:20.533010Z"
    },
    "scrolled": true
   },
   "outputs": [
    {
     "data": {
      "text/plain": [
       "(575, 32)"
      ]
     },
     "execution_count": 48,
     "metadata": {},
     "output_type": "execute_result"
    }
   ],
   "source": [
    "final_example_df['Date_Processed'] = Date\n",
    "final_example_df.shape\n",
    "#final_example_df"
   ]
  },
  {
   "cell_type": "code",
   "execution_count": 49,
   "metadata": {
    "ExecuteTime": {
     "end_time": "2020-07-06T09:35:43.073715Z",
     "start_time": "2020-07-06T09:35:43.067677Z"
    },
    "scrolled": true
   },
   "outputs": [
    {
     "data": {
      "text/plain": [
       "(20, 28)"
      ]
     },
     "execution_count": 49,
     "metadata": {},
     "output_type": "execute_result"
    }
   ],
   "source": [
    "final_df['Date_Processed'] = Date\n",
    "final_df.shape"
   ]
  },
  {
   "cell_type": "code",
   "execution_count": 50,
   "metadata": {
    "ExecuteTime": {
     "end_time": "2020-07-06T09:35:44.181616Z",
     "start_time": "2020-07-06T09:35:44.178638Z"
    },
    "scrolled": true
   },
   "outputs": [],
   "source": [
    "#final_example_df.tail(10) # Check for DNMM Categories codes getting populated"
   ]
  },
  {
   "cell_type": "code",
   "execution_count": 51,
   "metadata": {
    "ExecuteTime": {
     "end_time": "2020-07-06T09:35:44.883427Z",
     "start_time": "2020-07-06T09:35:44.855427Z"
    }
   },
   "outputs": [
    {
     "data": {
      "text/html": [
       "<div>\n",
       "<style scoped>\n",
       "    .dataframe tbody tr th:only-of-type {\n",
       "        vertical-align: middle;\n",
       "    }\n",
       "\n",
       "    .dataframe tbody tr th {\n",
       "        vertical-align: top;\n",
       "    }\n",
       "\n",
       "    .dataframe thead th {\n",
       "        text-align: right;\n",
       "    }\n",
       "</style>\n",
       "<table border=\"1\" class=\"dataframe\">\n",
       "  <thead>\n",
       "    <tr style=\"text-align: right;\">\n",
       "      <th></th>\n",
       "      <th>Prospect Name</th>\n",
       "      <th>Filing Sets Count (for Business Liens)</th>\n",
       "      <th>JMM total</th>\n",
       "      <th>DNMM total</th>\n",
       "      <th>Entity Status Total</th>\n",
       "      <th>JMM - Need Attention</th>\n",
       "      <th>JMM-OK Filings</th>\n",
       "      <th>JMM-Unresolved Filings</th>\n",
       "      <th>DNMM - Need Attention</th>\n",
       "      <th>DNMM - No Match</th>\n",
       "      <th>DNMM - Unresolved</th>\n",
       "      <th>DNMM - OK Filings</th>\n",
       "      <th>Entity Status - Entities that need attention</th>\n",
       "      <th>Entity Status - Entities dissolved</th>\n",
       "      <th>Entity Status - Unresolved</th>\n",
       "      <th>Entity Status - Active</th>\n",
       "      <th>JMM - Need Attention%</th>\n",
       "      <th>JMM-OK Filings%</th>\n",
       "      <th>JMM-Unresolved Filings%</th>\n",
       "      <th>DNMM - Need Attention%</th>\n",
       "      <th>DNMM - No Match%</th>\n",
       "      <th>DNMM - Unresolved%</th>\n",
       "      <th>DNMM - OK Filings%</th>\n",
       "      <th>Entity Status - Entities that need attention%</th>\n",
       "      <th>Entity Status - Entities dissolved%</th>\n",
       "      <th>Entity Status - Unresolved%</th>\n",
       "      <th>Entity Status - Active%</th>\n",
       "      <th>Date_Processed</th>\n",
       "    </tr>\n",
       "  </thead>\n",
       "  <tbody>\n",
       "    <tr>\n",
       "      <th>0</th>\n",
       "      <td>United National Corporation</td>\n",
       "      <td>1159</td>\n",
       "      <td>1195</td>\n",
       "      <td>1203</td>\n",
       "      <td>1200</td>\n",
       "      <td>56</td>\n",
       "      <td>937</td>\n",
       "      <td>202</td>\n",
       "      <td>619</td>\n",
       "      <td>202</td>\n",
       "      <td>0</td>\n",
       "      <td>382</td>\n",
       "      <td>79</td>\n",
       "      <td>73</td>\n",
       "      <td>202</td>\n",
       "      <td>846</td>\n",
       "      <td>0.046862</td>\n",
       "      <td>0.784100</td>\n",
       "      <td>0.169038</td>\n",
       "      <td>0.514547</td>\n",
       "      <td>0.167914</td>\n",
       "      <td>0.0</td>\n",
       "      <td>0.317539</td>\n",
       "      <td>0.065833</td>\n",
       "      <td>0.060833</td>\n",
       "      <td>0.168333</td>\n",
       "      <td>0.705000</td>\n",
       "      <td>Jul-20-2020</td>\n",
       "    </tr>\n",
       "    <tr>\n",
       "      <th>0</th>\n",
       "      <td>D. L. Evans Bancorp</td>\n",
       "      <td>5822</td>\n",
       "      <td>5921</td>\n",
       "      <td>6015</td>\n",
       "      <td>5990</td>\n",
       "      <td>82</td>\n",
       "      <td>5148</td>\n",
       "      <td>691</td>\n",
       "      <td>881</td>\n",
       "      <td>691</td>\n",
       "      <td>0</td>\n",
       "      <td>4443</td>\n",
       "      <td>1042</td>\n",
       "      <td>247</td>\n",
       "      <td>691</td>\n",
       "      <td>4010</td>\n",
       "      <td>0.013849</td>\n",
       "      <td>0.869448</td>\n",
       "      <td>0.116703</td>\n",
       "      <td>0.146467</td>\n",
       "      <td>0.114879</td>\n",
       "      <td>0.0</td>\n",
       "      <td>0.738653</td>\n",
       "      <td>0.173957</td>\n",
       "      <td>0.041235</td>\n",
       "      <td>0.115359</td>\n",
       "      <td>0.669449</td>\n",
       "      <td>Jul-20-2020</td>\n",
       "    </tr>\n",
       "    <tr>\n",
       "      <th>0</th>\n",
       "      <td>Mercantile Bank Corporation</td>\n",
       "      <td>4526</td>\n",
       "      <td>4578</td>\n",
       "      <td>4622</td>\n",
       "      <td>4632</td>\n",
       "      <td>39</td>\n",
       "      <td>4115</td>\n",
       "      <td>424</td>\n",
       "      <td>3406</td>\n",
       "      <td>424</td>\n",
       "      <td>0</td>\n",
       "      <td>792</td>\n",
       "      <td>571</td>\n",
       "      <td>10</td>\n",
       "      <td>430</td>\n",
       "      <td>3621</td>\n",
       "      <td>0.008519</td>\n",
       "      <td>0.898864</td>\n",
       "      <td>0.092617</td>\n",
       "      <td>0.736910</td>\n",
       "      <td>0.091735</td>\n",
       "      <td>0.0</td>\n",
       "      <td>0.171354</td>\n",
       "      <td>0.123273</td>\n",
       "      <td>0.002159</td>\n",
       "      <td>0.092832</td>\n",
       "      <td>0.781736</td>\n",
       "      <td>Jul-20-2020</td>\n",
       "    </tr>\n",
       "    <tr>\n",
       "      <th>0</th>\n",
       "      <td>New York Community Bancorp, Inc.</td>\n",
       "      <td>35989</td>\n",
       "      <td>37322</td>\n",
       "      <td>38639</td>\n",
       "      <td>37209</td>\n",
       "      <td>21416</td>\n",
       "      <td>11428</td>\n",
       "      <td>4478</td>\n",
       "      <td>7207</td>\n",
       "      <td>4478</td>\n",
       "      <td>0</td>\n",
       "      <td>26954</td>\n",
       "      <td>2929</td>\n",
       "      <td>11</td>\n",
       "      <td>4789</td>\n",
       "      <td>29480</td>\n",
       "      <td>0.573817</td>\n",
       "      <td>0.306200</td>\n",
       "      <td>0.119983</td>\n",
       "      <td>0.186521</td>\n",
       "      <td>0.115893</td>\n",
       "      <td>0.0</td>\n",
       "      <td>0.697585</td>\n",
       "      <td>0.078718</td>\n",
       "      <td>0.000296</td>\n",
       "      <td>0.128705</td>\n",
       "      <td>0.792281</td>\n",
       "      <td>Jul-20-2020</td>\n",
       "    </tr>\n",
       "    <tr>\n",
       "      <th>0</th>\n",
       "      <td>AGCO Corporation</td>\n",
       "      <td>34325</td>\n",
       "      <td>34720</td>\n",
       "      <td>34986</td>\n",
       "      <td>34695</td>\n",
       "      <td>2489</td>\n",
       "      <td>24358</td>\n",
       "      <td>7873</td>\n",
       "      <td>6350</td>\n",
       "      <td>7873</td>\n",
       "      <td>0</td>\n",
       "      <td>20763</td>\n",
       "      <td>2814</td>\n",
       "      <td>737</td>\n",
       "      <td>7893</td>\n",
       "      <td>23251</td>\n",
       "      <td>0.071688</td>\n",
       "      <td>0.701555</td>\n",
       "      <td>0.226757</td>\n",
       "      <td>0.181501</td>\n",
       "      <td>0.225033</td>\n",
       "      <td>0.0</td>\n",
       "      <td>0.593466</td>\n",
       "      <td>0.081107</td>\n",
       "      <td>0.021242</td>\n",
       "      <td>0.227497</td>\n",
       "      <td>0.670154</td>\n",
       "      <td>Jul-20-2020</td>\n",
       "    </tr>\n",
       "    <tr>\n",
       "      <th>0</th>\n",
       "      <td>Medallion Financial Corp.</td>\n",
       "      <td>14341</td>\n",
       "      <td>14872</td>\n",
       "      <td>15076</td>\n",
       "      <td>14867</td>\n",
       "      <td>8534</td>\n",
       "      <td>3346</td>\n",
       "      <td>2992</td>\n",
       "      <td>3750</td>\n",
       "      <td>2992</td>\n",
       "      <td>0</td>\n",
       "      <td>8334</td>\n",
       "      <td>3083</td>\n",
       "      <td>727</td>\n",
       "      <td>3024</td>\n",
       "      <td>8033</td>\n",
       "      <td>0.573830</td>\n",
       "      <td>0.224987</td>\n",
       "      <td>0.201183</td>\n",
       "      <td>0.248740</td>\n",
       "      <td>0.198461</td>\n",
       "      <td>0.0</td>\n",
       "      <td>0.552799</td>\n",
       "      <td>0.207372</td>\n",
       "      <td>0.048900</td>\n",
       "      <td>0.203404</td>\n",
       "      <td>0.540324</td>\n",
       "      <td>Jul-20-2020</td>\n",
       "    </tr>\n",
       "    <tr>\n",
       "      <th>0</th>\n",
       "      <td>Family Security Credit Union Inc</td>\n",
       "      <td>33</td>\n",
       "      <td>33</td>\n",
       "      <td>33</td>\n",
       "      <td>33</td>\n",
       "      <td>0</td>\n",
       "      <td>1</td>\n",
       "      <td>32</td>\n",
       "      <td>1</td>\n",
       "      <td>32</td>\n",
       "      <td>0</td>\n",
       "      <td>0</td>\n",
       "      <td>0</td>\n",
       "      <td>0</td>\n",
       "      <td>32</td>\n",
       "      <td>1</td>\n",
       "      <td>0.000000</td>\n",
       "      <td>0.030303</td>\n",
       "      <td>0.969697</td>\n",
       "      <td>0.030303</td>\n",
       "      <td>0.969697</td>\n",
       "      <td>0.0</td>\n",
       "      <td>0.000000</td>\n",
       "      <td>0.000000</td>\n",
       "      <td>0.000000</td>\n",
       "      <td>0.969697</td>\n",
       "      <td>0.030303</td>\n",
       "      <td>Jul-20-2020</td>\n",
       "    </tr>\n",
       "    <tr>\n",
       "      <th>0</th>\n",
       "      <td>United Midwest Savings Bank</td>\n",
       "      <td>2351</td>\n",
       "      <td>2436</td>\n",
       "      <td>2460</td>\n",
       "      <td>2407</td>\n",
       "      <td>246</td>\n",
       "      <td>1923</td>\n",
       "      <td>267</td>\n",
       "      <td>247</td>\n",
       "      <td>267</td>\n",
       "      <td>0</td>\n",
       "      <td>1946</td>\n",
       "      <td>168</td>\n",
       "      <td>32</td>\n",
       "      <td>271</td>\n",
       "      <td>1936</td>\n",
       "      <td>0.100985</td>\n",
       "      <td>0.789409</td>\n",
       "      <td>0.109606</td>\n",
       "      <td>0.100407</td>\n",
       "      <td>0.108537</td>\n",
       "      <td>0.0</td>\n",
       "      <td>0.791057</td>\n",
       "      <td>0.069796</td>\n",
       "      <td>0.013295</td>\n",
       "      <td>0.112588</td>\n",
       "      <td>0.804321</td>\n",
       "      <td>Jul-20-2020</td>\n",
       "    </tr>\n",
       "    <tr>\n",
       "      <th>0</th>\n",
       "      <td>Lake Trust Credit Union</td>\n",
       "      <td>228</td>\n",
       "      <td>229</td>\n",
       "      <td>231</td>\n",
       "      <td>231</td>\n",
       "      <td>0</td>\n",
       "      <td>215</td>\n",
       "      <td>14</td>\n",
       "      <td>152</td>\n",
       "      <td>14</td>\n",
       "      <td>0</td>\n",
       "      <td>65</td>\n",
       "      <td>10</td>\n",
       "      <td>1</td>\n",
       "      <td>14</td>\n",
       "      <td>206</td>\n",
       "      <td>0.000000</td>\n",
       "      <td>0.938865</td>\n",
       "      <td>0.061135</td>\n",
       "      <td>0.658009</td>\n",
       "      <td>0.060606</td>\n",
       "      <td>0.0</td>\n",
       "      <td>0.281385</td>\n",
       "      <td>0.043290</td>\n",
       "      <td>0.004329</td>\n",
       "      <td>0.060606</td>\n",
       "      <td>0.891775</td>\n",
       "      <td>Jul-20-2020</td>\n",
       "    </tr>\n",
       "    <tr>\n",
       "      <th>0</th>\n",
       "      <td>Technology Credit Union</td>\n",
       "      <td>314</td>\n",
       "      <td>325</td>\n",
       "      <td>330</td>\n",
       "      <td>326</td>\n",
       "      <td>2</td>\n",
       "      <td>114</td>\n",
       "      <td>209</td>\n",
       "      <td>33</td>\n",
       "      <td>209</td>\n",
       "      <td>0</td>\n",
       "      <td>88</td>\n",
       "      <td>12</td>\n",
       "      <td>3</td>\n",
       "      <td>209</td>\n",
       "      <td>102</td>\n",
       "      <td>0.006154</td>\n",
       "      <td>0.350769</td>\n",
       "      <td>0.643077</td>\n",
       "      <td>0.100000</td>\n",
       "      <td>0.633333</td>\n",
       "      <td>0.0</td>\n",
       "      <td>0.266667</td>\n",
       "      <td>0.036810</td>\n",
       "      <td>0.009202</td>\n",
       "      <td>0.641104</td>\n",
       "      <td>0.312883</td>\n",
       "      <td>Jul-20-2020</td>\n",
       "    </tr>\n",
       "    <tr>\n",
       "      <th>0</th>\n",
       "      <td>Board of Governors of The Federal Reserve System</td>\n",
       "      <td>3761</td>\n",
       "      <td>3948</td>\n",
       "      <td>3998</td>\n",
       "      <td>3956</td>\n",
       "      <td>403</td>\n",
       "      <td>1167</td>\n",
       "      <td>2378</td>\n",
       "      <td>461</td>\n",
       "      <td>2378</td>\n",
       "      <td>0</td>\n",
       "      <td>1159</td>\n",
       "      <td>568</td>\n",
       "      <td>37</td>\n",
       "      <td>2386</td>\n",
       "      <td>965</td>\n",
       "      <td>0.102077</td>\n",
       "      <td>0.295593</td>\n",
       "      <td>0.602330</td>\n",
       "      <td>0.115308</td>\n",
       "      <td>0.594797</td>\n",
       "      <td>0.0</td>\n",
       "      <td>0.289895</td>\n",
       "      <td>0.143579</td>\n",
       "      <td>0.009353</td>\n",
       "      <td>0.603134</td>\n",
       "      <td>0.243933</td>\n",
       "      <td>Jul-20-2020</td>\n",
       "    </tr>\n",
       "    <tr>\n",
       "      <th>0</th>\n",
       "      <td>The Community Preservation Corporation</td>\n",
       "      <td>6632</td>\n",
       "      <td>7017</td>\n",
       "      <td>7381</td>\n",
       "      <td>6939</td>\n",
       "      <td>4804</td>\n",
       "      <td>1142</td>\n",
       "      <td>1071</td>\n",
       "      <td>1600</td>\n",
       "      <td>1071</td>\n",
       "      <td>0</td>\n",
       "      <td>4710</td>\n",
       "      <td>736</td>\n",
       "      <td>3</td>\n",
       "      <td>1172</td>\n",
       "      <td>5028</td>\n",
       "      <td>0.684623</td>\n",
       "      <td>0.162748</td>\n",
       "      <td>0.152629</td>\n",
       "      <td>0.216773</td>\n",
       "      <td>0.145102</td>\n",
       "      <td>0.0</td>\n",
       "      <td>0.638125</td>\n",
       "      <td>0.106067</td>\n",
       "      <td>0.000432</td>\n",
       "      <td>0.168900</td>\n",
       "      <td>0.724600</td>\n",
       "      <td>Jul-20-2020</td>\n",
       "    </tr>\n",
       "    <tr>\n",
       "      <th>0</th>\n",
       "      <td>Valley National Bancorp</td>\n",
       "      <td>53758</td>\n",
       "      <td>55099</td>\n",
       "      <td>56080</td>\n",
       "      <td>55079</td>\n",
       "      <td>10293</td>\n",
       "      <td>26949</td>\n",
       "      <td>17857</td>\n",
       "      <td>11626</td>\n",
       "      <td>17857</td>\n",
       "      <td>0</td>\n",
       "      <td>26597</td>\n",
       "      <td>5212</td>\n",
       "      <td>1020</td>\n",
       "      <td>17969</td>\n",
       "      <td>30878</td>\n",
       "      <td>0.186809</td>\n",
       "      <td>0.489101</td>\n",
       "      <td>0.324089</td>\n",
       "      <td>0.207311</td>\n",
       "      <td>0.318420</td>\n",
       "      <td>0.0</td>\n",
       "      <td>0.474269</td>\n",
       "      <td>0.094628</td>\n",
       "      <td>0.018519</td>\n",
       "      <td>0.326240</td>\n",
       "      <td>0.560613</td>\n",
       "      <td>Jul-20-2020</td>\n",
       "    </tr>\n",
       "    <tr>\n",
       "      <th>0</th>\n",
       "      <td>Cardinal Health, Inc.</td>\n",
       "      <td>26038</td>\n",
       "      <td>27264</td>\n",
       "      <td>27618</td>\n",
       "      <td>27216</td>\n",
       "      <td>6766</td>\n",
       "      <td>15931</td>\n",
       "      <td>4567</td>\n",
       "      <td>4800</td>\n",
       "      <td>4567</td>\n",
       "      <td>0</td>\n",
       "      <td>18251</td>\n",
       "      <td>4062</td>\n",
       "      <td>1014</td>\n",
       "      <td>4631</td>\n",
       "      <td>17509</td>\n",
       "      <td>0.248166</td>\n",
       "      <td>0.584324</td>\n",
       "      <td>0.167510</td>\n",
       "      <td>0.173800</td>\n",
       "      <td>0.165363</td>\n",
       "      <td>0.0</td>\n",
       "      <td>0.660837</td>\n",
       "      <td>0.149250</td>\n",
       "      <td>0.037257</td>\n",
       "      <td>0.170157</td>\n",
       "      <td>0.643335</td>\n",
       "      <td>Jul-20-2020</td>\n",
       "    </tr>\n",
       "    <tr>\n",
       "      <th>0</th>\n",
       "      <td>ACCUTRAC CAPITAL SOLUTIONS</td>\n",
       "      <td>226</td>\n",
       "      <td>239</td>\n",
       "      <td>253</td>\n",
       "      <td>243</td>\n",
       "      <td>1</td>\n",
       "      <td>146</td>\n",
       "      <td>92</td>\n",
       "      <td>86</td>\n",
       "      <td>92</td>\n",
       "      <td>0</td>\n",
       "      <td>75</td>\n",
       "      <td>43</td>\n",
       "      <td>21</td>\n",
       "      <td>92</td>\n",
       "      <td>87</td>\n",
       "      <td>0.004184</td>\n",
       "      <td>0.610879</td>\n",
       "      <td>0.384937</td>\n",
       "      <td>0.339921</td>\n",
       "      <td>0.363636</td>\n",
       "      <td>0.0</td>\n",
       "      <td>0.296443</td>\n",
       "      <td>0.176955</td>\n",
       "      <td>0.086420</td>\n",
       "      <td>0.378601</td>\n",
       "      <td>0.358025</td>\n",
       "      <td>Jul-20-2020</td>\n",
       "    </tr>\n",
       "    <tr>\n",
       "      <th>0</th>\n",
       "      <td>Isuzu Motors Limited</td>\n",
       "      <td>17364</td>\n",
       "      <td>17484</td>\n",
       "      <td>17508</td>\n",
       "      <td>17477</td>\n",
       "      <td>2380</td>\n",
       "      <td>12966</td>\n",
       "      <td>2138</td>\n",
       "      <td>1801</td>\n",
       "      <td>2138</td>\n",
       "      <td>0</td>\n",
       "      <td>13569</td>\n",
       "      <td>1724</td>\n",
       "      <td>468</td>\n",
       "      <td>2167</td>\n",
       "      <td>13118</td>\n",
       "      <td>0.136124</td>\n",
       "      <td>0.741592</td>\n",
       "      <td>0.122283</td>\n",
       "      <td>0.102867</td>\n",
       "      <td>0.122116</td>\n",
       "      <td>0.0</td>\n",
       "      <td>0.775017</td>\n",
       "      <td>0.098644</td>\n",
       "      <td>0.026778</td>\n",
       "      <td>0.123992</td>\n",
       "      <td>0.750586</td>\n",
       "      <td>Jul-20-2020</td>\n",
       "    </tr>\n",
       "    <tr>\n",
       "      <th>0</th>\n",
       "      <td>Ltc Global, Inc.</td>\n",
       "      <td>30</td>\n",
       "      <td>30</td>\n",
       "      <td>30</td>\n",
       "      <td>30</td>\n",
       "      <td>2</td>\n",
       "      <td>24</td>\n",
       "      <td>4</td>\n",
       "      <td>7</td>\n",
       "      <td>4</td>\n",
       "      <td>0</td>\n",
       "      <td>19</td>\n",
       "      <td>1</td>\n",
       "      <td>2</td>\n",
       "      <td>6</td>\n",
       "      <td>21</td>\n",
       "      <td>0.066667</td>\n",
       "      <td>0.800000</td>\n",
       "      <td>0.133333</td>\n",
       "      <td>0.233333</td>\n",
       "      <td>0.133333</td>\n",
       "      <td>0.0</td>\n",
       "      <td>0.633333</td>\n",
       "      <td>0.033333</td>\n",
       "      <td>0.066667</td>\n",
       "      <td>0.200000</td>\n",
       "      <td>0.700000</td>\n",
       "      <td>Jul-20-2020</td>\n",
       "    </tr>\n",
       "    <tr>\n",
       "      <th>0</th>\n",
       "      <td>Merrimak Capital Company LLC</td>\n",
       "      <td>923</td>\n",
       "      <td>951</td>\n",
       "      <td>961</td>\n",
       "      <td>946</td>\n",
       "      <td>445</td>\n",
       "      <td>259</td>\n",
       "      <td>247</td>\n",
       "      <td>354</td>\n",
       "      <td>247</td>\n",
       "      <td>0</td>\n",
       "      <td>360</td>\n",
       "      <td>64</td>\n",
       "      <td>10</td>\n",
       "      <td>286</td>\n",
       "      <td>586</td>\n",
       "      <td>0.467928</td>\n",
       "      <td>0.272345</td>\n",
       "      <td>0.259727</td>\n",
       "      <td>0.368366</td>\n",
       "      <td>0.257024</td>\n",
       "      <td>0.0</td>\n",
       "      <td>0.374610</td>\n",
       "      <td>0.067653</td>\n",
       "      <td>0.010571</td>\n",
       "      <td>0.302326</td>\n",
       "      <td>0.619450</td>\n",
       "      <td>Jul-20-2020</td>\n",
       "    </tr>\n",
       "    <tr>\n",
       "      <th>0</th>\n",
       "      <td>Power Corporation du Canada</td>\n",
       "      <td>1489</td>\n",
       "      <td>1540</td>\n",
       "      <td>1558</td>\n",
       "      <td>1540</td>\n",
       "      <td>142</td>\n",
       "      <td>530</td>\n",
       "      <td>868</td>\n",
       "      <td>228</td>\n",
       "      <td>868</td>\n",
       "      <td>0</td>\n",
       "      <td>462</td>\n",
       "      <td>150</td>\n",
       "      <td>30</td>\n",
       "      <td>878</td>\n",
       "      <td>482</td>\n",
       "      <td>0.092208</td>\n",
       "      <td>0.344156</td>\n",
       "      <td>0.563636</td>\n",
       "      <td>0.146341</td>\n",
       "      <td>0.557125</td>\n",
       "      <td>0.0</td>\n",
       "      <td>0.296534</td>\n",
       "      <td>0.097403</td>\n",
       "      <td>0.019481</td>\n",
       "      <td>0.570130</td>\n",
       "      <td>0.312987</td>\n",
       "      <td>Jul-20-2020</td>\n",
       "    </tr>\n",
       "    <tr>\n",
       "      <th>0</th>\n",
       "      <td>Snap Home Finance Corp</td>\n",
       "      <td>4</td>\n",
       "      <td>4</td>\n",
       "      <td>4</td>\n",
       "      <td>4</td>\n",
       "      <td>0</td>\n",
       "      <td>0</td>\n",
       "      <td>4</td>\n",
       "      <td>0</td>\n",
       "      <td>4</td>\n",
       "      <td>0</td>\n",
       "      <td>0</td>\n",
       "      <td>0</td>\n",
       "      <td>0</td>\n",
       "      <td>4</td>\n",
       "      <td>0</td>\n",
       "      <td>0.000000</td>\n",
       "      <td>0.000000</td>\n",
       "      <td>1.000000</td>\n",
       "      <td>0.000000</td>\n",
       "      <td>1.000000</td>\n",
       "      <td>0.0</td>\n",
       "      <td>0.000000</td>\n",
       "      <td>0.000000</td>\n",
       "      <td>0.000000</td>\n",
       "      <td>1.000000</td>\n",
       "      <td>0.000000</td>\n",
       "      <td>Jul-20-2020</td>\n",
       "    </tr>\n",
       "  </tbody>\n",
       "</table>\n",
       "</div>"
      ],
      "text/plain": [
       "                                      Prospect Name  \\\n",
       "0                       United National Corporation   \n",
       "0                               D. L. Evans Bancorp   \n",
       "0                       Mercantile Bank Corporation   \n",
       "0                  New York Community Bancorp, Inc.   \n",
       "0                                  AGCO Corporation   \n",
       "0                         Medallion Financial Corp.   \n",
       "0                  Family Security Credit Union Inc   \n",
       "0                       United Midwest Savings Bank   \n",
       "0                           Lake Trust Credit Union   \n",
       "0                           Technology Credit Union   \n",
       "0  Board of Governors of The Federal Reserve System   \n",
       "0            The Community Preservation Corporation   \n",
       "0                           Valley National Bancorp   \n",
       "0                             Cardinal Health, Inc.   \n",
       "0                        ACCUTRAC CAPITAL SOLUTIONS   \n",
       "0                              Isuzu Motors Limited   \n",
       "0                                  Ltc Global, Inc.   \n",
       "0                      Merrimak Capital Company LLC   \n",
       "0                       Power Corporation du Canada   \n",
       "0                            Snap Home Finance Corp   \n",
       "\n",
       "  Filing Sets Count (for Business Liens) JMM total DNMM total  \\\n",
       "0                                   1159      1195       1203   \n",
       "0                                   5822      5921       6015   \n",
       "0                                   4526      4578       4622   \n",
       "0                                  35989     37322      38639   \n",
       "0                                  34325     34720      34986   \n",
       "0                                  14341     14872      15076   \n",
       "0                                     33        33         33   \n",
       "0                                   2351      2436       2460   \n",
       "0                                    228       229        231   \n",
       "0                                    314       325        330   \n",
       "0                                   3761      3948       3998   \n",
       "0                                   6632      7017       7381   \n",
       "0                                  53758     55099      56080   \n",
       "0                                  26038     27264      27618   \n",
       "0                                    226       239        253   \n",
       "0                                  17364     17484      17508   \n",
       "0                                     30        30         30   \n",
       "0                                    923       951        961   \n",
       "0                                   1489      1540       1558   \n",
       "0                                      4         4          4   \n",
       "\n",
       "  Entity Status Total JMM - Need Attention JMM-OK Filings  \\\n",
       "0                1200                   56            937   \n",
       "0                5990                   82           5148   \n",
       "0                4632                   39           4115   \n",
       "0               37209                21416          11428   \n",
       "0               34695                 2489          24358   \n",
       "0               14867                 8534           3346   \n",
       "0                  33                    0              1   \n",
       "0                2407                  246           1923   \n",
       "0                 231                    0            215   \n",
       "0                 326                    2            114   \n",
       "0                3956                  403           1167   \n",
       "0                6939                 4804           1142   \n",
       "0               55079                10293          26949   \n",
       "0               27216                 6766          15931   \n",
       "0                 243                    1            146   \n",
       "0               17477                 2380          12966   \n",
       "0                  30                    2             24   \n",
       "0                 946                  445            259   \n",
       "0                1540                  142            530   \n",
       "0                   4                    0              0   \n",
       "\n",
       "  JMM-Unresolved Filings DNMM - Need Attention DNMM - No Match  \\\n",
       "0                    202                   619             202   \n",
       "0                    691                   881             691   \n",
       "0                    424                  3406             424   \n",
       "0                   4478                  7207            4478   \n",
       "0                   7873                  6350            7873   \n",
       "0                   2992                  3750            2992   \n",
       "0                     32                     1              32   \n",
       "0                    267                   247             267   \n",
       "0                     14                   152              14   \n",
       "0                    209                    33             209   \n",
       "0                   2378                   461            2378   \n",
       "0                   1071                  1600            1071   \n",
       "0                  17857                 11626           17857   \n",
       "0                   4567                  4800            4567   \n",
       "0                     92                    86              92   \n",
       "0                   2138                  1801            2138   \n",
       "0                      4                     7               4   \n",
       "0                    247                   354             247   \n",
       "0                    868                   228             868   \n",
       "0                      4                     0               4   \n",
       "\n",
       "  DNMM - Unresolved DNMM - OK Filings  \\\n",
       "0                 0               382   \n",
       "0                 0              4443   \n",
       "0                 0               792   \n",
       "0                 0             26954   \n",
       "0                 0             20763   \n",
       "0                 0              8334   \n",
       "0                 0                 0   \n",
       "0                 0              1946   \n",
       "0                 0                65   \n",
       "0                 0                88   \n",
       "0                 0              1159   \n",
       "0                 0              4710   \n",
       "0                 0             26597   \n",
       "0                 0             18251   \n",
       "0                 0                75   \n",
       "0                 0             13569   \n",
       "0                 0                19   \n",
       "0                 0               360   \n",
       "0                 0               462   \n",
       "0                 0                 0   \n",
       "\n",
       "  Entity Status - Entities that need attention  \\\n",
       "0                                           79   \n",
       "0                                         1042   \n",
       "0                                          571   \n",
       "0                                         2929   \n",
       "0                                         2814   \n",
       "0                                         3083   \n",
       "0                                            0   \n",
       "0                                          168   \n",
       "0                                           10   \n",
       "0                                           12   \n",
       "0                                          568   \n",
       "0                                          736   \n",
       "0                                         5212   \n",
       "0                                         4062   \n",
       "0                                           43   \n",
       "0                                         1724   \n",
       "0                                            1   \n",
       "0                                           64   \n",
       "0                                          150   \n",
       "0                                            0   \n",
       "\n",
       "  Entity Status - Entities dissolved Entity Status - Unresolved  \\\n",
       "0                                 73                        202   \n",
       "0                                247                        691   \n",
       "0                                 10                        430   \n",
       "0                                 11                       4789   \n",
       "0                                737                       7893   \n",
       "0                                727                       3024   \n",
       "0                                  0                         32   \n",
       "0                                 32                        271   \n",
       "0                                  1                         14   \n",
       "0                                  3                        209   \n",
       "0                                 37                       2386   \n",
       "0                                  3                       1172   \n",
       "0                               1020                      17969   \n",
       "0                               1014                       4631   \n",
       "0                                 21                         92   \n",
       "0                                468                       2167   \n",
       "0                                  2                          6   \n",
       "0                                 10                        286   \n",
       "0                                 30                        878   \n",
       "0                                  0                          4   \n",
       "\n",
       "  Entity Status - Active  JMM - Need Attention%  JMM-OK Filings%  \\\n",
       "0                    846               0.046862         0.784100   \n",
       "0                   4010               0.013849         0.869448   \n",
       "0                   3621               0.008519         0.898864   \n",
       "0                  29480               0.573817         0.306200   \n",
       "0                  23251               0.071688         0.701555   \n",
       "0                   8033               0.573830         0.224987   \n",
       "0                      1               0.000000         0.030303   \n",
       "0                   1936               0.100985         0.789409   \n",
       "0                    206               0.000000         0.938865   \n",
       "0                    102               0.006154         0.350769   \n",
       "0                    965               0.102077         0.295593   \n",
       "0                   5028               0.684623         0.162748   \n",
       "0                  30878               0.186809         0.489101   \n",
       "0                  17509               0.248166         0.584324   \n",
       "0                     87               0.004184         0.610879   \n",
       "0                  13118               0.136124         0.741592   \n",
       "0                     21               0.066667         0.800000   \n",
       "0                    586               0.467928         0.272345   \n",
       "0                    482               0.092208         0.344156   \n",
       "0                      0               0.000000         0.000000   \n",
       "\n",
       "   JMM-Unresolved Filings%  DNMM - Need Attention%  DNMM - No Match%  \\\n",
       "0                 0.169038                0.514547          0.167914   \n",
       "0                 0.116703                0.146467          0.114879   \n",
       "0                 0.092617                0.736910          0.091735   \n",
       "0                 0.119983                0.186521          0.115893   \n",
       "0                 0.226757                0.181501          0.225033   \n",
       "0                 0.201183                0.248740          0.198461   \n",
       "0                 0.969697                0.030303          0.969697   \n",
       "0                 0.109606                0.100407          0.108537   \n",
       "0                 0.061135                0.658009          0.060606   \n",
       "0                 0.643077                0.100000          0.633333   \n",
       "0                 0.602330                0.115308          0.594797   \n",
       "0                 0.152629                0.216773          0.145102   \n",
       "0                 0.324089                0.207311          0.318420   \n",
       "0                 0.167510                0.173800          0.165363   \n",
       "0                 0.384937                0.339921          0.363636   \n",
       "0                 0.122283                0.102867          0.122116   \n",
       "0                 0.133333                0.233333          0.133333   \n",
       "0                 0.259727                0.368366          0.257024   \n",
       "0                 0.563636                0.146341          0.557125   \n",
       "0                 1.000000                0.000000          1.000000   \n",
       "\n",
       "   DNMM - Unresolved%  DNMM - OK Filings%  \\\n",
       "0                 0.0            0.317539   \n",
       "0                 0.0            0.738653   \n",
       "0                 0.0            0.171354   \n",
       "0                 0.0            0.697585   \n",
       "0                 0.0            0.593466   \n",
       "0                 0.0            0.552799   \n",
       "0                 0.0            0.000000   \n",
       "0                 0.0            0.791057   \n",
       "0                 0.0            0.281385   \n",
       "0                 0.0            0.266667   \n",
       "0                 0.0            0.289895   \n",
       "0                 0.0            0.638125   \n",
       "0                 0.0            0.474269   \n",
       "0                 0.0            0.660837   \n",
       "0                 0.0            0.296443   \n",
       "0                 0.0            0.775017   \n",
       "0                 0.0            0.633333   \n",
       "0                 0.0            0.374610   \n",
       "0                 0.0            0.296534   \n",
       "0                 0.0            0.000000   \n",
       "\n",
       "   Entity Status - Entities that need attention%  \\\n",
       "0                                       0.065833   \n",
       "0                                       0.173957   \n",
       "0                                       0.123273   \n",
       "0                                       0.078718   \n",
       "0                                       0.081107   \n",
       "0                                       0.207372   \n",
       "0                                       0.000000   \n",
       "0                                       0.069796   \n",
       "0                                       0.043290   \n",
       "0                                       0.036810   \n",
       "0                                       0.143579   \n",
       "0                                       0.106067   \n",
       "0                                       0.094628   \n",
       "0                                       0.149250   \n",
       "0                                       0.176955   \n",
       "0                                       0.098644   \n",
       "0                                       0.033333   \n",
       "0                                       0.067653   \n",
       "0                                       0.097403   \n",
       "0                                       0.000000   \n",
       "\n",
       "   Entity Status - Entities dissolved%  Entity Status - Unresolved%  \\\n",
       "0                             0.060833                     0.168333   \n",
       "0                             0.041235                     0.115359   \n",
       "0                             0.002159                     0.092832   \n",
       "0                             0.000296                     0.128705   \n",
       "0                             0.021242                     0.227497   \n",
       "0                             0.048900                     0.203404   \n",
       "0                             0.000000                     0.969697   \n",
       "0                             0.013295                     0.112588   \n",
       "0                             0.004329                     0.060606   \n",
       "0                             0.009202                     0.641104   \n",
       "0                             0.009353                     0.603134   \n",
       "0                             0.000432                     0.168900   \n",
       "0                             0.018519                     0.326240   \n",
       "0                             0.037257                     0.170157   \n",
       "0                             0.086420                     0.378601   \n",
       "0                             0.026778                     0.123992   \n",
       "0                             0.066667                     0.200000   \n",
       "0                             0.010571                     0.302326   \n",
       "0                             0.019481                     0.570130   \n",
       "0                             0.000000                     1.000000   \n",
       "\n",
       "   Entity Status - Active% Date_Processed  \n",
       "0                 0.705000    Jul-20-2020  \n",
       "0                 0.669449    Jul-20-2020  \n",
       "0                 0.781736    Jul-20-2020  \n",
       "0                 0.792281    Jul-20-2020  \n",
       "0                 0.670154    Jul-20-2020  \n",
       "0                 0.540324    Jul-20-2020  \n",
       "0                 0.030303    Jul-20-2020  \n",
       "0                 0.804321    Jul-20-2020  \n",
       "0                 0.891775    Jul-20-2020  \n",
       "0                 0.312883    Jul-20-2020  \n",
       "0                 0.243933    Jul-20-2020  \n",
       "0                 0.724600    Jul-20-2020  \n",
       "0                 0.560613    Jul-20-2020  \n",
       "0                 0.643335    Jul-20-2020  \n",
       "0                 0.358025    Jul-20-2020  \n",
       "0                 0.750586    Jul-20-2020  \n",
       "0                 0.700000    Jul-20-2020  \n",
       "0                 0.619450    Jul-20-2020  \n",
       "0                 0.312987    Jul-20-2020  \n",
       "0                 0.000000    Jul-20-2020  "
      ]
     },
     "execution_count": 51,
     "metadata": {},
     "output_type": "execute_result"
    }
   ],
   "source": [
    "final_df"
   ]
  },
  {
   "cell_type": "code",
   "execution_count": 52,
   "metadata": {
    "ExecuteTime": {
     "end_time": "2020-07-06T09:35:52.803772Z",
     "start_time": "2020-07-06T09:35:51.899691Z"
    },
    "scrolled": false
   },
   "outputs": [
    {
     "data": {
      "text/plain": [
       "((120386, 32), (715, 30))"
      ]
     },
     "execution_count": 52,
     "metadata": {},
     "output_type": "execute_result"
    }
   ],
   "source": [
    "df_sumbysf= pd.read_csv('../input/SumBYSF_base.csv')\n",
    "df_examples = pd.read_csv('../input/Examples_base.csv')\n",
    "#df_sumbysf['Date_Processed'] = datetime.datetime(2020, 5, 25)\n",
    "df_examples.shape , df_sumbysf.shape"
   ]
  },
  {
   "cell_type": "code",
   "execution_count": 55,
   "metadata": {
    "ExecuteTime": {
     "end_time": "2020-07-06T09:35:53.698476Z",
     "start_time": "2020-07-06T09:35:53.695479Z"
    },
    "scrolled": false
   },
   "outputs": [
    {
     "data": {
      "text/html": [
       "<div>\n",
       "<style scoped>\n",
       "    .dataframe tbody tr th:only-of-type {\n",
       "        vertical-align: middle;\n",
       "    }\n",
       "\n",
       "    .dataframe tbody tr th {\n",
       "        vertical-align: top;\n",
       "    }\n",
       "\n",
       "    .dataframe thead th {\n",
       "        text-align: right;\n",
       "    }\n",
       "</style>\n",
       "<table border=\"1\" class=\"dataframe\">\n",
       "  <thead>\n",
       "    <tr style=\"text-align: right;\">\n",
       "      <th></th>\n",
       "      <th>Prospect Name</th>\n",
       "      <th>Selected?</th>\n",
       "      <th>Rep Assigned</th>\n",
       "      <th>Filing Sets Count (for Business Liens)</th>\n",
       "      <th>JMM total</th>\n",
       "      <th>DNMM total</th>\n",
       "      <th>Entity Status Total</th>\n",
       "      <th>JMM - Need Attention</th>\n",
       "      <th>JMM-OK Filings</th>\n",
       "      <th>JMM-Unresolved Filings</th>\n",
       "      <th>DNMM - Need Attention</th>\n",
       "      <th>DNMM - No Match</th>\n",
       "      <th>DNMM - Unresolved</th>\n",
       "      <th>DNMM - OK Filings</th>\n",
       "      <th>Entity Status - Entities that need attention</th>\n",
       "      <th>Entity Status - Entities dissolved</th>\n",
       "      <th>Entity Status - Unresolved</th>\n",
       "      <th>Entity Status - Active</th>\n",
       "      <th>JMM - Need Attention%</th>\n",
       "      <th>JMM-OK Filings%</th>\n",
       "      <th>JMM-Unresolved Filings%</th>\n",
       "      <th>DNMM - Need Attention%</th>\n",
       "      <th>DNMM - No Match%</th>\n",
       "      <th>DNMM - Unresolved%</th>\n",
       "      <th>DNMM - OK Filings%</th>\n",
       "      <th>Entity Status - Entities that need attention%</th>\n",
       "      <th>Entity Status - Entities dissolved%</th>\n",
       "      <th>Entity Status - Unresolved%</th>\n",
       "      <th>Entity Status - Active%</th>\n",
       "      <th>Date_Processed</th>\n",
       "    </tr>\n",
       "  </thead>\n",
       "  <tbody>\n",
       "    <tr>\n",
       "      <th>0</th>\n",
       "      <td>Banco Santander SA</td>\n",
       "      <td>0.0</td>\n",
       "      <td>Leo Ayala</td>\n",
       "      <td>86649</td>\n",
       "      <td>91869</td>\n",
       "      <td>95065</td>\n",
       "      <td>92103</td>\n",
       "      <td>18826</td>\n",
       "      <td>41372</td>\n",
       "      <td>31671</td>\n",
       "      <td>22901</td>\n",
       "      <td>31671</td>\n",
       "      <td>0</td>\n",
       "      <td>40493</td>\n",
       "      <td>8199</td>\n",
       "      <td>9435</td>\n",
       "      <td>32089</td>\n",
       "      <td>42380</td>\n",
       "      <td>0.204922</td>\n",
       "      <td>0.450337</td>\n",
       "      <td>0.344741</td>\n",
       "      <td>0.240898</td>\n",
       "      <td>0.333151</td>\n",
       "      <td>0.0</td>\n",
       "      <td>0.425951</td>\n",
       "      <td>0.089020</td>\n",
       "      <td>0.102440</td>\n",
       "      <td>0.348403</td>\n",
       "      <td>0.460137</td>\n",
       "      <td>5/25/2020</td>\n",
       "    </tr>\n",
       "    <tr>\n",
       "      <th>1</th>\n",
       "      <td>Security Signal Devices, Inc.</td>\n",
       "      <td>0.0</td>\n",
       "      <td>Christina Villa</td>\n",
       "      <td>3462</td>\n",
       "      <td>3513</td>\n",
       "      <td>3517</td>\n",
       "      <td>3517</td>\n",
       "      <td>116</td>\n",
       "      <td>1165</td>\n",
       "      <td>2232</td>\n",
       "      <td>880</td>\n",
       "      <td>2232</td>\n",
       "      <td>0</td>\n",
       "      <td>405</td>\n",
       "      <td>287</td>\n",
       "      <td>148</td>\n",
       "      <td>2234</td>\n",
       "      <td>848</td>\n",
       "      <td>0.033020</td>\n",
       "      <td>0.331625</td>\n",
       "      <td>0.635354</td>\n",
       "      <td>0.250213</td>\n",
       "      <td>0.634632</td>\n",
       "      <td>0.0</td>\n",
       "      <td>0.115155</td>\n",
       "      <td>0.081604</td>\n",
       "      <td>0.042081</td>\n",
       "      <td>0.635200</td>\n",
       "      <td>0.241115</td>\n",
       "      <td>5/25/2020</td>\n",
       "    </tr>\n",
       "    <tr>\n",
       "      <th>2</th>\n",
       "      <td>Union Bank and Trust Company</td>\n",
       "      <td>0.0</td>\n",
       "      <td>Jacob Broussard</td>\n",
       "      <td>6491</td>\n",
       "      <td>6956</td>\n",
       "      <td>7044</td>\n",
       "      <td>6946</td>\n",
       "      <td>1729</td>\n",
       "      <td>3451</td>\n",
       "      <td>1776</td>\n",
       "      <td>1477</td>\n",
       "      <td>1776</td>\n",
       "      <td>0</td>\n",
       "      <td>3791</td>\n",
       "      <td>1124</td>\n",
       "      <td>32</td>\n",
       "      <td>1781</td>\n",
       "      <td>4009</td>\n",
       "      <td>0.248562</td>\n",
       "      <td>0.496118</td>\n",
       "      <td>0.255319</td>\n",
       "      <td>0.209682</td>\n",
       "      <td>0.252129</td>\n",
       "      <td>0.0</td>\n",
       "      <td>0.538189</td>\n",
       "      <td>0.161820</td>\n",
       "      <td>0.004607</td>\n",
       "      <td>0.256407</td>\n",
       "      <td>0.577167</td>\n",
       "      <td>5/25/2020</td>\n",
       "    </tr>\n",
       "    <tr>\n",
       "      <th>3</th>\n",
       "      <td>SEVEN &amp; I HOLDINGS CO., LTD.</td>\n",
       "      <td>0.0</td>\n",
       "      <td>Monica Butz</td>\n",
       "      <td>5885</td>\n",
       "      <td>5932</td>\n",
       "      <td>5937</td>\n",
       "      <td>5934</td>\n",
       "      <td>313</td>\n",
       "      <td>4653</td>\n",
       "      <td>966</td>\n",
       "      <td>1067</td>\n",
       "      <td>966</td>\n",
       "      <td>0</td>\n",
       "      <td>3904</td>\n",
       "      <td>559</td>\n",
       "      <td>306</td>\n",
       "      <td>968</td>\n",
       "      <td>4101</td>\n",
       "      <td>0.052765</td>\n",
       "      <td>0.784390</td>\n",
       "      <td>0.162846</td>\n",
       "      <td>0.179720</td>\n",
       "      <td>0.162708</td>\n",
       "      <td>0.0</td>\n",
       "      <td>0.657571</td>\n",
       "      <td>0.094203</td>\n",
       "      <td>0.051567</td>\n",
       "      <td>0.163128</td>\n",
       "      <td>0.691102</td>\n",
       "      <td>5/25/2020</td>\n",
       "    </tr>\n",
       "    <tr>\n",
       "      <th>4</th>\n",
       "      <td>Limestone Bancorp, Inc.</td>\n",
       "      <td>0.0</td>\n",
       "      <td>Sharon Wilhoite</td>\n",
       "      <td>1187</td>\n",
       "      <td>1207</td>\n",
       "      <td>1234</td>\n",
       "      <td>1218</td>\n",
       "      <td>52</td>\n",
       "      <td>985</td>\n",
       "      <td>170</td>\n",
       "      <td>339</td>\n",
       "      <td>170</td>\n",
       "      <td>0</td>\n",
       "      <td>725</td>\n",
       "      <td>392</td>\n",
       "      <td>6</td>\n",
       "      <td>170</td>\n",
       "      <td>650</td>\n",
       "      <td>0.043082</td>\n",
       "      <td>0.816073</td>\n",
       "      <td>0.140845</td>\n",
       "      <td>0.274716</td>\n",
       "      <td>0.137763</td>\n",
       "      <td>0.0</td>\n",
       "      <td>0.587520</td>\n",
       "      <td>0.321839</td>\n",
       "      <td>0.004926</td>\n",
       "      <td>0.139573</td>\n",
       "      <td>0.533662</td>\n",
       "      <td>5/25/2020</td>\n",
       "    </tr>\n",
       "  </tbody>\n",
       "</table>\n",
       "</div>"
      ],
      "text/plain": [
       "                   Prospect Name  Selected?     Rep Assigned  \\\n",
       "0             Banco Santander SA        0.0        Leo Ayala   \n",
       "1  Security Signal Devices, Inc.        0.0  Christina Villa   \n",
       "2   Union Bank and Trust Company        0.0  Jacob Broussard   \n",
       "3   SEVEN & I HOLDINGS CO., LTD.        0.0      Monica Butz   \n",
       "4        Limestone Bancorp, Inc.        0.0  Sharon Wilhoite   \n",
       "\n",
       "   Filing Sets Count (for Business Liens)  JMM total  DNMM total  \\\n",
       "0                                   86649      91869       95065   \n",
       "1                                    3462       3513        3517   \n",
       "2                                    6491       6956        7044   \n",
       "3                                    5885       5932        5937   \n",
       "4                                    1187       1207        1234   \n",
       "\n",
       "   Entity Status Total  JMM - Need Attention  JMM-OK Filings  \\\n",
       "0                92103                 18826           41372   \n",
       "1                 3517                   116            1165   \n",
       "2                 6946                  1729            3451   \n",
       "3                 5934                   313            4653   \n",
       "4                 1218                    52             985   \n",
       "\n",
       "   JMM-Unresolved Filings  DNMM - Need Attention  DNMM - No Match  \\\n",
       "0                   31671                  22901            31671   \n",
       "1                    2232                    880             2232   \n",
       "2                    1776                   1477             1776   \n",
       "3                     966                   1067              966   \n",
       "4                     170                    339              170   \n",
       "\n",
       "   DNMM - Unresolved  DNMM - OK Filings  \\\n",
       "0                  0              40493   \n",
       "1                  0                405   \n",
       "2                  0               3791   \n",
       "3                  0               3904   \n",
       "4                  0                725   \n",
       "\n",
       "   Entity Status - Entities that need attention  \\\n",
       "0                                          8199   \n",
       "1                                           287   \n",
       "2                                          1124   \n",
       "3                                           559   \n",
       "4                                           392   \n",
       "\n",
       "   Entity Status - Entities dissolved  Entity Status - Unresolved  \\\n",
       "0                                9435                       32089   \n",
       "1                                 148                        2234   \n",
       "2                                  32                        1781   \n",
       "3                                 306                         968   \n",
       "4                                   6                         170   \n",
       "\n",
       "   Entity Status - Active  JMM - Need Attention%  JMM-OK Filings%  \\\n",
       "0                   42380               0.204922         0.450337   \n",
       "1                     848               0.033020         0.331625   \n",
       "2                    4009               0.248562         0.496118   \n",
       "3                    4101               0.052765         0.784390   \n",
       "4                     650               0.043082         0.816073   \n",
       "\n",
       "   JMM-Unresolved Filings%  DNMM - Need Attention%  DNMM - No Match%  \\\n",
       "0                 0.344741                0.240898          0.333151   \n",
       "1                 0.635354                0.250213          0.634632   \n",
       "2                 0.255319                0.209682          0.252129   \n",
       "3                 0.162846                0.179720          0.162708   \n",
       "4                 0.140845                0.274716          0.137763   \n",
       "\n",
       "   DNMM - Unresolved%  DNMM - OK Filings%  \\\n",
       "0                 0.0            0.425951   \n",
       "1                 0.0            0.115155   \n",
       "2                 0.0            0.538189   \n",
       "3                 0.0            0.657571   \n",
       "4                 0.0            0.587520   \n",
       "\n",
       "   Entity Status - Entities that need attention%  \\\n",
       "0                                       0.089020   \n",
       "1                                       0.081604   \n",
       "2                                       0.161820   \n",
       "3                                       0.094203   \n",
       "4                                       0.321839   \n",
       "\n",
       "   Entity Status - Entities dissolved%  Entity Status - Unresolved%  \\\n",
       "0                             0.102440                     0.348403   \n",
       "1                             0.042081                     0.635200   \n",
       "2                             0.004607                     0.256407   \n",
       "3                             0.051567                     0.163128   \n",
       "4                             0.004926                     0.139573   \n",
       "\n",
       "   Entity Status - Active% Date_Processed  \n",
       "0                 0.460137      5/25/2020  \n",
       "1                 0.241115      5/25/2020  \n",
       "2                 0.577167      5/25/2020  \n",
       "3                 0.691102      5/25/2020  \n",
       "4                 0.533662      5/25/2020  "
      ]
     },
     "execution_count": 55,
     "metadata": {},
     "output_type": "execute_result"
    }
   ],
   "source": [
    "df_sumbysf.head()"
   ]
  },
  {
   "cell_type": "code",
   "execution_count": 56,
   "metadata": {
    "ExecuteTime": {
     "end_time": "2020-07-06T09:35:53.698476Z",
     "start_time": "2020-07-06T09:35:53.695479Z"
    },
    "scrolled": false
   },
   "outputs": [
    {
     "data": {
      "text/html": [
       "<div>\n",
       "<style scoped>\n",
       "    .dataframe tbody tr th:only-of-type {\n",
       "        vertical-align: middle;\n",
       "    }\n",
       "\n",
       "    .dataframe tbody tr th {\n",
       "        vertical-align: top;\n",
       "    }\n",
       "\n",
       "    .dataframe thead th {\n",
       "        text-align: right;\n",
       "    }\n",
       "</style>\n",
       "<table border=\"1\" class=\"dataframe\">\n",
       "  <thead>\n",
       "    <tr style=\"text-align: right;\">\n",
       "      <th></th>\n",
       "      <th>Prospect Name</th>\n",
       "      <th>PROSPECT_ID</th>\n",
       "      <th>FILING_ID</th>\n",
       "      <th>SEC_PARTY_CMN_NM</th>\n",
       "      <th>UCC_FILING_STATE_CD</th>\n",
       "      <th>FILING_NUM</th>\n",
       "      <th>FILING_DT_TM</th>\n",
       "      <th>DEBTOR_CMN_NM</th>\n",
       "      <th>UCC_PERM_ID</th>\n",
       "      <th>MATCH_TYPE</th>\n",
       "      <th>NM_MATCH_FLG</th>\n",
       "      <th>DNMM_CATEGORY</th>\n",
       "      <th>CHT_PERM_ID</th>\n",
       "      <th>BE_ID</th>\n",
       "      <th>CORP_NUM</th>\n",
       "      <th>CHT_FILING_STATE_CD</th>\n",
       "      <th>INCORPORATION_STATE_CD</th>\n",
       "      <th>BE_NM</th>\n",
       "      <th>STD_BUS_NM_TYPE_CD</th>\n",
       "      <th>JMM_CATEGORY</th>\n",
       "      <th>SRC_BE_CUR_STS_CD</th>\n",
       "      <th>ENTITY_STAT</th>\n",
       "      <th>ENTITY_STATUS_CATEGORY</th>\n",
       "      <th>ENTITY_STATUS_CATEGORY_ID</th>\n",
       "      <th>SRC_CORP_TYPE_CD</th>\n",
       "      <th>ENTITY_TYPE</th>\n",
       "      <th>DNMM categories 2</th>\n",
       "      <th>Entity status categories 2</th>\n",
       "      <th>Rep assigned</th>\n",
       "      <th>Filing Year</th>\n",
       "      <th>Filing Month</th>\n",
       "      <th>Date_Processed</th>\n",
       "    </tr>\n",
       "  </thead>\n",
       "  <tbody>\n",
       "    <tr>\n",
       "      <th>0</th>\n",
       "      <td>Central Bancompany, Inc.</td>\n",
       "      <td>1006.0</td>\n",
       "      <td>212796282.0</td>\n",
       "      <td>CENTRAL BANK OF ST. LOUIS</td>\n",
       "      <td>MO</td>\n",
       "      <td>1801029814542.0</td>\n",
       "      <td>2018010214:37</td>\n",
       "      <td>KORLISS, LLC</td>\n",
       "      <td>58120280.0</td>\n",
       "      <td>COMP_NM</td>\n",
       "      <td>3.0</td>\n",
       "      <td>MATCH</td>\n",
       "      <td>58120280.0</td>\n",
       "      <td>249513018.0</td>\n",
       "      <td>FL001412038</td>\n",
       "      <td>MO</td>\n",
       "      <td>NV</td>\n",
       "      <td>KORLISS, LLC</td>\n",
       "      <td>3.0</td>\n",
       "      <td>JURISDICTION MISMATCH</td>\n",
       "      <td>A</td>\n",
       "      <td>ACTIVE</td>\n",
       "      <td>ACTIVE</td>\n",
       "      <td>1.0</td>\n",
       "      <td>8.0</td>\n",
       "      <td>LIMITED LIABILITY COMPANY</td>\n",
       "      <td>MATCH</td>\n",
       "      <td>Active</td>\n",
       "      <td>Jacob Broussard</td>\n",
       "      <td>2018.0</td>\n",
       "      <td>1.0</td>\n",
       "      <td>NaN</td>\n",
       "    </tr>\n",
       "    <tr>\n",
       "      <th>1</th>\n",
       "      <td>Central Bancompany, Inc.</td>\n",
       "      <td>1006.0</td>\n",
       "      <td>213073524.0</td>\n",
       "      <td>CENTRAL BANK OF LAKE OF THE OZARKS</td>\n",
       "      <td>MO</td>\n",
       "      <td>20060004815H</td>\n",
       "      <td>2006011212:12</td>\n",
       "      <td>FOLSOM RIDGE, LLC</td>\n",
       "      <td>32722350.0</td>\n",
       "      <td>COMP_NM</td>\n",
       "      <td>3.0</td>\n",
       "      <td>MATCH</td>\n",
       "      <td>32722350.0</td>\n",
       "      <td>249120337.0</td>\n",
       "      <td>FL0019414</td>\n",
       "      <td>MO</td>\n",
       "      <td>CO</td>\n",
       "      <td>FOLSOM RIDGE, LLC</td>\n",
       "      <td>3.0</td>\n",
       "      <td>JURISDICTION MISMATCH</td>\n",
       "      <td>A</td>\n",
       "      <td>ACTIVE</td>\n",
       "      <td>ACTIVE</td>\n",
       "      <td>1.0</td>\n",
       "      <td>8.0</td>\n",
       "      <td>LIMITED LIABILITY COMPANY</td>\n",
       "      <td>MATCH</td>\n",
       "      <td>Active</td>\n",
       "      <td>Jacob Broussard</td>\n",
       "      <td>2006.0</td>\n",
       "      <td>1.0</td>\n",
       "      <td>NaN</td>\n",
       "    </tr>\n",
       "    <tr>\n",
       "      <th>2</th>\n",
       "      <td>Central Bancompany, Inc.</td>\n",
       "      <td>1006.0</td>\n",
       "      <td>212915051.0</td>\n",
       "      <td>CENTRAL BANK OF LAKE OF THE OZARKS</td>\n",
       "      <td>MO</td>\n",
       "      <td>20060004846A</td>\n",
       "      <td>2006011212:25</td>\n",
       "      <td>FOLSOM RIDGE, LLC</td>\n",
       "      <td>32722350.0</td>\n",
       "      <td>COMP_NM</td>\n",
       "      <td>3.0</td>\n",
       "      <td>MATCH</td>\n",
       "      <td>32722350.0</td>\n",
       "      <td>249120337.0</td>\n",
       "      <td>FL0019414</td>\n",
       "      <td>MO</td>\n",
       "      <td>CO</td>\n",
       "      <td>FOLSOM RIDGE, LLC</td>\n",
       "      <td>3.0</td>\n",
       "      <td>JURISDICTION MISMATCH</td>\n",
       "      <td>A</td>\n",
       "      <td>ACTIVE</td>\n",
       "      <td>ACTIVE</td>\n",
       "      <td>1.0</td>\n",
       "      <td>8.0</td>\n",
       "      <td>LIMITED LIABILITY COMPANY</td>\n",
       "      <td>MATCH</td>\n",
       "      <td>Active</td>\n",
       "      <td>Jacob Broussard</td>\n",
       "      <td>2006.0</td>\n",
       "      <td>1.0</td>\n",
       "      <td>NaN</td>\n",
       "    </tr>\n",
       "    <tr>\n",
       "      <th>3</th>\n",
       "      <td>Central Bancompany, Inc.</td>\n",
       "      <td>1006.0</td>\n",
       "      <td>238775664.0</td>\n",
       "      <td>BANK OF JACOMO</td>\n",
       "      <td>FL</td>\n",
       "      <td>200406033429.0</td>\n",
       "      <td>20040130.0</td>\n",
       "      <td>SDI OF LONGWOOD, FLORIDA, LLC</td>\n",
       "      <td>63110416.0</td>\n",
       "      <td>COMP_NM</td>\n",
       "      <td>3.0</td>\n",
       "      <td>MATCH</td>\n",
       "      <td>63110416.0</td>\n",
       "      <td>175141820.0</td>\n",
       "      <td>M07000001143</td>\n",
       "      <td>FL</td>\n",
       "      <td>MO</td>\n",
       "      <td>SDI OF LONGWOOD, FLORIDA, LLC</td>\n",
       "      <td>3.0</td>\n",
       "      <td>JURISDICTION MISMATCH</td>\n",
       "      <td>A</td>\n",
       "      <td>ACTIVE</td>\n",
       "      <td>ACTIVE</td>\n",
       "      <td>1.0</td>\n",
       "      <td>L2</td>\n",
       "      <td>FOREIGN LIMITED LIABILITY</td>\n",
       "      <td>MATCH</td>\n",
       "      <td>Active</td>\n",
       "      <td>Jacob Broussard</td>\n",
       "      <td>2004.0</td>\n",
       "      <td>1.0</td>\n",
       "      <td>NaN</td>\n",
       "    </tr>\n",
       "    <tr>\n",
       "      <th>4</th>\n",
       "      <td>Central Bancompany, Inc.</td>\n",
       "      <td>1006.0</td>\n",
       "      <td>212982463.0</td>\n",
       "      <td>CENTRAL BANK</td>\n",
       "      <td>MO</td>\n",
       "      <td>1601256555705.0</td>\n",
       "      <td>2016012512:48</td>\n",
       "      <td>COY'S AUTO REPAIR INC</td>\n",
       "      <td>62871482.0</td>\n",
       "      <td>COMP_NM</td>\n",
       "      <td>3.0</td>\n",
       "      <td>MATCH</td>\n",
       "      <td>62871482.0</td>\n",
       "      <td>249123075.0</td>\n",
       "      <td>956741.0</td>\n",
       "      <td>MO</td>\n",
       "      <td>MO</td>\n",
       "      <td>COY'S AUTO REPAIR INC</td>\n",
       "      <td>3.0</td>\n",
       "      <td>MATCH</td>\n",
       "      <td>E</td>\n",
       "      <td>ADMIN DISSOLVED PROFIT</td>\n",
       "      <td>ADMIN DISSOLVED PROFIT</td>\n",
       "      <td>NaN</td>\n",
       "      <td>4.0</td>\n",
       "      <td>GENERAL BUSINESS</td>\n",
       "      <td>MATCH</td>\n",
       "      <td>Need Attention</td>\n",
       "      <td>Jacob Broussard</td>\n",
       "      <td>2016.0</td>\n",
       "      <td>1.0</td>\n",
       "      <td>NaN</td>\n",
       "    </tr>\n",
       "  </tbody>\n",
       "</table>\n",
       "</div>"
      ],
      "text/plain": [
       "              Prospect Name  PROSPECT_ID    FILING_ID  \\\n",
       "0  Central Bancompany, Inc.       1006.0  212796282.0   \n",
       "1  Central Bancompany, Inc.       1006.0  213073524.0   \n",
       "2  Central Bancompany, Inc.       1006.0  212915051.0   \n",
       "3  Central Bancompany, Inc.       1006.0  238775664.0   \n",
       "4  Central Bancompany, Inc.       1006.0  212982463.0   \n",
       "\n",
       "                     SEC_PARTY_CMN_NM UCC_FILING_STATE_CD       FILING_NUM  \\\n",
       "0           CENTRAL BANK OF ST. LOUIS                  MO  1801029814542.0   \n",
       "1  CENTRAL BANK OF LAKE OF THE OZARKS                  MO     20060004815H   \n",
       "2  CENTRAL BANK OF LAKE OF THE OZARKS                  MO     20060004846A   \n",
       "3                      BANK OF JACOMO                  FL   200406033429.0   \n",
       "4                        CENTRAL BANK                  MO  1601256555705.0   \n",
       "\n",
       "    FILING_DT_TM                  DEBTOR_CMN_NM  UCC_PERM_ID MATCH_TYPE  \\\n",
       "0  2018010214:37                   KORLISS, LLC   58120280.0    COMP_NM   \n",
       "1  2006011212:12              FOLSOM RIDGE, LLC   32722350.0    COMP_NM   \n",
       "2  2006011212:25              FOLSOM RIDGE, LLC   32722350.0    COMP_NM   \n",
       "3     20040130.0  SDI OF LONGWOOD, FLORIDA, LLC   63110416.0    COMP_NM   \n",
       "4  2016012512:48          COY'S AUTO REPAIR INC   62871482.0    COMP_NM   \n",
       "\n",
       "  NM_MATCH_FLG DNMM_CATEGORY  CHT_PERM_ID        BE_ID      CORP_NUM  \\\n",
       "0          3.0         MATCH   58120280.0  249513018.0   FL001412038   \n",
       "1          3.0         MATCH   32722350.0  249120337.0     FL0019414   \n",
       "2          3.0         MATCH   32722350.0  249120337.0     FL0019414   \n",
       "3          3.0         MATCH   63110416.0  175141820.0  M07000001143   \n",
       "4          3.0         MATCH   62871482.0  249123075.0      956741.0   \n",
       "\n",
       "  CHT_FILING_STATE_CD INCORPORATION_STATE_CD                          BE_NM  \\\n",
       "0                  MO                     NV                   KORLISS, LLC   \n",
       "1                  MO                     CO              FOLSOM RIDGE, LLC   \n",
       "2                  MO                     CO              FOLSOM RIDGE, LLC   \n",
       "3                  FL                     MO  SDI OF LONGWOOD, FLORIDA, LLC   \n",
       "4                  MO                     MO          COY'S AUTO REPAIR INC   \n",
       "\n",
       "  STD_BUS_NM_TYPE_CD           JMM_CATEGORY SRC_BE_CUR_STS_CD  \\\n",
       "0                3.0  JURISDICTION MISMATCH                 A   \n",
       "1                3.0  JURISDICTION MISMATCH                 A   \n",
       "2                3.0  JURISDICTION MISMATCH                 A   \n",
       "3                3.0  JURISDICTION MISMATCH                 A   \n",
       "4                3.0                  MATCH                 E   \n",
       "\n",
       "              ENTITY_STAT  ENTITY_STATUS_CATEGORY  ENTITY_STATUS_CATEGORY_ID  \\\n",
       "0                  ACTIVE                  ACTIVE                        1.0   \n",
       "1                  ACTIVE                  ACTIVE                        1.0   \n",
       "2                  ACTIVE                  ACTIVE                        1.0   \n",
       "3                  ACTIVE                  ACTIVE                        1.0   \n",
       "4  ADMIN DISSOLVED PROFIT  ADMIN DISSOLVED PROFIT                        NaN   \n",
       "\n",
       "  SRC_CORP_TYPE_CD                ENTITY_TYPE DNMM categories 2  \\\n",
       "0              8.0  LIMITED LIABILITY COMPANY             MATCH   \n",
       "1              8.0  LIMITED LIABILITY COMPANY             MATCH   \n",
       "2              8.0  LIMITED LIABILITY COMPANY             MATCH   \n",
       "3               L2  FOREIGN LIMITED LIABILITY             MATCH   \n",
       "4              4.0           GENERAL BUSINESS             MATCH   \n",
       "\n",
       "  Entity status categories 2     Rep assigned  Filing Year Filing Month  \\\n",
       "0                     Active  Jacob Broussard       2018.0          1.0   \n",
       "1                     Active  Jacob Broussard       2006.0          1.0   \n",
       "2                     Active  Jacob Broussard       2006.0          1.0   \n",
       "3                     Active  Jacob Broussard       2004.0          1.0   \n",
       "4             Need Attention  Jacob Broussard       2016.0          1.0   \n",
       "\n",
       "  Date_Processed  \n",
       "0            NaN  \n",
       "1            NaN  \n",
       "2            NaN  \n",
       "3            NaN  \n",
       "4            NaN  "
      ]
     },
     "execution_count": 56,
     "metadata": {},
     "output_type": "execute_result"
    }
   ],
   "source": [
    "df_examples.head()"
   ]
  },
  {
   "cell_type": "code",
   "execution_count": 57,
   "metadata": {
    "ExecuteTime": {
     "end_time": "2020-07-06T09:35:54.412439Z",
     "start_time": "2020-07-06T09:35:54.369452Z"
    },
    "scrolled": false
   },
   "outputs": [
    {
     "name": "stdout",
     "output_type": "stream",
     "text": [
      "(120386, 32) (715, 30)\n",
      "(120386, 32) (715, 30)\n"
     ]
    }
   ],
   "source": [
    "print(df_examples.shape, df_sumbysf.shape)\n",
    "df_examples.drop(df_examples.filter(regex=\"Unname\"),axis=1, inplace=True)\n",
    "df_sumbysf.drop(df_sumbysf.filter(regex=\"Unname\"),axis=1, inplace=True)\n",
    "print(df_examples.shape, df_sumbysf.shape)"
   ]
  },
  {
   "cell_type": "code",
   "execution_count": 58,
   "metadata": {
    "ExecuteTime": {
     "end_time": "2020-07-06T09:35:59.355440Z",
     "start_time": "2020-07-06T09:35:59.233448Z"
    },
    "scrolled": false
   },
   "outputs": [
    {
     "name": "stdout",
     "output_type": "stream",
     "text": [
      "(735, 30)\n"
     ]
    }
   ],
   "source": [
    "df_sumbysf= df_sumbysf.append(final_df, sort= False)  \n",
    "print(df_sumbysf.shape)\n",
    "df_examples = df_examples.append(final_example_df, sort= False)"
   ]
  },
  {
   "cell_type": "code",
   "execution_count": 59,
   "metadata": {
    "ExecuteTime": {
     "end_time": "2020-07-06T09:36:02.480439Z",
     "start_time": "2020-07-06T09:36:02.476441Z"
    },
    "scrolled": true
   },
   "outputs": [
    {
     "name": "stdout",
     "output_type": "stream",
     "text": [
      "(120961, 32)\n"
     ]
    }
   ],
   "source": [
    "print(df_examples.shape)"
   ]
  },
  {
   "cell_type": "code",
   "execution_count": 60,
   "metadata": {
    "ExecuteTime": {
     "end_time": "2020-07-06T09:36:05.434480Z",
     "start_time": "2020-07-06T09:36:05.422479Z"
    },
    "scrolled": false
   },
   "outputs": [
    {
     "name": "stdout",
     "output_type": "stream",
     "text": [
      "(735, 30)\n",
      "(733, 30)\n"
     ]
    }
   ],
   "source": [
    "print(df_sumbysf.shape)\n",
    "df_sumbysf = df_sumbysf.drop_duplicates(subset = ['Prospect Name','Date_Processed'], keep='last') \n",
    "df_sumbysf = df_sumbysf.sort_values(by=['Date_Processed'])\n",
    "df_sumbysf = df_sumbysf.drop_duplicates(subset = ['Prospect Name'], keep='last') \n",
    "print(df_sumbysf.shape)"
   ]
  },
  {
   "cell_type": "code",
   "execution_count": 61,
   "metadata": {
    "ExecuteTime": {
     "end_time": "2020-07-06T09:36:13.117821Z",
     "start_time": "2020-07-06T09:36:09.091823Z"
    },
    "scrolled": false
   },
   "outputs": [],
   "source": [
    "df_sumbysf.to_csv('../output/SumBYSF_base_{}.csv'.format(Date) , index = False)\n",
    "df_sumbysf.to_csv('../input/SumBYSF_base.csv', index = False)\n",
    "\n",
    "df_examples.to_csv('../output/Examples_base_{}.csv'.format(Date), index = False)\n",
    "df_examples.to_csv('../input/Examples_base.csv', index = False)"
   ]
  },
  {
   "cell_type": "code",
   "execution_count": 62,
   "metadata": {
    "ExecuteTime": {
     "end_time": "2020-07-06T09:36:13.868828Z",
     "start_time": "2020-07-06T09:36:13.865861Z"
    },
    "scrolled": false
   },
   "outputs": [
    {
     "name": "stdout",
     "output_type": "stream",
     "text": [
      "(733, 30)\n"
     ]
    }
   ],
   "source": [
    "print(df_sumbysf.shape)"
   ]
  },
  {
   "cell_type": "markdown",
   "metadata": {},
   "source": [
    "#########################################################################3"
   ]
  },
  {
   "cell_type": "code",
   "execution_count": 63,
   "metadata": {
    "ExecuteTime": {
     "end_time": "2020-07-06T09:36:23.033905Z",
     "start_time": "2020-07-06T09:36:23.012906Z"
    },
    "scrolled": false
   },
   "outputs": [
    {
     "data": {
      "text/plain": [
       "(733, 30)"
      ]
     },
     "execution_count": 63,
     "metadata": {},
     "output_type": "execute_result"
    }
   ],
   "source": [
    "df_sumbysf= pd.read_csv(r'../input/SumBYSF_base.csv') \n",
    "df_sumbysf.drop(df_sumbysf.filter(regex=\"Unname\"),axis=1, inplace=True)\n",
    "df_sumbysf['Rep Assigned']= ''\n",
    "df_sumbysf['Selected?']= ''\n",
    "df_sumbysf.shape"
   ]
  },
  {
   "cell_type": "code",
   "execution_count": 64,
   "metadata": {
    "ExecuteTime": {
     "end_time": "2020-07-06T09:36:23.815917Z",
     "start_time": "2020-07-06T09:36:23.765904Z"
    },
    "scrolled": false
   },
   "outputs": [
    {
     "data": {
      "text/html": [
       "<div>\n",
       "<style scoped>\n",
       "    .dataframe tbody tr th:only-of-type {\n",
       "        vertical-align: middle;\n",
       "    }\n",
       "\n",
       "    .dataframe tbody tr th {\n",
       "        vertical-align: top;\n",
       "    }\n",
       "\n",
       "    .dataframe thead th {\n",
       "        text-align: right;\n",
       "    }\n",
       "</style>\n",
       "<table border=\"1\" class=\"dataframe\">\n",
       "  <thead>\n",
       "    <tr style=\"text-align: right;\">\n",
       "      <th></th>\n",
       "      <th>Prospect Name</th>\n",
       "      <th>Rep Assigned</th>\n",
       "      <th>KPI</th>\n",
       "      <th>Value</th>\n",
       "    </tr>\n",
       "  </thead>\n",
       "  <tbody>\n",
       "    <tr>\n",
       "      <th>0</th>\n",
       "      <td>Banco Santander SA</td>\n",
       "      <td></td>\n",
       "      <td>Filing Sets Count (for Business Liens)</td>\n",
       "      <td>86649.00</td>\n",
       "    </tr>\n",
       "    <tr>\n",
       "      <th>1</th>\n",
       "      <td>Amboy Bancorporation</td>\n",
       "      <td></td>\n",
       "      <td>Filing Sets Count (for Business Liens)</td>\n",
       "      <td>3036.00</td>\n",
       "    </tr>\n",
       "    <tr>\n",
       "      <th>2</th>\n",
       "      <td>Bank First National Corporation</td>\n",
       "      <td></td>\n",
       "      <td>Filing Sets Count (for Business Liens)</td>\n",
       "      <td>5387.00</td>\n",
       "    </tr>\n",
       "    <tr>\n",
       "      <th>3</th>\n",
       "      <td>Commercial Bancgroup, Inc.</td>\n",
       "      <td></td>\n",
       "      <td>Filing Sets Count (for Business Liens)</td>\n",
       "      <td>1393.00</td>\n",
       "    </tr>\n",
       "    <tr>\n",
       "      <th>4</th>\n",
       "      <td>1ST GLOBAL CAPITAL LLC</td>\n",
       "      <td></td>\n",
       "      <td>Filing Sets Count (for Business Liens)</td>\n",
       "      <td>737.00</td>\n",
       "    </tr>\n",
       "    <tr>\n",
       "      <th>...</th>\n",
       "      <td>...</td>\n",
       "      <td>...</td>\n",
       "      <td>...</td>\n",
       "      <td>...</td>\n",
       "    </tr>\n",
       "    <tr>\n",
       "      <th>19053</th>\n",
       "      <td>STATE BANK OF TEXAS</td>\n",
       "      <td></td>\n",
       "      <td>Entity Status - Active%</td>\n",
       "      <td>0.43</td>\n",
       "    </tr>\n",
       "    <tr>\n",
       "      <th>19054</th>\n",
       "      <td>Security Star Bancshares Inc</td>\n",
       "      <td></td>\n",
       "      <td>Entity Status - Active%</td>\n",
       "      <td>0.56</td>\n",
       "    </tr>\n",
       "    <tr>\n",
       "      <th>19055</th>\n",
       "      <td>Republic Bancorp, Inc.</td>\n",
       "      <td></td>\n",
       "      <td>Entity Status - Active%</td>\n",
       "      <td>0.47</td>\n",
       "    </tr>\n",
       "    <tr>\n",
       "      <th>19056</th>\n",
       "      <td>Koninklijke Philips N.V.</td>\n",
       "      <td></td>\n",
       "      <td>Entity Status - Active%</td>\n",
       "      <td>0.63</td>\n",
       "    </tr>\n",
       "    <tr>\n",
       "      <th>19057</th>\n",
       "      <td>Liberty Shares, Inc</td>\n",
       "      <td></td>\n",
       "      <td>Entity Status - Active%</td>\n",
       "      <td>0.16</td>\n",
       "    </tr>\n",
       "  </tbody>\n",
       "</table>\n",
       "<p>19058 rows × 4 columns</p>\n",
       "</div>"
      ],
      "text/plain": [
       "                         Prospect Name Rep Assigned  \\\n",
       "0                   Banco Santander SA                \n",
       "1                 Amboy Bancorporation                \n",
       "2      Bank First National Corporation                \n",
       "3           Commercial Bancgroup, Inc.                \n",
       "4               1ST GLOBAL CAPITAL LLC                \n",
       "...                                ...          ...   \n",
       "19053              STATE BANK OF TEXAS                \n",
       "19054     Security Star Bancshares Inc                \n",
       "19055           Republic Bancorp, Inc.                \n",
       "19056         Koninklijke Philips N.V.                \n",
       "19057              Liberty Shares, Inc                \n",
       "\n",
       "                                          KPI     Value  \n",
       "0      Filing Sets Count (for Business Liens)  86649.00  \n",
       "1      Filing Sets Count (for Business Liens)   3036.00  \n",
       "2      Filing Sets Count (for Business Liens)   5387.00  \n",
       "3      Filing Sets Count (for Business Liens)   1393.00  \n",
       "4      Filing Sets Count (for Business Liens)    737.00  \n",
       "...                                       ...       ...  \n",
       "19053                 Entity Status - Active%      0.43  \n",
       "19054                 Entity Status - Active%      0.56  \n",
       "19055                 Entity Status - Active%      0.47  \n",
       "19056                 Entity Status - Active%      0.63  \n",
       "19057                 Entity Status - Active%      0.16  \n",
       "\n",
       "[19058 rows x 4 columns]"
      ]
     },
     "execution_count": 64,
     "metadata": {},
     "output_type": "execute_result"
    }
   ],
   "source": [
    "summary = df_sumbysf.melt(id_vars=['Prospect Name', 'Selected?', 'Date_Processed', 'Rep Assigned'], var_name='KPI', value_name='Value')\n",
    "summary = summary[['Prospect Name', 'Rep Assigned','KPI','Value']]\n",
    "summary['Value'] = summary['Value'].apply(lambda x: round(x,2)).astype(float)\n",
    "summary"
   ]
  },
  {
   "cell_type": "code",
   "execution_count": 65,
   "metadata": {
    "ExecuteTime": {
     "end_time": "2020-07-06T09:36:27.305069Z",
     "start_time": "2020-07-06T09:36:27.292068Z"
    },
    "scrolled": false
   },
   "outputs": [],
   "source": [
    "summary['Prospect_Name_lower']= summary['Prospect Name'].str.lower()\n",
    "merged_df['Parent_Name_2019_lower']= merged_df['Parent name (per 2019 PR)'].str.lower()\n",
    "merged_df['Parent_Name_2018_lower']= merged_df['Parent name (per 2018 PR)'].str.lower()"
   ]
  },
  {
   "cell_type": "code",
   "execution_count": 66,
   "metadata": {
    "ExecuteTime": {
     "end_time": "2020-07-06T09:36:27.950069Z",
     "start_time": "2020-07-06T09:36:27.919069Z"
    },
    "scrolled": false
   },
   "outputs": [],
   "source": [
    "summary_2019 = pd.merge(left=merged_df, right= summary , right_on='Prospect_Name_lower', left_on='Parent_Name_2019_lower', how='inner')\n",
    "li_ = list(set(list(summary['Prospect_Name_lower']))- set(list(summary_2019['Parent_Name_2019_lower'])))"
   ]
  },
  {
   "cell_type": "code",
   "execution_count": 67,
   "metadata": {
    "ExecuteTime": {
     "end_time": "2020-07-06T09:36:28.635066Z",
     "start_time": "2020-07-06T09:36:28.631075Z"
    },
    "scrolled": true
   },
   "outputs": [],
   "source": [
    "summary_2019['Base_Prospect_Name'] = summary_2019['Parent name (per 2019 PR)']"
   ]
  },
  {
   "cell_type": "code",
   "execution_count": 68,
   "metadata": {
    "ExecuteTime": {
     "end_time": "2020-07-06T09:36:29.214089Z",
     "start_time": "2020-07-06T09:36:29.202068Z"
    },
    "scrolled": true
   },
   "outputs": [
    {
     "data": {
      "text/plain": [
       "(1690, 5)"
      ]
     },
     "execution_count": 68,
     "metadata": {},
     "output_type": "execute_result"
    }
   ],
   "source": [
    "summary_temp = summary[summary['Prospect_Name_lower'].isin(li_)]\n",
    "summary_temp.shape"
   ]
  },
  {
   "cell_type": "code",
   "execution_count": 69,
   "metadata": {
    "ExecuteTime": {
     "end_time": "2020-07-06T09:36:31.463980Z",
     "start_time": "2020-07-06T09:36:31.451993Z"
    },
    "scrolled": true
   },
   "outputs": [],
   "source": [
    "summary_2018 = pd.merge(left=merged_df, right= summary_temp , right_on='Prospect_Name_lower', left_on='Parent_Name_2018_lower', how='inner')\n",
    "summary_2018.shape\n",
    "summary_2018['Base_Prospect_Name'] = summary_2018['Parent name (per 2018 PR)']"
   ]
  },
  {
   "cell_type": "code",
   "execution_count": 70,
   "metadata": {
    "ExecuteTime": {
     "end_time": "2020-07-06T09:36:31.979982Z",
     "start_time": "2020-07-06T09:36:31.974981Z"
    },
    "scrolled": true
   },
   "outputs": [],
   "source": [
    "#summary_2018.shape"
   ]
  },
  {
   "cell_type": "code",
   "execution_count": 71,
   "metadata": {
    "ExecuteTime": {
     "end_time": "2020-07-06T09:36:32.518982Z",
     "start_time": "2020-07-06T09:36:32.477991Z"
    },
    "scrolled": true
   },
   "outputs": [],
   "source": [
    "summary_fin = pd.concat([summary_2019, summary_2018])"
   ]
  },
  {
   "cell_type": "code",
   "execution_count": 72,
   "metadata": {
    "ExecuteTime": {
     "end_time": "2020-07-06T09:36:34.330399Z",
     "start_time": "2020-07-06T09:36:34.326392Z"
    },
    "scrolled": true
   },
   "outputs": [
    {
     "data": {
      "text/plain": [
       "(18876, 21)"
      ]
     },
     "execution_count": 72,
     "metadata": {},
     "output_type": "execute_result"
    }
   ],
   "source": [
    "summary_fin.shape\n",
    "#summary_fin.drop_duplicates()\n",
    "#summary_fin[summary_fin['Parent name (per 2019 PR)'].str.contains('Carbucks of Carolina, Inc.')]"
   ]
  },
  {
   "cell_type": "code",
   "execution_count": 73,
   "metadata": {
    "ExecuteTime": {
     "end_time": "2020-07-06T09:36:35.433569Z",
     "start_time": "2020-07-06T09:36:35.419566Z"
    },
    "scrolled": false
   },
   "outputs": [
    {
     "data": {
      "text/plain": [
       "(18876, 18)"
      ]
     },
     "execution_count": 73,
     "metadata": {},
     "output_type": "execute_result"
    }
   ],
   "source": [
    "summary_fin = summary_fin.drop(columns=['Prospect_Name_lower', 'Parent_Name_2019_lower', 'Parent_Name_2018_lower'])\n",
    "summary_fin.shape"
   ]
  },
  {
   "cell_type": "code",
   "execution_count": 74,
   "metadata": {
    "ExecuteTime": {
     "end_time": "2020-07-06T09:36:40.787761Z",
     "start_time": "2020-07-06T09:36:40.782761Z"
    },
    "scrolled": false
   },
   "outputs": [],
   "source": [
    "#summary1[summary1['Prospect Name'].str.contains('Old Second Bancorp, Inc.')]\n",
    "#summary1[summary1['Prospect Name'].str.contains('NEW EQUIPMENT LEASING, INC.')]\n",
    "summary_fin['Prospect Name'] =  summary_fin['Parent name (per 2018 PR)']\n",
    "#summary1.columns\n",
    "#New Equipment Leasing, Inc."
   ]
  },
  {
   "cell_type": "code",
   "execution_count": 75,
   "metadata": {
    "ExecuteTime": {
     "end_time": "2020-07-06T09:36:41.385694Z",
     "start_time": "2020-07-06T09:36:41.382694Z"
    },
    "scrolled": true
   },
   "outputs": [
    {
     "data": {
      "text/plain": [
       "(18876, 18)"
      ]
     },
     "execution_count": 75,
     "metadata": {},
     "output_type": "execute_result"
    }
   ],
   "source": [
    "summary_fin.shape"
   ]
  },
  {
   "cell_type": "code",
   "execution_count": 76,
   "metadata": {
    "ExecuteTime": {
     "end_time": "2020-07-06T09:36:43.174396Z",
     "start_time": "2020-07-06T09:36:43.165374Z"
    },
    "scrolled": false
   },
   "outputs": [],
   "source": [
    "summary_fin = summary_fin.rename(columns= {'Public Record 2019 ': 'Public Record 2016', '% change 2019 vs. 2018': '% change 2017 vs. 2016', \n",
    "                    'Public Record 2018': 'Public Rdcord 2018', 'Public Record 2019 ':'Public Record 2016'})"
   ]
  },
  {
   "cell_type": "code",
   "execution_count": 77,
   "metadata": {
    "ExecuteTime": {
     "end_time": "2020-07-06T09:36:45.324425Z",
     "start_time": "2020-07-06T09:36:45.128291Z"
    },
    "scrolled": false
   },
   "outputs": [],
   "source": [
    "#summary_2019\n",
    "summary_fin.to_csv(r\"../output/summary.csv\" )"
   ]
  },
  {
   "cell_type": "markdown",
   "metadata": {},
   "source": [
    "####################################"
   ]
  },
  {
   "cell_type": "code",
   "execution_count": 78,
   "metadata": {
    "ExecuteTime": {
     "end_time": "2020-07-06T09:39:30.762897Z",
     "start_time": "2020-07-06T09:39:30.757893Z"
    },
    "scrolled": false
   },
   "outputs": [],
   "source": [
    "df_kpi = df_sumbysf[['Prospect Name', 'Rep Assigned',\n",
    "       'Filing Sets Count (for Business Liens)','JMM - Need Attention%','DNMM - Need Attention%','Entity Status - Entities that need attention%','Entity Status - Entities dissolved%']]"
   ]
  },
  {
   "cell_type": "code",
   "execution_count": 79,
   "metadata": {
    "ExecuteTime": {
     "end_time": "2020-07-06T09:39:40.586812Z",
     "start_time": "2020-07-06T09:39:40.570813Z"
    },
    "scrolled": true
   },
   "outputs": [],
   "source": [
    "df_kpi['Filing Sets Count (for Business Liens)'] = df_kpi['Filing Sets Count (for Business Liens)'].apply(lambda x: round(x,0)).astype(int)\n",
    "df_kpi['JMM - Need Attention%'] = df_kpi['JMM - Need Attention%'].apply(lambda x: round(x*100,2)).astype(float)\n",
    "df_kpi['DNMM - Need Attention%'] = df_kpi['DNMM - Need Attention%'].apply(lambda x: round(x*100,2)).astype(float)\n",
    "df_kpi['Entity Status - Entities that need attention%'] = df_kpi['Entity Status - Entities that need attention%'].apply(lambda x: round(x*100,2)).astype(float)\n",
    "df_kpi['Entity Status - Entities dissolved%'] = df_kpi['Entity Status - Entities dissolved%'].apply(lambda x: round(x*100,2)).astype(float)\n",
    "df_kpi['JMM - Need Attention%'] = df_kpi['JMM - Need Attention%'].apply(lambda x: round(x,2)).astype(float)\n",
    "#df_kpi['Prospect Name']= df_kpi['Prospect Name'].str.lower()"
   ]
  },
  {
   "cell_type": "code",
   "execution_count": 80,
   "metadata": {
    "ExecuteTime": {
     "end_time": "2020-07-06T09:39:46.016277Z",
     "start_time": "2020-07-06T09:39:46.001292Z"
    },
    "scrolled": true
   },
   "outputs": [
    {
     "data": {
      "text/html": [
       "<div>\n",
       "<style scoped>\n",
       "    .dataframe tbody tr th:only-of-type {\n",
       "        vertical-align: middle;\n",
       "    }\n",
       "\n",
       "    .dataframe tbody tr th {\n",
       "        vertical-align: top;\n",
       "    }\n",
       "\n",
       "    .dataframe thead th {\n",
       "        text-align: right;\n",
       "    }\n",
       "</style>\n",
       "<table border=\"1\" class=\"dataframe\">\n",
       "  <thead>\n",
       "    <tr style=\"text-align: right;\">\n",
       "      <th></th>\n",
       "      <th>Prospect Name</th>\n",
       "      <th>Rep Assigned</th>\n",
       "      <th>Filing Sets Count (for Business Liens)</th>\n",
       "      <th>JMM - Need Attention%</th>\n",
       "      <th>DNMM - Need Attention%</th>\n",
       "      <th>Entity Status - Entities that need attention%</th>\n",
       "      <th>Entity Status - Entities dissolved%</th>\n",
       "    </tr>\n",
       "  </thead>\n",
       "  <tbody>\n",
       "    <tr>\n",
       "      <th>0</th>\n",
       "      <td>Banco Santander SA</td>\n",
       "      <td></td>\n",
       "      <td>86649</td>\n",
       "      <td>20.49</td>\n",
       "      <td>24.09</td>\n",
       "      <td>8.90</td>\n",
       "      <td>10.24</td>\n",
       "    </tr>\n",
       "    <tr>\n",
       "      <th>1</th>\n",
       "      <td>Amboy Bancorporation</td>\n",
       "      <td></td>\n",
       "      <td>3036</td>\n",
       "      <td>1.35</td>\n",
       "      <td>0.99</td>\n",
       "      <td>0.82</td>\n",
       "      <td>0.00</td>\n",
       "    </tr>\n",
       "    <tr>\n",
       "      <th>2</th>\n",
       "      <td>Bank First National Corporation</td>\n",
       "      <td></td>\n",
       "      <td>5387</td>\n",
       "      <td>5.74</td>\n",
       "      <td>25.69</td>\n",
       "      <td>11.45</td>\n",
       "      <td>6.54</td>\n",
       "    </tr>\n",
       "    <tr>\n",
       "      <th>3</th>\n",
       "      <td>Commercial Bancgroup, Inc.</td>\n",
       "      <td></td>\n",
       "      <td>1393</td>\n",
       "      <td>5.38</td>\n",
       "      <td>28.12</td>\n",
       "      <td>12.60</td>\n",
       "      <td>4.91</td>\n",
       "    </tr>\n",
       "    <tr>\n",
       "      <th>4</th>\n",
       "      <td>1ST GLOBAL CAPITAL LLC</td>\n",
       "      <td></td>\n",
       "      <td>737</td>\n",
       "      <td>6.20</td>\n",
       "      <td>35.97</td>\n",
       "      <td>18.36</td>\n",
       "      <td>7.18</td>\n",
       "    </tr>\n",
       "    <tr>\n",
       "      <th>...</th>\n",
       "      <td>...</td>\n",
       "      <td>...</td>\n",
       "      <td>...</td>\n",
       "      <td>...</td>\n",
       "      <td>...</td>\n",
       "      <td>...</td>\n",
       "      <td>...</td>\n",
       "    </tr>\n",
       "    <tr>\n",
       "      <th>728</th>\n",
       "      <td>STATE BANK OF TEXAS</td>\n",
       "      <td></td>\n",
       "      <td>1647</td>\n",
       "      <td>6.55</td>\n",
       "      <td>23.85</td>\n",
       "      <td>21.97</td>\n",
       "      <td>7.51</td>\n",
       "    </tr>\n",
       "    <tr>\n",
       "      <th>729</th>\n",
       "      <td>Security Star Bancshares Inc</td>\n",
       "      <td></td>\n",
       "      <td>3183</td>\n",
       "      <td>1.10</td>\n",
       "      <td>24.95</td>\n",
       "      <td>17.06</td>\n",
       "      <td>5.89</td>\n",
       "    </tr>\n",
       "    <tr>\n",
       "      <th>730</th>\n",
       "      <td>Republic Bancorp, Inc.</td>\n",
       "      <td></td>\n",
       "      <td>13192</td>\n",
       "      <td>3.14</td>\n",
       "      <td>19.63</td>\n",
       "      <td>30.89</td>\n",
       "      <td>2.37</td>\n",
       "    </tr>\n",
       "    <tr>\n",
       "      <th>731</th>\n",
       "      <td>Koninklijke Philips N.V.</td>\n",
       "      <td></td>\n",
       "      <td>12892</td>\n",
       "      <td>15.17</td>\n",
       "      <td>16.82</td>\n",
       "      <td>11.43</td>\n",
       "      <td>3.67</td>\n",
       "    </tr>\n",
       "    <tr>\n",
       "      <th>732</th>\n",
       "      <td>Liberty Shares, Inc</td>\n",
       "      <td></td>\n",
       "      <td>5017</td>\n",
       "      <td>0.36</td>\n",
       "      <td>21.61</td>\n",
       "      <td>10.23</td>\n",
       "      <td>0.38</td>\n",
       "    </tr>\n",
       "  </tbody>\n",
       "</table>\n",
       "<p>733 rows × 7 columns</p>\n",
       "</div>"
      ],
      "text/plain": [
       "                       Prospect Name Rep Assigned  \\\n",
       "0                 Banco Santander SA                \n",
       "1               Amboy Bancorporation                \n",
       "2    Bank First National Corporation                \n",
       "3         Commercial Bancgroup, Inc.                \n",
       "4             1ST GLOBAL CAPITAL LLC                \n",
       "..                               ...          ...   \n",
       "728              STATE BANK OF TEXAS                \n",
       "729     Security Star Bancshares Inc                \n",
       "730           Republic Bancorp, Inc.                \n",
       "731         Koninklijke Philips N.V.                \n",
       "732              Liberty Shares, Inc                \n",
       "\n",
       "     Filing Sets Count (for Business Liens)  JMM - Need Attention%  \\\n",
       "0                                     86649                  20.49   \n",
       "1                                      3036                   1.35   \n",
       "2                                      5387                   5.74   \n",
       "3                                      1393                   5.38   \n",
       "4                                       737                   6.20   \n",
       "..                                      ...                    ...   \n",
       "728                                    1647                   6.55   \n",
       "729                                    3183                   1.10   \n",
       "730                                   13192                   3.14   \n",
       "731                                   12892                  15.17   \n",
       "732                                    5017                   0.36   \n",
       "\n",
       "     DNMM - Need Attention%  Entity Status - Entities that need attention%  \\\n",
       "0                     24.09                                           8.90   \n",
       "1                      0.99                                           0.82   \n",
       "2                     25.69                                          11.45   \n",
       "3                     28.12                                          12.60   \n",
       "4                     35.97                                          18.36   \n",
       "..                      ...                                            ...   \n",
       "728                   23.85                                          21.97   \n",
       "729                   24.95                                          17.06   \n",
       "730                   19.63                                          30.89   \n",
       "731                   16.82                                          11.43   \n",
       "732                   21.61                                          10.23   \n",
       "\n",
       "     Entity Status - Entities dissolved%  \n",
       "0                                  10.24  \n",
       "1                                   0.00  \n",
       "2                                   6.54  \n",
       "3                                   4.91  \n",
       "4                                   7.18  \n",
       "..                                   ...  \n",
       "728                                 7.51  \n",
       "729                                 5.89  \n",
       "730                                 2.37  \n",
       "731                                 3.67  \n",
       "732                                 0.38  \n",
       "\n",
       "[733 rows x 7 columns]"
      ]
     },
     "execution_count": 80,
     "metadata": {},
     "output_type": "execute_result"
    }
   ],
   "source": [
    "df_kpi"
   ]
  },
  {
   "cell_type": "code",
   "execution_count": 81,
   "metadata": {
    "ExecuteTime": {
     "end_time": "2020-07-06T09:40:00.650679Z",
     "start_time": "2020-07-06T09:40:00.637680Z"
    },
    "scrolled": false
   },
   "outputs": [
    {
     "data": {
      "text/plain": [
       "(733, 27)"
      ]
     },
     "execution_count": 81,
     "metadata": {},
     "output_type": "execute_result"
    }
   ],
   "source": [
    "#df_merge = df_master[['Parent name (per 2018 PR)','Sales assignemnt','Access_all_1','Access_all_2','Access_all_3','Access_all_4','Access_all_5']]\n",
    "#merged_df= pd.merge(left=df_merge,right=df_role, how='left' , right_on='Sale assigned', left_on='Sales assignemnt')\n",
    "df_kpi\n",
    "df_prospects['Prospect_lower']= df_prospects['Prospect'].str.lower()\n",
    "df_kpi['Prospect_Name_lower']= df_kpi['Prospect Name'].str.lower()\n",
    "df_kpi = pd.merge(left=df_kpi,right=df_prospects, how='left' , right_on='Prospect_lower', left_on='Prospect_Name_lower')\n",
    "df_kpi.shape\n",
    "#df_kpi"
   ]
  },
  {
   "cell_type": "code",
   "execution_count": 82,
   "metadata": {
    "ExecuteTime": {
     "end_time": "2020-07-06T09:40:10.826753Z",
     "start_time": "2020-07-06T09:40:10.823750Z"
    },
    "scrolled": false
   },
   "outputs": [
    {
     "data": {
      "text/plain": [
       "(1547, 42)"
      ]
     },
     "execution_count": 82,
     "metadata": {},
     "output_type": "execute_result"
    }
   ],
   "source": [
    "df_master.shape"
   ]
  },
  {
   "cell_type": "code",
   "execution_count": 83,
   "metadata": {
    "ExecuteTime": {
     "end_time": "2020-07-06T09:40:18.127023Z",
     "start_time": "2020-07-06T09:40:18.121023Z"
    },
    "scrolled": false
   },
   "outputs": [],
   "source": [
    "#df_kpi['Prospect_Name_lower']= df_kpi['Prospect Name'].str.lower()\n",
    "#df_master['Parent_Name_lower']= df_master['Parent name (per 2018 PR)'].str.lower()\n",
    "df_master['Parent_Name_2018_lower']= df_master['Parent name (per 2018 PR)'].str.lower()\n",
    "df_master['Parent_Name_2019_lower']= df_master['Parent name (per 2019 PR)'].str.lower()"
   ]
  },
  {
   "cell_type": "code",
   "execution_count": 84,
   "metadata": {
    "ExecuteTime": {
     "end_time": "2020-07-06T09:40:23.256093Z",
     "start_time": "2020-07-06T09:40:23.241059Z"
    },
    "scrolled": false
   },
   "outputs": [
    {
     "data": {
      "text/plain": [
       "(671, 73)"
      ]
     },
     "execution_count": 84,
     "metadata": {},
     "output_type": "execute_result"
    }
   ],
   "source": [
    "from datetime import date\n",
    "df_kpi['Updaed Date'] =  date.today()\n",
    "final = pd.merge(left=df_master, right= df_kpi , right_on='Prospect_Name_lower', left_on='Parent_Name_2019_lower', how='inner')\n",
    "final['Base_Prospect_Name'] = final['Parent name (per 2019 PR)']\n",
    "final.shape"
   ]
  },
  {
   "cell_type": "code",
   "execution_count": 85,
   "metadata": {
    "ExecuteTime": {
     "end_time": "2020-07-06T05:15:42.069938Z",
     "start_time": "2020-07-06T05:15:42.065936Z"
    }
   },
   "outputs": [
    {
     "data": {
      "text/plain": [
       "Index(['Index', 'Client (PAG)', 'Parent name (per 2018 PR)',\n",
       "       'Parent name (per 2019 PR)', 'Public Record 2016', 'Public Rdcord 2018',\n",
       "       '% change 2017 vs. 2016', 'SF share of public filing',\n",
       "       'WKLS share of public filing', '% of filing using non WKLS vendors',\n",
       "       '# of filing offices (/ # of filing zips)', 'UCC 3 % over total filing',\n",
       "       '# of filing jurisdictions', '# of jurisdictions w/ filing > 100',\n",
       "       'Top vol state', '2nd vol state', '3rd vol state',\n",
       "       'Top UCC vol State Srch rating', '2nd UCC vol State Srch rating',\n",
       "       '3rd UCC vol State Srch rating',\n",
       "       '% of filing vol in top 6 states (how disbursed?)',\n",
       "       'Self Filer Segments', 'Updated User type', 'Asset size (M)',\n",
       "       'Commercial loan value (M)', 'Commercial loans %', 'Consumer loans %',\n",
       "       'Real estate loan %', 'Auto (New & used) loan %', 'Delinquency rate',\n",
       "       'Personal Lien %', 'Business Lien%', '% Filing Date Order > 1',\n",
       "       'Sales assignemnt', 'Add'l Non CSC Competitor Info', 'Other Notes',\n",
       "       'Access_all_1', 'Access_all_2', 'Access_all_3', 'Access_all_4',\n",
       "       'Access_all_5', 'Access_all_6', 'Parent_Name_2018_lower',\n",
       "       'Parent_Name_2019_lower'],\n",
       "      dtype='object')"
      ]
     },
     "execution_count": 85,
     "metadata": {},
     "output_type": "execute_result"
    }
   ],
   "source": [
    "df_master.columns"
   ]
  },
  {
   "cell_type": "code",
   "execution_count": 86,
   "metadata": {
    "ExecuteTime": {
     "end_time": "2020-07-06T05:15:43.773040Z",
     "start_time": "2020-07-06T05:15:43.769046Z"
    },
    "scrolled": true
   },
   "outputs": [],
   "source": [
    "#temp"
   ]
  },
  {
   "cell_type": "code",
   "execution_count": 87,
   "metadata": {
    "ExecuteTime": {
     "end_time": "2020-07-06T09:40:30.943351Z",
     "start_time": "2020-07-06T09:40:30.924354Z"
    },
    "scrolled": true
   },
   "outputs": [
    {
     "data": {
      "text/plain": [
       "(53, 73)"
      ]
     },
     "execution_count": 87,
     "metadata": {},
     "output_type": "execute_result"
    }
   ],
   "source": [
    "list_= list(final['Prospect_Name_lower'])\n",
    "df_temp = df_master[~df_master['Parent_Name_2019_lower'].isin(list_)]\n",
    "final_temp = pd.merge(left=df_temp, right= df_kpi , right_on='Prospect_Name_lower', left_on='Parent_Name_2018_lower', how='inner')\n",
    "final_temp['Base_Prospect_Name'] = final_temp['Parent name (per 2018 PR)']\n",
    "final_temp.shape"
   ]
  },
  {
   "cell_type": "code",
   "execution_count": 88,
   "metadata": {
    "ExecuteTime": {
     "end_time": "2020-07-06T09:40:37.226141Z",
     "start_time": "2020-07-06T09:40:37.207135Z"
    },
    "scrolled": true
   },
   "outputs": [
    {
     "data": {
      "text/plain": [
       "(823, 45)"
      ]
     },
     "execution_count": 88,
     "metadata": {},
     "output_type": "execute_result"
    }
   ],
   "source": [
    "list_temp= list(final_temp['Prospect_Name_lower'])\n",
    "#li_ = list(set(list(df_master['Parent_Name_2019_lower']))- set(list(final['Prospect_Name_lower'])))\n",
    "df_temp_fin = df_temp[~df_temp['Parent_Name_2018_lower'].isin(list_temp)]\n",
    "base_prospect_name=[]\n",
    "for line in df_temp_fin[['Parent name (per 2019 PR)', 'Parent name (per 2018 PR)']].itertuples():\n",
    "    if line[1] != '':\n",
    "        base_prospect_name.append(line[1])\n",
    "    elif line[2] != '':\n",
    "        base_prospect_name.append(line[2])\n",
    "    else:\n",
    "        base_prospect_name.append('Unknown')\n",
    "\n",
    "df_temp_fin['Base_Prospect_Name'] = np.asarray(base_prospect_name)\n",
    "#final_fin = pd.merge(left=df_temp_fin, right= df_kpi , right_on='Prospect_Name_lower', left_on='Parent_Name_2018_lower', how='inner')\n",
    "df_temp_fin.shape"
   ]
  },
  {
   "cell_type": "code",
   "execution_count": 89,
   "metadata": {
    "ExecuteTime": {
     "end_time": "2020-07-06T09:40:44.398438Z",
     "start_time": "2020-07-06T09:40:44.370831Z"
    },
    "scrolled": true
   },
   "outputs": [],
   "source": [
    "kpi_fin = pd.concat([final, final_temp, df_temp_fin])"
   ]
  },
  {
   "cell_type": "code",
   "execution_count": 90,
   "metadata": {
    "ExecuteTime": {
     "end_time": "2020-07-06T09:40:52.449122Z",
     "start_time": "2020-07-06T09:40:52.445119Z"
    },
    "scrolled": true
   },
   "outputs": [
    {
     "data": {
      "text/plain": [
       "(1547, 73)"
      ]
     },
     "execution_count": 90,
     "metadata": {},
     "output_type": "execute_result"
    }
   ],
   "source": [
    "kpi_fin.shape"
   ]
  },
  {
   "cell_type": "code",
   "execution_count": 91,
   "metadata": {
    "ExecuteTime": {
     "end_time": "2020-07-06T09:40:57.717864Z",
     "start_time": "2020-07-06T09:40:57.713865Z"
    },
    "scrolled": false
   },
   "outputs": [],
   "source": [
    "kpi_fin['Prospect Name'] = kpi_fin['Prospect Name'].fillna('')"
   ]
  },
  {
   "cell_type": "code",
   "execution_count": 92,
   "metadata": {
    "ExecuteTime": {
     "end_time": "2020-07-06T09:40:58.718249Z",
     "start_time": "2020-07-06T09:40:58.704243Z"
    },
    "scrolled": false
   },
   "outputs": [
    {
     "data": {
      "text/plain": [
       "(1547, 77)"
      ]
     },
     "execution_count": 92,
     "metadata": {},
     "output_type": "execute_result"
    }
   ],
   "source": [
    "#final['Sales assignemnt']=final['Sales assignemnt'].str.lower()\n",
    "#df_role['Sale assigned']=df_role['Sale assigned'].str.lower()\n",
    "final= pd.merge(left=kpi_fin,right=df_role, how='left' , right_on='Sale assigned', left_on='Sales assignemnt')\n",
    "final.shape"
   ]
  },
  {
   "cell_type": "code",
   "execution_count": 93,
   "metadata": {
    "ExecuteTime": {
     "end_time": "2020-07-06T09:40:59.695899Z",
     "start_time": "2020-07-06T09:40:59.692903Z"
    },
    "scrolled": false
   },
   "outputs": [],
   "source": [
    "# df_prospects.shape\n",
    "# #df_prospects['Prospect'] = df_prospects['Prospect'].str.lower()\n",
    "# final_with_seg = pd.merge(left=final,right=df_prospects, how='left' , right_on='Prospect_Name_lower', left_on='Parent_Name_lower') \n",
    "# final_with_seg.shape\n"
   ]
  },
  {
   "cell_type": "code",
   "execution_count": 94,
   "metadata": {
    "ExecuteTime": {
     "end_time": "2020-07-06T09:41:03.000971Z",
     "start_time": "2020-07-06T09:41:02.995002Z"
    },
    "scrolled": true
   },
   "outputs": [
    {
     "data": {
      "text/plain": [
       "4"
      ]
     },
     "execution_count": 94,
     "metadata": {},
     "output_type": "execute_result"
    }
   ],
   "source": [
    "final.columns\n",
    "len(final['Base_Prospect_Name'])- final['Base_Prospect_Name'].nunique()"
   ]
  },
  {
   "cell_type": "code",
   "execution_count": 95,
   "metadata": {
    "ExecuteTime": {
     "end_time": "2020-07-06T09:41:04.652007Z",
     "start_time": "2020-07-06T09:41:04.642006Z"
    },
    "scrolled": false
   },
   "outputs": [],
   "source": [
    "final_with_seg = final.drop(columns=['Prospect_Name_lower', 'Prospect_lower', 'Parent_Name_2018_lower', 'Parent_Name_2019_lower'])"
   ]
  },
  {
   "cell_type": "code",
   "execution_count": 96,
   "metadata": {
    "ExecuteTime": {
     "end_time": "2020-07-06T09:41:05.060044Z",
     "start_time": "2020-07-06T09:41:05.049005Z"
    },
    "scrolled": false
   },
   "outputs": [],
   "source": [
    "final_with_seg = final_with_seg.rename(columns= {'Public Record 2019 ': 'Public Record 2016', '% change 2019 vs. 2018': '% change 2017 vs. 2016', \n",
    "                    'Public Record 2018': 'Public Rdcord 2018', 'Public Record 2019 ':'Public Record 2016'})"
   ]
  },
  {
   "cell_type": "code",
   "execution_count": 97,
   "metadata": {
    "ExecuteTime": {
     "end_time": "2020-07-06T09:41:05.470007Z",
     "start_time": "2020-07-06T09:41:05.460006Z"
    },
    "scrolled": false
   },
   "outputs": [],
   "source": [
    "final_with_seg_2019 = final_with_seg.rename(columns= {'Public Record 2016':'Public Record 2019 ', '% change 2017 vs. 2016':'% change 2019 vs. 2018' \n",
    "                    ,'Public Record 2016':'Public Record 2019 '})"
   ]
  },
  {
   "cell_type": "code",
   "execution_count": 98,
   "metadata": {
    "ExecuteTime": {
     "end_time": "2020-07-06T09:41:05.988035Z",
     "start_time": "2020-07-06T09:41:05.982010Z"
    },
    "scrolled": true
   },
   "outputs": [
    {
     "data": {
      "text/plain": [
       "(1547, 73)"
      ]
     },
     "execution_count": 98,
     "metadata": {},
     "output_type": "execute_result"
    }
   ],
   "source": [
    "final_with_seg.shape"
   ]
  },
  {
   "cell_type": "code",
   "execution_count": 99,
   "metadata": {
    "ExecuteTime": {
     "end_time": "2020-07-06T09:41:07.142262Z",
     "start_time": "2020-07-06T09:41:07.015103Z"
    },
    "scrolled": false
   },
   "outputs": [],
   "source": [
    "final_with_seg.to_csv(r\"../output/KPI.csv\" )\n",
    "final_with_seg_2019.to_csv(r\"../output/KPI_2019.csv\" )"
   ]
  },
  {
   "cell_type": "markdown",
   "metadata": {},
   "source": [
    "# More Examples"
   ]
  },
  {
   "cell_type": "code",
   "execution_count": 100,
   "metadata": {
    "ExecuteTime": {
     "end_time": "2020-07-06T09:41:31.291010Z",
     "start_time": "2020-07-06T09:41:30.547098Z"
    },
    "scrolled": false
   },
   "outputs": [
    {
     "data": {
      "text/plain": [
       "(120961, 32)"
      ]
     },
     "execution_count": 100,
     "metadata": {},
     "output_type": "execute_result"
    }
   ],
   "source": [
    "df_examples = pd.read_csv('../input/Examples_base.csv') \n",
    "df_examples.shape"
   ]
  },
  {
   "cell_type": "code",
   "execution_count": 101,
   "metadata": {
    "ExecuteTime": {
     "end_time": "2020-07-06T09:41:37.382077Z",
     "start_time": "2020-07-06T09:41:37.346077Z"
    },
    "scrolled": false
   },
   "outputs": [
    {
     "data": {
      "text/plain": [
       "(120961, 32)"
      ]
     },
     "execution_count": 101,
     "metadata": {},
     "output_type": "execute_result"
    }
   ],
   "source": [
    "df_examples.drop(df_examples.filter(regex=\"Unname\"),axis=1, inplace=True)\n",
    "df_examples.shape"
   ]
  },
  {
   "cell_type": "code",
   "execution_count": 102,
   "metadata": {
    "ExecuteTime": {
     "end_time": "2020-07-06T09:41:38.001835Z",
     "start_time": "2020-07-06T09:41:37.998827Z"
    },
    "scrolled": false
   },
   "outputs": [],
   "source": [
    "def to_camel(word):\n",
    "        import re\n",
    "        return ' '.join(x.capitalize() or '_' for x in word.split(' '))"
   ]
  },
  {
   "cell_type": "code",
   "execution_count": 103,
   "metadata": {
    "ExecuteTime": {
     "end_time": "2020-07-06T09:41:40.538733Z",
     "start_time": "2020-07-06T09:41:39.969593Z"
    },
    "scrolled": false
   },
   "outputs": [],
   "source": [
    "list_dnmm=[]; list_entity=[]\n",
    "for line in df_examples[['DNMM categories 2', 'Entity status categories 2']].itertuples():\n",
    "    list_dnmm.append(to_camel(str(line[1])))\n",
    "    list_entity.append(to_camel(line[2]))\n",
    "df_examples['DNMM categories 2'] = np.asarray(list_dnmm)\n",
    "df_examples['Entity status categories 2'] = np.asarray(list_entity)"
   ]
  },
  {
   "cell_type": "code",
   "execution_count": 104,
   "metadata": {
    "ExecuteTime": {
     "end_time": "2020-07-06T09:41:40.620594Z",
     "start_time": "2020-07-06T09:41:40.582564Z"
    },
    "scrolled": false
   },
   "outputs": [],
   "source": [
    "df_examples['Prospect_Name_lower']= df_examples['Prospect Name'].str.lower()\n",
    "#merged_df['Parent_Name_lower']= merged_df['Parent name (per 2018 PR)'].str.lower()"
   ]
  },
  {
   "cell_type": "code",
   "execution_count": 105,
   "metadata": {
    "ExecuteTime": {
     "end_time": "2020-07-06T09:41:54.610324Z",
     "start_time": "2020-07-06T09:41:54.603326Z"
    },
    "scrolled": true
   },
   "outputs": [],
   "source": [
    "merged_df['Parent_Name_2019_lower']= merged_df['Parent name (per 2019 PR)'].str.lower()\n",
    "merged_df['Parent_Name_2018_lower']= merged_df['Parent name (per 2018 PR)'].str.lower()"
   ]
  },
  {
   "cell_type": "code",
   "execution_count": 106,
   "metadata": {
    "ExecuteTime": {
     "end_time": "2020-07-06T09:41:55.259300Z",
     "start_time": "2020-07-06T09:41:55.255323Z"
    },
    "scrolled": true
   },
   "outputs": [
    {
     "data": {
      "text/plain": [
       "(1547, 15)"
      ]
     },
     "execution_count": 106,
     "metadata": {},
     "output_type": "execute_result"
    }
   ],
   "source": [
    "merged_df.shape"
   ]
  },
  {
   "cell_type": "code",
   "execution_count": 107,
   "metadata": {
    "ExecuteTime": {
     "end_time": "2020-07-06T09:41:56.088340Z",
     "start_time": "2020-07-06T09:41:55.873373Z"
    },
    "scrolled": false
   },
   "outputs": [
    {
     "data": {
      "text/plain": [
       "(111877, 49)"
      ]
     },
     "execution_count": 107,
     "metadata": {},
     "output_type": "execute_result"
    }
   ],
   "source": [
    "df_examples_temp = pd.merge(left=merged_df, right= df_examples , right_on='Prospect_Name_lower', left_on='Parent_Name_2019_lower', how='inner')\n",
    "df_examples_temp['Base_Prospect_Name'] = df_examples_temp['Parent name (per 2019 PR)']\n",
    "df_examples_temp.shape"
   ]
  },
  {
   "cell_type": "code",
   "execution_count": 108,
   "metadata": {
    "ExecuteTime": {
     "end_time": "2020-07-06T09:42:01.695911Z",
     "start_time": "2020-07-06T09:42:01.670934Z"
    },
    "scrolled": true
   },
   "outputs": [
    {
     "data": {
      "text/plain": [
       "67"
      ]
     },
     "execution_count": 108,
     "metadata": {},
     "output_type": "execute_result"
    }
   ],
   "source": [
    "li_ = list(set(list(df_examples['Prospect_Name_lower'])) - set(list(df_examples_temp['Parent_Name_2019_lower'])))\n",
    "len(li_)"
   ]
  },
  {
   "cell_type": "code",
   "execution_count": 109,
   "metadata": {
    "ExecuteTime": {
     "end_time": "2020-07-06T09:42:06.396210Z",
     "start_time": "2020-07-06T09:42:06.328150Z"
    },
    "scrolled": true
   },
   "outputs": [
    {
     "data": {
      "text/plain": [
       "(9235, 33)"
      ]
     },
     "execution_count": 109,
     "metadata": {},
     "output_type": "execute_result"
    }
   ],
   "source": [
    "df_temp = df_examples[df_examples['Prospect_Name_lower'].isin(li_)]\n",
    "df_temp.shape"
   ]
  },
  {
   "cell_type": "code",
   "execution_count": 110,
   "metadata": {
    "ExecuteTime": {
     "end_time": "2020-07-06T09:42:07.104830Z",
     "start_time": "2020-07-06T09:42:07.058827Z"
    },
    "scrolled": true
   },
   "outputs": [
    {
     "data": {
      "text/plain": [
       "(3707, 49)"
      ]
     },
     "execution_count": 110,
     "metadata": {},
     "output_type": "execute_result"
    }
   ],
   "source": [
    "df_examples_temp_2 = pd.merge(left=merged_df, right= df_temp , right_on='Prospect_Name_lower', left_on='Parent_Name_2018_lower', how='inner')\n",
    "df_examples_temp_2['Base_Prospect_Name'] = df_examples_temp_2['Parent name (per 2018 PR)']\n",
    "df_examples_temp_2.shape"
   ]
  },
  {
   "cell_type": "code",
   "execution_count": 111,
   "metadata": {
    "ExecuteTime": {
     "end_time": "2020-07-06T09:42:12.924549Z",
     "start_time": "2020-07-06T09:42:12.664552Z"
    },
    "scrolled": true
   },
   "outputs": [
    {
     "data": {
      "text/plain": [
       "(115584, 49)"
      ]
     },
     "execution_count": 111,
     "metadata": {},
     "output_type": "execute_result"
    }
   ],
   "source": [
    "df_examples = pd.concat([df_examples_temp, df_examples_temp_2])\n",
    "df_examples.shape"
   ]
  },
  {
   "cell_type": "code",
   "execution_count": 112,
   "metadata": {
    "ExecuteTime": {
     "end_time": "2020-07-06T09:42:15.929409Z",
     "start_time": "2020-07-06T09:42:15.918409Z"
    },
    "scrolled": true
   },
   "outputs": [],
   "source": [
    "df_examples['Filing Month'] =df_examples['Filing Month'].fillna('') "
   ]
  },
  {
   "cell_type": "code",
   "execution_count": 113,
   "metadata": {
    "ExecuteTime": {
     "end_time": "2020-07-06T09:42:16.453430Z",
     "start_time": "2020-07-06T09:42:16.450432Z"
    },
    "scrolled": true
   },
   "outputs": [],
   "source": [
    "#df_examples['FILING_NUM'] = df_examples['FILING_NUM'].apply(lambda x: int(x))"
   ]
  },
  {
   "cell_type": "code",
   "execution_count": 114,
   "metadata": {
    "ExecuteTime": {
     "end_time": "2020-07-06T09:42:31.322492Z",
     "start_time": "2020-07-06T09:42:31.192526Z"
    },
    "scrolled": true
   },
   "outputs": [],
   "source": [
    "# df_examples['FILING_NUM'] = df_examples['FILING_NUM'].apply(lambda x: str(x))\n",
    "# df_examples['Filing Month'] = df_examples['Filing Month'].apply(lambda x: str(x))\n",
    "# df_examples['NM_MATCH_FLG'] = df_examples['NM_MATCH_FLG'].apply(lambda x: str(x))\n",
    "\n",
    "df_examples['FILING_NUM'] = df_examples['FILING_NUM'].apply(lambda x: \"'\" + str(x) + \"'\")\n",
    "df_examples['Filing Month'] = df_examples['Filing Month'].apply(lambda x: \"'\" + str(x) + \"'\")\n",
    "df_examples['NM_MATCH_FLG'] = df_examples['NM_MATCH_FLG'].apply(lambda x: \"'\" + str(x) + \"'\")\n",
    "\n",
    "# df_examples['FILING_NUM'] = df_examples['FILING_NUM'].astype(str)\n",
    "# df_examples['Filing Month'] = df_examples['Filing Month'].astype(str)\n",
    "# df_examples['NM_MATCH_FLG'] = df_examples['NM_MATCH_FLG'].astype(str)"
   ]
  },
  {
   "cell_type": "code",
   "execution_count": 115,
   "metadata": {
    "ExecuteTime": {
     "end_time": "2020-07-06T09:42:31.738258Z",
     "start_time": "2020-07-06T09:42:31.736257Z"
    },
    "scrolled": true
   },
   "outputs": [],
   "source": [
    "#df_examples[df_examples['Parent name (per 2019 PR)'].str.contains('Carbucks')]"
   ]
  },
  {
   "cell_type": "code",
   "execution_count": 116,
   "metadata": {
    "ExecuteTime": {
     "end_time": "2020-07-06T09:42:46.179996Z",
     "start_time": "2020-07-06T09:42:45.991608Z"
    },
    "scrolled": false
   },
   "outputs": [],
   "source": [
    "df_examples = df_examples.drop(columns=['Parent_Name_2018_lower', 'Parent_Name_2019_lower', 'Prospect_Name_lower'])\n",
    "df_examples['Prospect Name']= df_examples['Parent name (per 2018 PR)']"
   ]
  },
  {
   "cell_type": "code",
   "execution_count": 117,
   "metadata": {
    "ExecuteTime": {
     "end_time": "2020-07-06T09:42:47.984585Z",
     "start_time": "2020-07-06T09:42:47.980595Z"
    },
    "scrolled": false
   },
   "outputs": [
    {
     "data": {
      "text/plain": [
       "(115584, 46)"
      ]
     },
     "execution_count": 117,
     "metadata": {},
     "output_type": "execute_result"
    }
   ],
   "source": [
    "df_examples.shape"
   ]
  },
  {
   "cell_type": "code",
   "execution_count": 118,
   "metadata": {
    "ExecuteTime": {
     "end_time": "2020-07-06T09:42:48.942380Z",
     "start_time": "2020-07-06T09:42:48.940384Z"
    },
    "scrolled": false
   },
   "outputs": [],
   "source": [
    "# df_examples = df_examples.rename(columns= {'Public Record 2019 ': 'Public Record 2016', '% change 2019 vs. 2018': '% change 2017 vs. 2016', \n",
    "#                     'Public Record 2018': 'Public Rdcord 2018', 'Public Record 2019 ':'Public Record 2016'})"
   ]
  },
  {
   "cell_type": "code",
   "execution_count": 120,
   "metadata": {
    "ExecuteTime": {
     "end_time": "2020-07-06T09:42:52.379757Z",
     "start_time": "2020-07-06T09:42:49.609881Z"
    },
    "scrolled": false
   },
   "outputs": [],
   "source": [
    "df_examples.to_csv(r\"../output/Examples.csv\" )"
   ]
  },
  {
   "cell_type": "code",
   "execution_count": 128,
   "metadata": {
    "ExecuteTime": {
     "end_time": "2020-07-06T09:43:10.333381Z",
     "start_time": "2020-07-06T09:43:10.329381Z"
    },
    "scrolled": false
   },
   "outputs": [
    {
     "data": {
      "text/plain": [
       "(115009, 46)"
      ]
     },
     "execution_count": 128,
     "metadata": {},
     "output_type": "execute_result"
    }
   ],
   "source": [
    "df_examples.shape"
   ]
  },
  {
   "cell_type": "code",
   "execution_count": null,
   "metadata": {
    "scrolled": false
   },
   "outputs": [],
   "source": []
  },
  {
   "cell_type": "code",
   "execution_count": null,
   "metadata": {
    "scrolled": false
   },
   "outputs": [],
   "source": []
  }
 ],
 "metadata": {
  "kernelspec": {
   "display_name": "Python 3",
   "language": "python",
   "name": "python3"
  },
  "language_info": {
   "codemirror_mode": {
    "name": "ipython",
    "version": 3
   },
   "file_extension": ".py",
   "mimetype": "text/x-python",
   "name": "python",
   "nbconvert_exporter": "python",
   "pygments_lexer": "ipython3",
   "version": "3.7.4"
  },
  "latex_envs": {
   "LaTeX_envs_menu_present": true,
   "autoclose": false,
   "autocomplete": true,
   "bibliofile": "biblio.bib",
   "cite_by": "apalike",
   "current_citInitial": 1,
   "eqLabelWithNumbers": true,
   "eqNumInitial": 1,
   "hotkeys": {
    "equation": "Ctrl-E",
    "itemize": "Ctrl-I"
   },
   "labels_anchors": false,
   "latex_user_defs": false,
   "report_style_numbering": false,
   "user_envs_cfg": false
  },
  "toc": {
   "base_numbering": 1,
   "nav_menu": {},
   "number_sections": true,
   "sideBar": true,
   "skip_h1_title": false,
   "title_cell": "Table of Contents",
   "title_sidebar": "Contents",
   "toc_cell": false,
   "toc_position": {},
   "toc_section_display": true,
   "toc_window_display": false
  }
 },
 "nbformat": 4,
 "nbformat_minor": 2
}
